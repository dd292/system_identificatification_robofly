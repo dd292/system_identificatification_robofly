{
 "cells": [
  {
   "cell_type": "code",
   "execution_count": 247,
   "metadata": {},
   "outputs": [],
   "source": [
    "import numpy as np\n",
    "import matplotlib.pyplot as plt\n",
    "from scipy.integrate import *\n",
    "import pandas as pd"
   ]
  },
  {
   "cell_type": "markdown",
   "metadata": {},
   "source": [
    "### The Pendulum Equation is given by:\n",
    "\n",
    "$ \\dot{x_1} = x_2$\n",
    "\n",
    "$ \\dot{x_2} = - a^2 \\sin x_1 $\n",
    "\n",
    "### and the Hamiltonian is given by:\n",
    "\n",
    "$ H = \\frac{x_2^2}{2}-\\cos x_1$"
   ]
  },
  {
   "cell_type": "code",
   "execution_count": 248,
   "metadata": {},
   "outputs": [],
   "source": [
    "# define the system ODE\n",
    "\n",
    "def pendulum(t,X,a):\n",
    "    # define individual ODEs or rates of change\n",
    "    dx1dt = X[1]\n",
    "    dx2dt = -(a**2)*np.sin(X[0])\n",
    "    # collect rates of change\n",
    "    dXdt = np.asarray([dx1dt,dx2dt])\n",
    "    # return the result\n",
    "    return dXdt\n",
    "\n",
    "\n",
    "# define the hamiltonian for the system\n",
    "def Hamiltonian(X):\n",
    "    \n",
    "    x1 = X[0]; x2 = X[1]\n",
    "    \n",
    "    H = (x2**2)/2-np.cos(x1)\n",
    "    \n",
    "    return H"
   ]
  },
  {
   "cell_type": "markdown",
   "metadata": {},
   "source": [
    "### Collect Trajectories"
   ]
  },
  {
   "cell_type": "code",
   "execution_count": 249,
   "metadata": {},
   "outputs": [],
   "source": [
    "dt = 0.001 # time step\n",
    "tspan = [0, 10] # initial and final time\n",
    "t_vec = np.arange(0,10,dt) # time vector\n",
    "x0 = [1, -1] # initial condition\n",
    "\n",
    "a = 1 # parameter for the pendulum equation\n",
    "\n",
    "states = solve_ivp(pendulum, tspan, x0, t_eval = t_vec , args = (a,))\n",
    "\n",
    "t = states.t\n",
    "X = states.y"
   ]
  },
  {
   "cell_type": "code",
   "execution_count": 250,
   "metadata": {},
   "outputs": [
    {
     "data": {
      "text/plain": [
       "Text(0.5, 1.0, 'Pendulum System State Evolution')"
      ]
     },
     "execution_count": 250,
     "metadata": {},
     "output_type": "execute_result"
    },
    {
     "data": {
      "image/png": "[encoded data removed]",
      "text/plain": [
       "<Figure size 432x288 with 1 Axes>"
      ]
     },
     "metadata": {},
     "output_type": "display_data"
    }
   ],
   "source": [
    "plt.plot(t,states.y[0,:],label = 'x_1')\n",
    "plt.plot(t,states.y[1,:],label = 'x_2')\n",
    "plt.legend()\n",
    "plt.xlabel('time')\n",
    "plt.ylabel('states')\n",
    "plt.title('Pendulum System State Evolution')"
   ]
  },
  {
   "cell_type": "markdown",
   "metadata": {},
   "source": [
    "### Identify Koopman Eigenfunction with Lambda = 0 (Hamiltonian) from Full Trajectory for Truth/Reference"
   ]
  },
  {
   "cell_type": "code",
   "execution_count": 251,
   "metadata": {},
   "outputs": [],
   "source": [
    "Hamilt = [Hamiltonian(X[:,i]) for i in range(X.shape[1])]"
   ]
  },
  {
   "cell_type": "markdown",
   "metadata": {},
   "source": [
    "### Compute Derivatives Using Fourth Order Central Difference"
   ]
  },
  {
   "cell_type": "code",
   "execution_count": 252,
   "metadata": {},
   "outputs": [],
   "source": [
    "def fourth_order_dev(X):\n",
    "    \n",
    "    nstates = 2\n",
    "    dX = np.zeros([nstates,X.shape[1]-4])\n",
    "\n",
    "    for i in range(nstates):\n",
    "        dX[i,:] = (1/(12*dt)) * (-X[i,4:] + 8*X[i,3:-1] - 8*X[i,1:-3] + X[i,:-4]) \n",
    "        \n",
    "    X = X[:,2:-2]\n",
    "    \n",
    "    return X,dX"
   ]
  },
  {
   "cell_type": "code",
   "execution_count": 253,
   "metadata": {},
   "outputs": [],
   "source": [
    "X,dX = fourth_order_dev(X)"
   ]
  },
  {
   "cell_type": "markdown",
   "metadata": {},
   "source": [
    "### Build Theta"
   ]
  },
  {
   "cell_type": "code",
   "execution_count": 254,
   "metadata": {},
   "outputs": [],
   "source": [
    "def buildTheta(yin,polyorder,usesine):\n",
    "    \n",
    "    n = yin.shape[1]\n",
    "    nVars = yin.shape[0]\n",
    "    \n",
    "    # first entry for first order polynomial\n",
    "    col = np.reshape(yin[0,:],(n,1))\n",
    "    yout = col\n",
    "    \n",
    "    # first order polynomial\n",
    "    for i in range(1,nVars):\n",
    "        col = np.reshape(yin[i,:],(n,1))\n",
    "        yout = np.append(yout,col,axis = 1)\n",
    "       \n",
    "    \n",
    "    # second oder polynmial \n",
    "    if (polyorder >= 2):\n",
    "        for i in range(nVars):\n",
    "            for j in range(i,nVars):\n",
    "                col = np.reshape(yin[i,:]*yin[j,:],(n,1))\n",
    "                yout = np.append(yout,col,axis = 1)\n",
    "    \n",
    "    # third order polynomial\n",
    "    if (polyorder >= 3):\n",
    "        for i in range(nVars):\n",
    "            for j in range(i, nVars):\n",
    "                for k in range(j, nVars):\n",
    "                    col = np.reshape(yin[i,:]*yin[j,:]*yin[k,:],(n,1))\n",
    "                    yout = np.append(yout,col,axis = 1)\n",
    "    \n",
    "    # fourth order polynomial\n",
    "    if (polyorder >= 4):\n",
    "        for i in range(nVars):\n",
    "            for j in range(i, nVars):\n",
    "                for k in range(j, nVars):\n",
    "                    for l in range(k,nVars):\n",
    "                        col = np.reshape(yin[i,:]*yin[j,:]*yin[k,:]*yin[l,:],(n,1))\n",
    "                        yout = np.append(yout,col,axis = 1)\n",
    "    \n",
    "    # sines\n",
    "    if(usesine):\n",
    "        for i in range(nVars):\n",
    "            col = np.reshape(np.cos(yin[i,:]),(n,1))\n",
    "            yout = np.append(yout,col,axis = 1)\n",
    "                \n",
    "                                 \n",
    "    return yout"
   ]
  },
  {
   "cell_type": "markdown",
   "metadata": {},
   "source": [
    "### Build Gamma"
   ]
  },
  {
   "cell_type": "code",
   "execution_count": 255,
   "metadata": {},
   "outputs": [],
   "source": [
    "def buildGamma(yin,ydotin,polyorder,usesine):\n",
    "    \n",
    "    n = yin.shape[1]\n",
    "    nVars = yin.shape[0]\n",
    "    \n",
    "    # first entry for first order polynomial\n",
    "    col = np.reshape(ydotin[0,:],(n,1))\n",
    "    yout = col\n",
    "    # derivative of first order polynomial\n",
    "    for i in range(1,nVars):\n",
    "        col = np.reshape(ydotin[i,:],(n,1))\n",
    "        yout = np.append(yout,col,axis = 1)\n",
    "        \n",
    "    # derivative of second order polynomial\n",
    "    if (polyorder >= 2):\n",
    "        for i in range(nVars):\n",
    "            for j in range(i,nVars):\n",
    "                col = np.reshape(ydotin[i,:]*yin[j,:]+yin[i,:]*ydotin[j,:],(n,1))\n",
    "                yout = np.append(yout,col,axis = 1)\n",
    "    \n",
    "    # third order polynomial\n",
    "    if (polyorder >= 3):\n",
    "        for i in range(nVars):\n",
    "            for j in range(i, nVars):\n",
    "                for k in range(j, nVars):\n",
    "                    col = (np.reshape(ydotin[i,:]*yin[j,:]*yin[k,:]+yin[i,:]*ydotin[j,:]*yin[k,:]\n",
    "                                      +yin[i,:]*yin[j,:]*ydotin[k,:],(n,1)))\n",
    "                    yout = np.append(yout,col,axis = 1)\n",
    "                    \n",
    "    # fourth order polynomial\n",
    "    if (polyorder >= 4):\n",
    "        for i in range(nVars):\n",
    "            for j in range(i, nVars):\n",
    "                for k in range(j, nVars):\n",
    "                    for l in range(k,nVars):\n",
    "                        col = (np.reshape(ydotin[i,:]*yin[j,:]*yin[k,:]*yin[l,:]\n",
    "                                          +yin[i,:]*ydotin[j,:]*yin[k,:]*yin[l,:]\n",
    "                                          +yin[i,:]*yin[j,:]*ydotin[k,:]*yin[l,:]\n",
    "                                          +yin[i,:]*yin[j,:]*yin[k,:]*ydotin[l,:],(n,1)))\n",
    "                        yout = np.append(yout,col,axis = 1)\n",
    "    \n",
    "    \n",
    "    # sines\n",
    "    if(usesine):\n",
    "        for i in range(nVars):\n",
    "            col = np.reshape(-np.sin(yin[i,:])*ydotin[i,:],(n,1))\n",
    "            yout = np.append(yout,col,axis = 1)\n",
    "                \n",
    "    \n",
    "    return yout\n"
   ]
  },
  {
   "cell_type": "code",
   "execution_count": 256,
   "metadata": {},
   "outputs": [],
   "source": [
    "Theta = buildTheta(X,3,True)\n",
    "Gamma = buildGamma(X,dX,3,True)"
   ]
  },
  {
   "cell_type": "markdown",
   "metadata": {},
   "source": [
    "### Compute the Co-efficients Vector Using Different Methods"
   ]
  },
  {
   "cell_type": "code",
   "execution_count": 264,
   "metadata": {},
   "outputs": [
    {
     "data": {
      "text/html": [
       "<div>\n",
       "<style scoped>\n",
       "    .dataframe tbody tr th:only-of-type {\n",
       "        vertical-align: middle;\n",
       "    }\n",
       "\n",
       "    .dataframe tbody tr th {\n",
       "        vertical-align: top;\n",
       "    }\n",
       "\n",
       "    .dataframe thead th {\n",
       "        text-align: right;\n",
       "    }\n",
       "</style>\n",
       "<table border=\"1\" class=\"dataframe\">\n",
       "  <thead>\n",
       "    <tr style=\"text-align: right;\">\n",
       "      <th></th>\n",
       "      <th>0</th>\n",
       "      <th>1</th>\n",
       "      <th>2</th>\n",
       "      <th>3</th>\n",
       "      <th>4</th>\n",
       "      <th>5</th>\n",
       "      <th>6</th>\n",
       "      <th>7</th>\n",
       "      <th>8</th>\n",
       "      <th>9</th>\n",
       "      <th>10</th>\n",
       "    </tr>\n",
       "  </thead>\n",
       "  <tbody>\n",
       "    <tr>\n",
       "      <th>0</th>\n",
       "      <td>-0.211438</td>\n",
       "      <td>0.151220</td>\n",
       "      <td>-0.084577</td>\n",
       "      <td>0.433027</td>\n",
       "      <td>-0.147515</td>\n",
       "      <td>0.217480</td>\n",
       "      <td>-0.017000</td>\n",
       "      <td>0.815526</td>\n",
       "      <td>0.048448</td>\n",
       "      <td>0.023777</td>\n",
       "      <td>-0.020468</td>\n",
       "    </tr>\n",
       "    <tr>\n",
       "      <th>1</th>\n",
       "      <td>0.128208</td>\n",
       "      <td>0.131291</td>\n",
       "      <td>0.078511</td>\n",
       "      <td>0.090088</td>\n",
       "      <td>0.482447</td>\n",
       "      <td>0.217832</td>\n",
       "      <td>-0.073992</td>\n",
       "      <td>-0.051948</td>\n",
       "      <td>0.814485</td>\n",
       "      <td>0.016427</td>\n",
       "      <td>0.003210</td>\n",
       "    </tr>\n",
       "    <tr>\n",
       "      <th>2</th>\n",
       "      <td>0.293811</td>\n",
       "      <td>0.329814</td>\n",
       "      <td>-0.542389</td>\n",
       "      <td>-0.096290</td>\n",
       "      <td>-0.059903</td>\n",
       "      <td>0.001472</td>\n",
       "      <td>-0.646738</td>\n",
       "      <td>-0.015776</td>\n",
       "      <td>-0.066683</td>\n",
       "      <td>0.254804</td>\n",
       "      <td>0.099800</td>\n",
       "    </tr>\n",
       "    <tr>\n",
       "      <th>3</th>\n",
       "      <td>-0.031827</td>\n",
       "      <td>-0.001146</td>\n",
       "      <td>0.109619</td>\n",
       "      <td>-0.499532</td>\n",
       "      <td>-0.280543</td>\n",
       "      <td>0.811607</td>\n",
       "      <td>-0.004770</td>\n",
       "      <td>0.001388</td>\n",
       "      <td>-0.001346</td>\n",
       "      <td>-0.000370</td>\n",
       "      <td>0.000263</td>\n",
       "    </tr>\n",
       "    <tr>\n",
       "      <th>4</th>\n",
       "      <td>-0.244409</td>\n",
       "      <td>-0.285505</td>\n",
       "      <td>0.443912</td>\n",
       "      <td>0.086582</td>\n",
       "      <td>0.057678</td>\n",
       "      <td>-0.000517</td>\n",
       "      <td>-0.667249</td>\n",
       "      <td>-0.023799</td>\n",
       "      <td>-0.064363</td>\n",
       "      <td>0.101676</td>\n",
       "      <td>-0.436580</td>\n",
       "    </tr>\n",
       "    <tr>\n",
       "      <th>5</th>\n",
       "      <td>-0.767254</td>\n",
       "      <td>0.507042</td>\n",
       "      <td>-0.122407</td>\n",
       "      <td>0.084987</td>\n",
       "      <td>0.041977</td>\n",
       "      <td>0.054573</td>\n",
       "      <td>0.004492</td>\n",
       "      <td>-0.355917</td>\n",
       "      <td>-0.020147</td>\n",
       "      <td>-0.009927</td>\n",
       "      <td>0.009011</td>\n",
       "    </tr>\n",
       "    <tr>\n",
       "      <th>6</th>\n",
       "      <td>-0.112024</td>\n",
       "      <td>-0.366183</td>\n",
       "      <td>-0.382726</td>\n",
       "      <td>0.072210</td>\n",
       "      <td>0.673809</td>\n",
       "      <td>0.323747</td>\n",
       "      <td>0.045562</td>\n",
       "      <td>0.019776</td>\n",
       "      <td>-0.374566</td>\n",
       "      <td>-0.008299</td>\n",
       "      <td>-0.001440</td>\n",
       "    </tr>\n",
       "    <tr>\n",
       "      <th>7</th>\n",
       "      <td>0.222032</td>\n",
       "      <td>-0.126163</td>\n",
       "      <td>-0.051660</td>\n",
       "      <td>0.714706</td>\n",
       "      <td>-0.308317</td>\n",
       "      <td>0.349618</td>\n",
       "      <td>0.013248</td>\n",
       "      <td>-0.450358</td>\n",
       "      <td>-0.026869</td>\n",
       "      <td>-0.012908</td>\n",
       "      <td>0.011528</td>\n",
       "    </tr>\n",
       "    <tr>\n",
       "      <th>8</th>\n",
       "      <td>0.340285</td>\n",
       "      <td>0.573241</td>\n",
       "      <td>0.483848</td>\n",
       "      <td>0.108601</td>\n",
       "      <td>0.328176</td>\n",
       "      <td>0.128529</td>\n",
       "      <td>0.034679</td>\n",
       "      <td>0.025908</td>\n",
       "      <td>-0.428398</td>\n",
       "      <td>-0.008705</td>\n",
       "      <td>-0.001943</td>\n",
       "    </tr>\n",
       "    <tr>\n",
       "      <th>9</th>\n",
       "      <td>-0.121910</td>\n",
       "      <td>-0.142126</td>\n",
       "      <td>0.221650</td>\n",
       "      <td>0.043340</td>\n",
       "      <td>0.028915</td>\n",
       "      <td>-0.000703</td>\n",
       "      <td>-0.330542</td>\n",
       "      <td>0.025633</td>\n",
       "      <td>-0.025630</td>\n",
       "      <td>-0.347896</td>\n",
       "      <td>0.825525</td>\n",
       "    </tr>\n",
       "    <tr>\n",
       "      <th>10</th>\n",
       "      <td>0.102963</td>\n",
       "      <td>0.117047</td>\n",
       "      <td>-0.189879</td>\n",
       "      <td>-0.034006</td>\n",
       "      <td>-0.022128</td>\n",
       "      <td>0.000174</td>\n",
       "      <td>-0.134130</td>\n",
       "      <td>0.013548</td>\n",
       "      <td>0.008146</td>\n",
       "      <td>-0.895802</td>\n",
       "      <td>-0.342487</td>\n",
       "    </tr>\n",
       "  </tbody>\n",
       "</table>\n",
       "</div>"
      ],
      "text/plain": [
       "          0         1         2         3         4         5         6   \\\n",
       "0  -0.211438  0.151220 -0.084577  0.433027 -0.147515  0.217480 -0.017000   \n",
       "1   0.128208  0.131291  0.078511  0.090088  0.482447  0.217832 -0.073992   \n",
       "2   0.293811  0.329814 -0.542389 -0.096290 -0.059903  0.001472 -0.646738   \n",
       "3  -0.031827 -0.001146  0.109619 -0.499532 -0.280543  0.811607 -0.004770   \n",
       "4  -0.244409 -0.285505  0.443912  0.086582  0.057678 -0.000517 -0.667249   \n",
       "5  -0.767254  0.507042 -0.122407  0.084987  0.041977  0.054573  0.004492   \n",
       "6  -0.112024 -0.366183 -0.382726  0.072210  0.673809  0.323747  0.045562   \n",
       "7   0.222032 -0.126163 -0.051660  0.714706 -0.308317  0.349618  0.013248   \n",
       "8   0.340285  0.573241  0.483848  0.108601  0.328176  0.128529  0.034679   \n",
       "9  -0.121910 -0.142126  0.221650  0.043340  0.028915 -0.000703 -0.330542   \n",
       "10  0.102963  0.117047 -0.189879 -0.034006 -0.022128  0.000174 -0.134130   \n",
       "\n",
       "          7         8         9         10  \n",
       "0   0.815526  0.048448  0.023777 -0.020468  \n",
       "1  -0.051948  0.814485  0.016427  0.003210  \n",
       "2  -0.015776 -0.066683  0.254804  0.099800  \n",
       "3   0.001388 -0.001346 -0.000370  0.000263  \n",
       "4  -0.023799 -0.064363  0.101676 -0.436580  \n",
       "5  -0.355917 -0.020147 -0.009927  0.009011  \n",
       "6   0.019776 -0.374566 -0.008299 -0.001440  \n",
       "7  -0.450358 -0.026869 -0.012908  0.011528  \n",
       "8   0.025908 -0.428398 -0.008705 -0.001943  \n",
       "9   0.025633 -0.025630 -0.347896  0.825525  \n",
       "10  0.013548  0.008146 -0.895802 -0.342487  "
      ]
     },
     "execution_count": 264,
     "metadata": {},
     "output_type": "execute_result"
    }
   ],
   "source": [
    "# Method 1 - SVD\n",
    "lamda = 0.01\n",
    "U,Sigma,VT = np.linalg.svd(lamda*Theta-Gamma,full_matrices=0)\n",
    "V = VT.T\n",
    "\n",
    "xi0 = V[:,-1]\n",
    "thresh_xi0 = np.where(np.abs(xi0) < 1e-4)\n",
    "xi0[thresh_xi0[0]] = 0\n",
    "\n",
    "V_pd = pd.DataFrame(data = V)\n",
    "V_pd.head(19)"
   ]
  },
  {
   "cell_type": "code",
   "execution_count": 265,
   "metadata": {},
   "outputs": [
    {
     "data": {
      "text/plain": [
       "array([247.03387394, 219.41830691, 174.24818009, 152.66456392,\n",
       "       122.67416881, 107.82365367,   9.84288554,   5.18687952,\n",
       "         4.3182945 ,   0.60092684,   0.28475759])"
      ]
     },
     "execution_count": 265,
     "metadata": {},
     "output_type": "execute_result"
    }
   ],
   "source": [
    "Sigma"
   ]
  },
  {
   "cell_type": "code",
   "execution_count": 266,
   "metadata": {},
   "outputs": [],
   "source": [
    "## Method 2 - LS\n",
    "K = np.matmul(np.linalg.pinv(Theta),Gamma)\n",
    "thresh_ind = np.where(np.abs(K) < 1e-12)\n",
    "K[thresh_ind] = 0\n",
    "[D,T] = np.linalg.eig(K)\n",
    "IX = np.argsort(np.abs(D))\n",
    "\n",
    "xi1 = T[:,IX[0]]\n",
    "thresh_xi1 = np.where(np.abs(xi1) < 1e-4)\n",
    "xi1 = np.real(xi1)\n",
    "xi1[thresh_xi1[0]] = 0"
   ]
  },
  {
   "cell_type": "code",
   "execution_count": 267,
   "metadata": {},
   "outputs": [
    {
     "data": {
      "text/plain": [
       "array([4.24510152e+00, 4.24510152e+00, 2.57164869e+00, 2.57164869e+00,\n",
       "       1.73622359e+00, 1.73622359e+00, 8.57063081e-01, 8.57063081e-01,\n",
       "       7.88583480e-01, 7.88583480e-01, 6.55821495e-04])"
      ]
     },
     "execution_count": 267,
     "metadata": {},
     "output_type": "execute_result"
    }
   ],
   "source": [
    "np.abs(D)"
   ]
  },
  {
   "cell_type": "code",
   "execution_count": 268,
   "metadata": {},
   "outputs": [
    {
     "data": {
      "text/html": [
       "<div>\n",
       "<style scoped>\n",
       "    .dataframe tbody tr th:only-of-type {\n",
       "        vertical-align: middle;\n",
       "    }\n",
       "\n",
       "    .dataframe tbody tr th {\n",
       "        vertical-align: top;\n",
       "    }\n",
       "\n",
       "    .dataframe thead th {\n",
       "        text-align: right;\n",
       "    }\n",
       "</style>\n",
       "<table border=\"1\" class=\"dataframe\">\n",
       "  <thead>\n",
       "    <tr style=\"text-align: right;\">\n",
       "      <th></th>\n",
       "      <th>xi0 - SVD</th>\n",
       "      <th>xi1 - LS</th>\n",
       "    </tr>\n",
       "  </thead>\n",
       "  <tbody>\n",
       "    <tr>\n",
       "      <th>0</th>\n",
       "      <td>-0.020468</td>\n",
       "      <td>0.006728</td>\n",
       "    </tr>\n",
       "    <tr>\n",
       "      <th>1</th>\n",
       "      <td>0.003210</td>\n",
       "      <td>-0.009523</td>\n",
       "    </tr>\n",
       "    <tr>\n",
       "      <th>2</th>\n",
       "      <td>0.099800</td>\n",
       "      <td>-0.208702</td>\n",
       "    </tr>\n",
       "    <tr>\n",
       "      <th>3</th>\n",
       "      <td>0.000263</td>\n",
       "      <td>-0.000183</td>\n",
       "    </tr>\n",
       "    <tr>\n",
       "      <th>4</th>\n",
       "      <td>-0.436580</td>\n",
       "      <td>0.337763</td>\n",
       "    </tr>\n",
       "    <tr>\n",
       "      <th>5</th>\n",
       "      <td>0.009011</td>\n",
       "      <td>-0.002974</td>\n",
       "    </tr>\n",
       "    <tr>\n",
       "      <th>6</th>\n",
       "      <td>-0.001440</td>\n",
       "      <td>0.004508</td>\n",
       "    </tr>\n",
       "    <tr>\n",
       "      <th>7</th>\n",
       "      <td>0.011528</td>\n",
       "      <td>-0.003724</td>\n",
       "    </tr>\n",
       "    <tr>\n",
       "      <th>8</th>\n",
       "      <td>-0.001943</td>\n",
       "      <td>0.005108</td>\n",
       "    </tr>\n",
       "    <tr>\n",
       "      <th>9</th>\n",
       "      <td>0.825525</td>\n",
       "      <td>-0.572755</td>\n",
       "    </tr>\n",
       "    <tr>\n",
       "      <th>10</th>\n",
       "      <td>-0.342487</td>\n",
       "      <td>0.717012</td>\n",
       "    </tr>\n",
       "  </tbody>\n",
       "</table>\n",
       "</div>"
      ],
      "text/plain": [
       "    xi0 - SVD  xi1 - LS\n",
       "0   -0.020468  0.006728\n",
       "1    0.003210 -0.009523\n",
       "2    0.099800 -0.208702\n",
       "3    0.000263 -0.000183\n",
       "4   -0.436580  0.337763\n",
       "5    0.009011 -0.002974\n",
       "6   -0.001440  0.004508\n",
       "7    0.011528 -0.003724\n",
       "8   -0.001943  0.005108\n",
       "9    0.825525 -0.572755\n",
       "10  -0.342487  0.717012"
      ]
     },
     "execution_count": 268,
     "metadata": {},
     "output_type": "execute_result"
    }
   ],
   "source": [
    "# combine the co-efficients obtianed from the two different methods\n",
    "xi = np.vstack([xi0,xi1]).T\n",
    "xi_pd = pd.DataFrame(data = xi, columns = ['xi0 - SVD','xi1 - LS'])\n",
    "xi_pd.head(19)"
   ]
  },
  {
   "cell_type": "code",
   "execution_count": 269,
   "metadata": {},
   "outputs": [],
   "source": [
    "eigen_func1 = np.dot(Theta,xi0)\n",
    "norm1 = np.linalg.norm(eigen_func1)\n",
    "eigen_func1n = eigen_func1/norm1\n",
    "\n",
    "eigen_func2 = np.dot(Theta,xi1)\n",
    "norm2 = np.linalg.norm(eigen_func2)\n",
    "eigen_func2n = eigen_func2/norm2\n",
    "\n",
    "norm_hamil = np.linalg.norm(Hamilt[:X.shape[1]])\n",
    "Hamil_normalized = Hamilt[:X.shape[1]]/norm_hamil\n",
    "\n",
    "\n",
    "new_t = t[:X.shape[1]]"
   ]
  },
  {
   "cell_type": "code",
   "execution_count": 270,
   "metadata": {},
   "outputs": [
    {
     "data": {
      "text/plain": [
       "Text(0.5, 1.0, 'Un-normalized')"
      ]
     },
     "execution_count": 270,
     "metadata": {},
     "output_type": "execute_result"
    },
    {
     "data": {
      "image/png": "[encoded data removed]",
      "text/plain": [
       "<Figure size 1440x720 with 2 Axes>"
      ]
     },
     "metadata": {},
     "output_type": "display_data"
    }
   ],
   "source": [
    "f = plt.figure(figsize=(20,10))\n",
    "\n",
    "f.add_subplot(1,2,1)\n",
    "plt.plot(new_t,Hamil_normalized, label = 'original')\n",
    "plt.plot(new_t,eigen_func1n, label = 'method 1 - SVD')\n",
    "plt.plot(new_t,eigen_func2n, label = 'method 2 - LS')\n",
    "plt.legend()\n",
    "plt.ylabel('Hamiltonian')\n",
    "plt.xlabel('Time')\n",
    "plt.title('Normalized')\n",
    "\n",
    "f.add_subplot(1,2,2)\n",
    "plt.plot(new_t,Hamilt[:X.shape[1]], label = 'original')\n",
    "plt.plot(new_t,eigen_func1, label = 'method 1 - SVD')\n",
    "plt.plot(new_t,eigen_func2, label = 'method 2 - LS')\n",
    "plt.legend()\n",
    "plt.ylabel('Hamiltonian')\n",
    "plt.xlabel('Time')\n",
    "plt.title('Un-normalized')"
   ]
  },
  {
   "cell_type": "code",
   "execution_count": null,
   "metadata": {},
   "outputs": [],
   "source": []
  }
 ],
 "metadata": {
  "kernelspec": {
   "display_name": "Python 3",
   "language": "python",
   "name": "python3"
  },
  "language_info": {
   "codemirror_mode": {
    "name": "ipython",
    "version": 3
   },
   "file_extension": ".py",
   "mimetype": "text/x-python",
   "name": "python",
   "nbconvert_exporter": "python",
   "pygments_lexer": "ipython3",
   "version": "3.5.2"
  }
 },
 "nbformat": 4,
 "nbformat_minor": 2
}
