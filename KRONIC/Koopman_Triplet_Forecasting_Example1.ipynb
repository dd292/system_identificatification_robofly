{
 "cells": [
  {
   "cell_type": "code",
   "execution_count": 24,
   "metadata": {},
   "outputs": [],
   "source": [
    "import numpy as np\n",
    "import matplotlib.pyplot as plt\n",
    "from scipy.integrate import *\n",
    "import pandas as pd"
   ]
  },
  {
   "cell_type": "markdown",
   "metadata": {},
   "source": [
    "### Consider the system:\n",
    "\n",
    "$X(n+1) = \\begin{bmatrix}\n",
    "0.9 & -0.1 \\\\\n",
    "0.0 & 0.8\n",
    "\\end{bmatrix} X(n)$  where  $X(n) = \\begin{bmatrix} x(n) \\\\\n",
    "y(n)\\end{bmatrix}$\n",
    "\n",
    "### The Eigenfunctions and Eigenvalues of the Operator are:\n",
    "\n",
    "$ \\phi_{ij}(x,y) = \\left ( \\frac{x-y}{\\sqrt(2)} \\right )^i y^j $, $\\lambda_{ij} = (0.9)^i(0.8)^j$"
   ]
  },
  {
   "cell_type": "code",
   "execution_count": 25,
   "metadata": {},
   "outputs": [],
   "source": [
    "A = np.asarray([[0.9, -0.1],[0.0,0.8]]) # system matrix\n",
    "X0 = np.asarray([-1,1]) # initial condition\n",
    "\n",
    "end = 100 # number of steps\n",
    "n = np.arange(0,end) # discrete time vector\n",
    "\n",
    "# collect evolution of states\n",
    "states = []\n",
    "for i in range(len(n)):\n",
    "    X_current = np.dot(A,X0)\n",
    "    states.append(X_current)\n",
    "    X0 = X_current\n",
    "states = np.asarray(states) \n",
    "\n",
    "x = states[:,0]; y = states[:,1] # unpack states"
   ]
  },
  {
   "cell_type": "code",
   "execution_count": 26,
   "metadata": {},
   "outputs": [
    {
     "data": {
      "text/plain": [
       "Text(0.5, 1.0, 'State Evolution')"
      ]
     },
     "execution_count": 26,
     "metadata": {},
     "output_type": "execute_result"
    },
    {
     "data": {
      "image/png": "[encoded data removed]",
      "text/plain": [
       "<Figure size 432x288 with 1 Axes>"
      ]
     },
     "metadata": {},
     "output_type": "display_data"
    }
   ],
   "source": [
    "# plot the evolution of states\n",
    "plt.plot(n,x,label = 'x')\n",
    "plt.plot(n,y,label = 'y')\n",
    "plt.legend()\n",
    "plt.xlabel('n')\n",
    "plt.ylabel('states')\n",
    "plt.title('State Evolution')"
   ]
  },
  {
   "cell_type": "markdown",
   "metadata": {},
   "source": [
    "The Koopman mode associated with $\\mu_1 = 0.9$ is $v_1 = \\begin{bmatrix}\n",
    "0\\\\\n",
    "-\\sqrt(2)\n",
    "\\end{bmatrix}$.\n",
    "\n",
    "The Koopman mode associated with $\\mu_3 = 0.8$ is $v_3 = \\begin{bmatrix}\n",
    "-1\\\\\n",
    "1\n",
    "\\end{bmatrix}$.\n",
    "\n"
   ]
  },
  {
   "cell_type": "code",
   "execution_count": 27,
   "metadata": {},
   "outputs": [
    {
     "name": "stdout",
     "output_type": "stream",
     "text": [
      "Eigenvectors: \n",
      " [[ 0.          0.70710678]\n",
      " [ 1.         -0.70710678]] \n",
      "\n",
      "Eigenvalues: \n",
      " [0.8 0.9] \n",
      "\n"
     ]
    }
   ],
   "source": [
    "[V,D] = np.linalg.eig(A.T)\n",
    "print(\"Eigenvectors: \\n\",D,\"\\n\")\n",
    "print(\"Eigenvalues: \\n\",V,\"\\n\")"
   ]
  },
  {
   "cell_type": "code",
   "execution_count": 28,
   "metadata": {},
   "outputs": [
    {
     "name": "stdout",
     "output_type": "stream",
     "text": [
      "0.9 0.8\n",
      "v1 =  [-0.         -1.41421356] \n",
      "\n",
      "v3 =  [-1.  1.] \n",
      "\n"
     ]
    }
   ],
   "source": [
    "u1 = V[1];u3 = V[0]\n",
    "norm = -np.sqrt(2) # normalize eigenvectors\n",
    "v1 = D[:,0]*norm;v3 = D[:,1]*norm\n",
    "\n",
    "print(u1,u3)\n",
    "print(\"v1 = \",v1,\"\\n\")\n",
    "print(\"v3 = \",v3,\"\\n\")"
   ]
  },
  {
   "cell_type": "code",
   "execution_count": 29,
   "metadata": {},
   "outputs": [],
   "source": [
    "def eig1(x,y):\n",
    "    value = (((x-y)/np.sqrt(2))**1)*(y**0)\n",
    "    return value\n",
    "\n",
    "def eig3(x,y):\n",
    "    value = (((x-y)/np.sqrt(2))**0)*(y**1)\n",
    "    return value\n",
    "    "
   ]
  },
  {
   "cell_type": "code",
   "execution_count": 39,
   "metadata": {},
   "outputs": [],
   "source": [
    "[xc0,yc0] = np.asarray([-1,1])\n",
    "\n",
    "xc = xc0; yc = yc0\n",
    "\n",
    "forecast = []\n",
    "forecast.append(np.asarray([-1,1]))\n",
    "\n",
    "for i in range(1,len(n)):\n",
    "    eig1Xc = eig1(xc0,yc0)*np.exp(u1)*v1\n",
    "    eig3Xc = eig3(xc0,yc0)*np.exp(u3)*v3\n",
    "    X_current = eig1Xc+eig3Xc\n",
    "    forecast.append(X_current)\n",
    "    xc0 = X_current[0]; yc0 = X_current[1]\n",
    "\n",
    "forecast = np.asarray(forecast)\n",
    "x_fore = forecast[:,0]; y_fore = forecast[:,1]"
   ]
  },
  {
   "cell_type": "code",
   "execution_count": 40,
   "metadata": {},
   "outputs": [
    {
     "data": {
      "text/plain": [
       "2.45960311115695"
      ]
     },
     "execution_count": 40,
     "metadata": {},
     "output_type": "execute_result"
    }
   ],
   "source": [
    "np.exp(u1)"
   ]
  },
  {
   "cell_type": "code",
   "execution_count": 41,
   "metadata": {},
   "outputs": [
    {
     "data": {
      "text/plain": [
       "Text(0.5, 1.0, 'State Evolution')"
      ]
     },
     "execution_count": 41,
     "metadata": {},
     "output_type": "execute_result"
    },
    {
     "data": {
      "image/png": "[encoded data removed]",
      "text/plain": [
       "<Figure size 432x288 with 1 Axes>"
      ]
     },
     "metadata": {},
     "output_type": "display_data"
    }
   ],
   "source": [
    "# plot the forecasting of states\n",
    "plt.plot(n,x_fore,label = 'x')\n",
    "plt.plot(n,y_fore,label = 'y')\n",
    "plt.legend()\n",
    "plt.xlabel('n')\n",
    "plt.ylabel('states')\n",
    "plt.title('State Evolution')"
   ]
  },
  {
   "cell_type": "code",
   "execution_count": null,
   "metadata": {},
   "outputs": [],
   "source": []
  }
 ],
 "metadata": {
  "kernelspec": {
   "display_name": "Python 3",
   "language": "python",
   "name": "python3"
  },
  "language_info": {
   "codemirror_mode": {
    "name": "ipython",
    "version": 3
   },
   "file_extension": ".py",
   "mimetype": "text/x-python",
   "name": "python",
   "nbconvert_exporter": "python",
   "pygments_lexer": "ipython3",
   "version": "3.5.2"
  }
 },
 "nbformat": 4,
 "nbformat_minor": 2
}
