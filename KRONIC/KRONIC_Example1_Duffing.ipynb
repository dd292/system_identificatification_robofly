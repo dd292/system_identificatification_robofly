{
 "cells": [
  {
   "cell_type": "code",
   "execution_count": 1,
   "metadata": {},
   "outputs": [],
   "source": [
    "import numpy as np\n",
    "import matplotlib.pyplot as plt\n",
    "from scipy.integrate import *"
   ]
  },
  {
   "cell_type": "markdown",
   "metadata": {},
   "source": [
    "### The Duffing Equation is given by:\n",
    "\n",
    "$ \\dot{x_1} = x_2$\n",
    "\n",
    "$ \\dot{x_2} = -x_1^3+ax_1^2+x_1 - a $\n",
    "\n",
    "### and the Hamiltonian is given by:\n",
    "\n",
    "$ H = \\frac{x_2^2}{2}+\\frac{x_1^4}{4}-\\frac{x_1^2}{2}-\\frac{a}{3}x_1^3+ax_1$"
   ]
  },
  {
   "cell_type": "code",
   "execution_count": 2,
   "metadata": {},
   "outputs": [],
   "source": [
    "# define the system ODE\n",
    "\n",
    "def duffing(t,X,a):\n",
    "    # define individual ODEs or rates of change\n",
    "    dx1dt = X[1]\n",
    "    dx2dt = -X[0]**3+a*X[0]**2+X[0]-a\n",
    "    # collect rates of change\n",
    "    dXdt = np.asarray([dx1dt,dx2dt])\n",
    "    # return the result\n",
    "    return dXdt\n",
    "\n",
    "\n",
    "# define the hamiltonian for the system\n",
    "def Hamiltonian(X,a):\n",
    "    \n",
    "    x1 = X[0]; x2 = X[1]\n",
    "    \n",
    "    H = x2**2/2+x1**4/4-x1**2/2-a/3*x1**3+a*x1\n",
    "    \n",
    "    return H"
   ]
  },
  {
   "cell_type": "markdown",
   "metadata": {},
   "source": [
    "### Collect Trajectories"
   ]
  },
  {
   "cell_type": "code",
   "execution_count": 3,
   "metadata": {},
   "outputs": [],
   "source": [
    "dt = 0.001 # time step\n",
    "tspan = [0, 10] # initial and final time\n",
    "t_vec = np.arange(0,10,dt) # time vector\n",
    "x0 = [0, -2.8] # initial condition\n",
    "\n",
    "a = 0 # parameter for the duffing equation\n",
    "\n",
    "states = solve_ivp(duffing, tspan, x0, t_eval = t_vec , args = (a,))\n",
    "\n",
    "t = states.t\n",
    "X = states.y"
   ]
  },
  {
   "cell_type": "markdown",
   "metadata": {},
   "source": [
    "### Identify Koopman Eigenfunction with Lambda = 0 (Hamiltonian) from Full Trajectory for Truth/Reference"
   ]
  },
  {
   "cell_type": "code",
   "execution_count": 4,
   "metadata": {},
   "outputs": [],
   "source": [
    "Hamilt = [Hamiltonian(X[:,i],a) for i in range(X.shape[1])]"
   ]
  },
  {
   "cell_type": "markdown",
   "metadata": {},
   "source": [
    "### Compute Derivatives Using Fourth Order Central Difference"
   ]
  },
  {
   "cell_type": "code",
   "execution_count": 79,
   "metadata": {},
   "outputs": [],
   "source": [
    "# Generic Fourth Order Central Difference\n",
    "nstates = 2\n",
    "dX = np.zeros([nstates,X.shape[1]-4])\n",
    "\n",
    "for i in range(nstates):\n",
    "    dX[i,:] = (1/(12*dt)) * (-X[i,4:] + 8*X[i,3:-1] - 8*X[i,1:-3] + X[i,:-4]) \n",
    "\n",
    "X = X[:,2:-2]"
   ]
  },
  {
   "cell_type": "markdown",
   "metadata": {},
   "source": [
    "### Build Theta"
   ]
  },
  {
   "cell_type": "code",
   "execution_count": 82,
   "metadata": {},
   "outputs": [],
   "source": [
    "def buildTheta(yin,polyorder,usesine):\n",
    "    \n",
    "    n = yin.shape[1]\n",
    "    nVars = yin.shape[0]\n",
    "    \n",
    "    # zero order polynomial (constant)\n",
    "    yout = np.ones([n,1])\n",
    "    \n",
    "    # first order polynomial\n",
    "    for i in range(nVars):\n",
    "        col = np.reshape(yin[i,:],(n,1))\n",
    "        yout = np.append(col,yout,axis = 1)\n",
    "       \n",
    "    \n",
    "    # second oder polynmial \n",
    "    if (polyorder >= 2):\n",
    "        for i in range(nVars):\n",
    "            for j in range(i,nVars):\n",
    "                col = np.reshape(yin[i,:]*yin[j,:],(n,1))\n",
    "                yout = np.append(col,yout,axis = 1)\n",
    "    \n",
    "    # third order polynomial\n",
    "    if (polyorder >= 3):\n",
    "        for i in range(nVars):\n",
    "            for j in range(i, nVars):\n",
    "                for k in range(j, nVars):\n",
    "                    col = np.reshape(yin[i,:]*yin[j,:]*yin[k,:],(n,1))\n",
    "                    yout = np.append(col,yout,axis = 1)\n",
    "    \n",
    "    # fourth order polynomial\n",
    "    if (polyorder >= 4):\n",
    "        for i in range(nVars):\n",
    "            for j in range(i, nVars):\n",
    "                for k in range(j, nVars):\n",
    "                    for l in range(k,nVars):\n",
    "                        col = np.reshape(yin[i,:]*yin[j,:]*yin[k,:]*yin[l,:],(n,1))\n",
    "                        yout = np.append(col,yout,axis = 1)\n",
    "    \n",
    "    # sines\n",
    "    if(usesine):\n",
    "        for i in range(nVars):\n",
    "            for j in range(1,11):\n",
    "                col = np.reshape(np.sin(j*yin[i,:]),(n,1))\n",
    "                yout = np.append(col,yout,axis = 1)\n",
    "                col = np.reshape(np.cos(j*yin[i,:]),(n,1))\n",
    "                yout = np.append(col,yout,axis = 1)\n",
    "                                 \n",
    "    return yout"
   ]
  },
  {
   "cell_type": "markdown",
   "metadata": {},
   "source": [
    "### Build Gamma"
   ]
  },
  {
   "cell_type": "code",
   "execution_count": 83,
   "metadata": {},
   "outputs": [],
   "source": [
    "def buildGamma(yin,ydotin,polyorder,usesine):\n",
    "    \n",
    "    n = yin.shape[1]\n",
    "    nVars = yin.shape[0]\n",
    "    \n",
    "    # derivative of zero order polynomial (constant)\n",
    "    yout = np.zeros([n,1])\n",
    "    \n",
    "    # derivative of first order polynomial\n",
    "    for i in range(nVars):\n",
    "        col = np.reshape(ydotin[i,:],(n,1))\n",
    "        yout = np.append(col,yout,axis = 1)\n",
    "        \n",
    "    # derivative of second order polynomial\n",
    "    if (polyorder >= 2):\n",
    "        for i in range(nVars):\n",
    "            for j in range(i,nVars):\n",
    "                col = np.reshape(ydotin[i,:]*yin[j,:]+yin[i,:]*ydotin[j,:],(n,1))\n",
    "                yout = np.append(col,yout,axis = 1)\n",
    "    \n",
    "    # third order polynomial\n",
    "    if (polyorder >= 3):\n",
    "        for i in range(nVars):\n",
    "            for j in range(i, nVars):\n",
    "                for k in range(j, nVars):\n",
    "                    col = (np.reshape(ydotin[i,:]*yin[j,:]*yin[k,:]+yin[i,:]*ydotin[j,:]*yin[k,:]\n",
    "                                      +yin[i,:]*yin[j,:]*ydotin[k,:],(n,1)))\n",
    "                    yout = np.append(col,yout,axis = 1)\n",
    "                    \n",
    "    # fourth order polynomial\n",
    "    if (polyorder >= 4):\n",
    "        for i in range(nVars):\n",
    "            for j in range(i, nVars):\n",
    "                for k in range(j, nVars):\n",
    "                    for l in range(k,nVars):\n",
    "                        col = (np.reshape(ydotin[i,:]*yin[j,:]*yin[k,:]*yin[l,:]\n",
    "                                          +yin[i,:]*ydotin[j,:]*yin[k,:]*yin[l,:]\n",
    "                                          +yin[i,:]*yin[j,:]*ydotin[k,:]*yin[l,:]\n",
    "                                          +yin[i,:]*yin[j,:]*yin[k,:]*ydotin[l,:],(n,1)))\n",
    "                        yout = np.append(col,yout,axis = 1)\n",
    "    \n",
    "    \n",
    "    # sines\n",
    "    if(usesine):\n",
    "        for i in range(nVars):\n",
    "            for j in range(1,11):\n",
    "                col = np.reshape(np.sin(j*yin[i,:]),(n,1))\n",
    "                yout = np.append(col,yout,axis = 1)\n",
    "                col = np.reshape(np.cos(j*yin[i,:]),(n,1))\n",
    "                yout = np.append(col,yout,axis = 1)\n",
    "    \n",
    "    return yout\n"
   ]
  },
  {
   "cell_type": "code",
   "execution_count": 85,
   "metadata": {},
   "outputs": [],
   "source": [
    "Theta = buildTheta(X,4,False)\n",
    "Gamma = buildGamma(X,dX,4,False)"
   ]
  },
  {
   "cell_type": "markdown",
   "metadata": {},
   "source": [
    "### Compute the SVD"
   ]
  },
  {
   "cell_type": "code",
   "execution_count": 215,
   "metadata": {},
   "outputs": [],
   "source": [
    "U,Sigma,VT = np.linalg.svd(0*Theta-Gamma,full_matrices=0)\n",
    "V = VT.T\n",
    "K = np.dot(np.linalg.pinv(Theta),Gamma)\n",
    "thresh_ind = np.where(np.abs(K) < 1e-12)\n",
    "K[thresh_ind] = 0\n",
    "[D,T] = np.linalg.eig(K)\n",
    "\n",
    "IX = np.argsort(np.abs(D));\n",
    "xi1 = T[IX[0],:]\n",
    "xi0 = V[:,-1]\n",
    "\n",
    "# # corrections for scaling\n",
    "# xi0 = 1/2*xi0/xi0[2]\n",
    "# xi1 = 1/2*xi1/xi1[2]"
   ]
  },
  {
   "cell_type": "code",
   "execution_count": 211,
   "metadata": {},
   "outputs": [
    {
     "data": {
      "text/plain": [
       "array([[ 1.33008530e-02,  6.86770140e+00, -4.44530975e-02,\n",
       "         2.94939898e-02, -8.14418990e-03, -6.19220636e-01,\n",
       "         9.64242318e-03, -9.75196533e-04, -1.44952732e-03,\n",
       "        -4.43451509e-03,  3.82169518e-03, -1.28172930e-03,\n",
       "         1.16777540e-03, -1.37759313e-04,  0.00000000e+00],\n",
       "       [-1.90090687e+01,  7.65574990e-03,  5.94831977e+00,\n",
       "         5.04014792e-04, -2.44250797e-04,  4.58980842e-02,\n",
       "         2.19371265e-03, -3.29060739e-03,  5.40080793e-04,\n",
       "        -8.60342991e-03,  4.64097368e-04, -4.88189038e-05,\n",
       "        -4.69900508e-04,  3.40182633e-05,  0.00000000e+00],\n",
       "       [ 4.50974458e-02, -3.52580209e+00, -1.27092783e-01,\n",
       "         5.03801275e+00, -2.32858034e-02, -1.39699959e+00,\n",
       "         1.09768795e-02, -8.52169853e-03, -3.95114763e-03,\n",
       "        -1.12303987e-02, -2.64513819e-03, -3.85442965e-03,\n",
       "         2.72247818e-03, -4.16140145e-04,  0.00000000e+00],\n",
       "       [-4.19412036e+01,  2.54659248e-03, -2.09059788e+00,\n",
       "         6.61770668e-03,  4.00234275e+00,  1.05407737e-01,\n",
       "        -2.32385658e-03, -4.58948472e-03,  5.27237177e-04,\n",
       "        -2.01505414e+00,  1.33851658e-03,  1.89023558e-04,\n",
       "        -4.11874135e-04,  1.82522313e-05,  0.00000000e+00],\n",
       "       [-6.86480160e+00, -1.55071222e+01,  2.18568763e+00,\n",
       "        -3.42043966e+00, -4.09184187e-02, -5.69163519e+00,\n",
       "        -1.79697780e+00,  7.06148697e-01,  3.88076372e-03,\n",
       "         9.51174785e-02, -9.46413208e-01, -8.69190628e-03,\n",
       "        -3.37344026e-02,  5.68853286e-04,  0.00000000e+00],\n",
       "       [-2.66080164e-01,  2.94725097e-02,  1.94881886e-02,\n",
       "        -1.12258304e-02,  1.88909992e-03,  1.20406361e-02,\n",
       "         4.98361764e+00,  2.90879220e-03, -8.20461184e-04,\n",
       "         2.23999255e-03, -1.07434134e-03,  2.05514919e-04,\n",
       "         1.50593778e-04,  1.60072245e-05,  0.00000000e+00],\n",
       "       [ 2.34299071e-01, -4.16016140e-03, -9.61710713e-03,\n",
       "        -5.88741795e-03,  1.06143924e-03, -1.71372632e+01,\n",
       "         1.45063052e-02,  3.96169264e+00, -7.37485082e-04,\n",
       "         4.30478948e-04, -2.44725403e-03, -6.88112088e-06,\n",
       "        -8.33991097e-03, -5.96953532e-05,  0.00000000e+00],\n",
       "       [-3.54508675e-01,  3.68168251e-02,  3.52718780e-02,\n",
       "        -7.48150766e-03,  1.03852407e-03,  4.71956928e-02,\n",
       "        -2.02607203e+00,  7.13193419e-03,  3.00076444e+00,\n",
       "         1.79584377e-03, -7.14465205e-05,  1.03644011e-04,\n",
       "         7.99098386e-04,  1.59527624e-04,  0.00000000e+00],\n",
       "       [ 6.12839316e-01, -1.03857527e-01, -3.16479054e-02,\n",
       "         2.99788232e-03,  1.64737881e-03, -3.54423278e+01,\n",
       "         1.32175099e-02, -1.06533877e+00, -8.38382987e-04,\n",
       "         4.13722769e-04, -5.04053374e-03, -8.27087832e-05,\n",
       "        -1.01286525e+00, -4.76714233e-05,  0.00000000e+00],\n",
       "       [-1.39223019e+01, -7.43358663e+01,  5.42546550e+00,\n",
       "        -5.32981794e+00,  9.75758611e-02,  2.75127888e-01,\n",
       "        -3.70079519e+00,  1.46492882e+00,  3.94783717e-02,\n",
       "         2.89687947e-01,  1.07655715e+00,  1.19123986e-02,\n",
       "        -9.08880216e-02,  4.35656204e-03,  0.00000000e+00],\n",
       "       [ 1.98077678e+02, -1.26687575e-02, -3.07464948e+01,\n",
       "        -1.77144888e-02, -2.66262725e-04, -6.00091932e-01,\n",
       "         1.36794530e-02,  3.84068668e-02, -4.86011586e-03,\n",
       "         2.10617363e+00, -4.94715514e-03,  2.00047294e+00,\n",
       "         4.42789265e-03, -2.51955670e-04,  0.00000000e+00],\n",
       "       [ 1.38747219e+01,  3.52525571e+01, -3.31640221e+00,\n",
       "        -1.10888749e+01,  2.60782188e-01,  2.14698407e+01,\n",
       "         3.58857815e+00, -1.33779184e+00,  2.27897808e-02,\n",
       "        -9.14326169e-02,  9.22387123e-01,  4.72753397e-02,\n",
       "         4.68328442e-02,  2.10528797e-03,  0.00000000e+00],\n",
       "       [ 2.38429071e+00, -2.55439759e-01, -1.54013657e-01,\n",
       "         9.67350082e-02, -1.56542765e-02, -2.30389722e-01,\n",
       "        -3.11473962e+01, -2.55036559e-02,  6.43472598e-03,\n",
       "        -1.77817094e-02,  8.85226950e-03, -1.64958095e-03,\n",
       "        -1.75557315e-03,  9.99825738e-01,  0.00000000e+00],\n",
       "       [-3.29022658e+00,  3.87163754e-01,  2.08732834e-01,\n",
       "         2.55397839e-02, -1.14414624e-02,  1.76826937e+02,\n",
       "        -9.16011664e-02, -1.52354768e+01,  6.41674846e-03,\n",
       "         2.19596434e-03,  2.98107858e-02,  1.66591098e-04,\n",
       "         1.09153653e+00,  4.14141078e-04,  0.00000000e+00],\n",
       "       [ 1.07078893e+02,  2.22187297e+02, -3.97864311e+01,\n",
       "         3.98992370e+01, -2.70352277e-01,  3.61602141e+01,\n",
       "         2.83124969e+01, -1.14036563e+01, -2.21103943e-01,\n",
       "        -2.00697373e+00, -8.38550295e-01, -1.60149873e-02,\n",
       "         6.40685641e-01, -2.57429848e-02,  0.00000000e+00]])"
      ]
     },
     "execution_count": 211,
     "metadata": {},
     "output_type": "execute_result"
    }
   ],
   "source": [
    "K"
   ]
  },
  {
   "cell_type": "code",
   "execution_count": 212,
   "metadata": {},
   "outputs": [],
   "source": [
    "blah1 = np.dot(Theta,xi0)\n",
    "blah2 = np.dot(Theta,xi1)"
   ]
  },
  {
   "cell_type": "code",
   "execution_count": 213,
   "metadata": {},
   "outputs": [
    {
     "name": "stderr",
     "output_type": "stream",
     "text": [
      "/home/ashwin/.local/lib/python3.5/site-packages/numpy/core/numeric.py:501: ComplexWarning: Casting complex values to real discards the imaginary part\n",
      "  return array(a, dtype, copy=False, order=order)\n"
     ]
    },
    {
     "data": {
      "text/plain": [
       "[<matplotlib.lines.Line2D at 0x7f323d9340f0>]"
      ]
     },
     "execution_count": 213,
     "metadata": {},
     "output_type": "execute_result"
    },
    {
     "data": {
      "image/png": "[encoded data removed]",
      "text/plain": [
       "<Figure size 432x288 with 1 Axes>"
      ]
     },
     "metadata": {},
     "output_type": "display_data"
    }
   ],
   "source": [
    "plt.plot(blah1,blah2)\n"
   ]
  },
  {
   "cell_type": "code",
   "execution_count": 214,
   "metadata": {},
   "outputs": [
    {
     "data": {
      "text/plain": [
       "array([ 0.,  0.,  0., -0.,  0.,  0.,  0.,  0.,  0.,  0.,  0.,  0.,  0.,\n",
       "        0.,  1.])"
      ]
     },
     "execution_count": 214,
     "metadata": {},
     "output_type": "execute_result"
    }
   ],
   "source": [
    "xi0"
   ]
  },
  {
   "cell_type": "code",
   "execution_count": null,
   "metadata": {},
   "outputs": [],
   "source": []
  }
 ],
 "metadata": {
  "kernelspec": {
   "display_name": "Python 3",
   "language": "python",
   "name": "python3"
  },
  "language_info": {
   "codemirror_mode": {
    "name": "ipython",
    "version": 3
   },
   "file_extension": ".py",
   "mimetype": "text/x-python",
   "name": "python",
   "nbconvert_exporter": "python",
   "pygments_lexer": "ipython3",
   "version": "3.5.2"
  }
 },
 "nbformat": 4,
 "nbformat_minor": 2
}
