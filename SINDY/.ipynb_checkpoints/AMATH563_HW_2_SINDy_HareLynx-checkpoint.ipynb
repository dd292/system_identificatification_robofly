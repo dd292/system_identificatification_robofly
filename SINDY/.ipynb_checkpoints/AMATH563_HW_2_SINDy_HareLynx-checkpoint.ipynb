{
 "cells": [
  {
   "cell_type": "code",
   "execution_count": 131,
   "metadata": {},
   "outputs": [],
   "source": [
    "import numpy as np\n",
    "import matplotlib.pyplot as plt\n",
    "from matplotlib import rcParams\n",
    "from scipy.interpolate import interp1d\n",
    "from scipy.integrate import odeint\n",
    "from information_scores import *\n",
    "from sklearn.linear_model import Lasso\n",
    "import pandas as pd\n",
    "\n",
    "rcParams.update({'font.size': 18})\n",
    "plt.rcParams['figure.figsize'] = [8, 16]"
   ]
  },
  {
   "cell_type": "code",
   "execution_count": 132,
   "metadata": {},
   "outputs": [
    {
     "name": "stdout",
     "output_type": "stream",
     "text": [
      "(496, 2) (496, 2)\n"
     ]
    }
   ],
   "source": [
    "# Layout the lynx and hare data\n",
    "\n",
    "time = np.arange(0,1905-1845,2) # original time \n",
    "\n",
    "hare = (np.array([20,20,52,83,64,68,83,12,3,150,110,\n",
    "                  60,7,10,70,100,92,70,10,11,137,137,\n",
    "                  18,22,52,83,18,10,9,65])) # original hare population values\n",
    "\n",
    "\n",
    "lynx = (np.array([32,50,12,10,13,36,15,12,6,6,65,70,\n",
    "                  40,9,20,34,45,40,15,15,60,80,26,18,\n",
    "                  37,50,35,12,12,25])) # original lynx population values\n",
    "\n",
    "time_new = np.linspace(0,1903-1845,500) # new time value\n",
    "dt = np.abs(time_new[1]-time_new[2]) # the new time step\n",
    "\n",
    "f_hare = interp1d(time,hare,'cubic') # hare inteprolation function\n",
    "\n",
    "hare_interp = f_hare(time_new) # inteprolated hare population values\n",
    "\n",
    "f_lynx = interp1d(time,lynx,'cubic') # lynx interpolation function\n",
    "\n",
    "lynx_interp = f_lynx(time_new) # interpolated lynx population values\n",
    "\n",
    "X = np.vstack([hare_interp,lynx_interp]) # data matrix\n",
    "\n",
    "# create the X and Xprime matrices to pass to the SINDy function\n",
    "\n",
    "# Fourth Order Central Difference\n",
    "X1 = X[0,:]\n",
    "X2 = X[1,:]\n",
    "\n",
    "dX1 = (1/(12*dt)) * (-X1[4:] + 8*X1[3:-1] - 8*X1[1:-3] + X1[:-4])\n",
    "X1 = X1[2:-2]\n",
    "\n",
    "dX2 = (1/(12*dt)) * (-X2[4:] + 8*X2[3:-1] - 8*X2[1:-3] + X2[:-4])\n",
    "X2 = X2[2:-2]\n",
    "\n",
    "dX = np.vstack([dX1,dX2]) # data matrix\n",
    "\n",
    "# Trim first and last two that are lost in derivative\n",
    "X = X[:,2:-2].T\n",
    "Xprime = dX.T\n",
    "\n",
    "\n",
    "print(X.shape,Xprime.shape) # print out the shapes of the data matrices as a sanity check"
   ]
  },
  {
   "cell_type": "code",
   "execution_count": 249,
   "metadata": {},
   "outputs": [],
   "source": [
    "# SINDy Function Definitions\n",
    "\n",
    "def build_library(X):\n",
    "    \n",
    "    n = X.shape[0]\n",
    "    Theta = np.zeros((n,1))\n",
    "    function_label = []\n",
    "    \n",
    "    # first order polynomial in x (first state)\n",
    "    first_state = X[:,0]\n",
    "    Theta[:,0] = first_state\n",
    "    function_label.append('x')\n",
    "    \n",
    "    # first order polynomial in y (second state)\n",
    "    second_state = np.array([X[:,1]]).T\n",
    "    Theta = np.append(Theta,second_state,axis=1)\n",
    "    function_label.append('y')\n",
    "    \n",
    "    # first order polynomial in xy (product of states)\n",
    "    product = np.array([X[:,0]*X[:,1]]).T\n",
    "    Theta = np.append(Theta,product,axis = 1)\n",
    "    function_label.append('xy')\n",
    "    \n",
    "    # second order polynomial in x\n",
    "    x2 = np.array([X[:,0]*X[:,0]]).T\n",
    "    Theta = np.append(Theta,x2,axis = 1)\n",
    "    function_label.append('x^2')\n",
    "    \n",
    "    # second order polynomial in y\n",
    "    y2 = np.array([X[:,1]*X[:,1]]).T\n",
    "    Theta = np.append(Theta,y2,axis = 1)\n",
    "    function_label.append('y^2')\n",
    "    \n",
    "    # second order polynomial in xy\n",
    "    xy2 = np.array([(X[:,0]*X[:,1])**2]).T\n",
    "    Theta = np.append(Theta,xy2,axis = 1)\n",
    "    function_label.append('(xy)^2')\n",
    "    \n",
    "    period1 = 5 \n",
    "    # sin(omega*x), omega = (2*pi)/T , T = 5 years\n",
    "    sinx = np.array([np.sin(2*np.pi*X[:,0]/period1)]).T\n",
    "    Theta = np.append(Theta,sinx,axis = 1)\n",
    "    function_label.append('sin(omega1*x)')\n",
    "    \n",
    "    # sin(omega*y), omega = (2*pi)/T , T = 5 years\n",
    "    siny = np.array([np.sin(2*np.pi*X[:,1]/period1)]).T\n",
    "    Theta = np.append(Theta,siny,axis = 1)\n",
    "    function_label.append('sin(omega1*y)')\n",
    "    \n",
    "    # sin(omega*xy), omega = (2*pi)/T , T = 5 years\n",
    "    sinxy = np.array([np.sin(2*np.pi*(X[:,1]*X[:,0])/period1)]).T\n",
    "    Theta = np.append(Theta,sinxy,axis = 1)\n",
    "    function_label.append('sin(omega1*xy)')\n",
    "    \n",
    "    period2 = 15\n",
    "    # sin(omega*x), omega = (2*pi)/T , T = 15 years\n",
    "    sinx2 = np.array([np.sin(2*np.pi*X[:,0]/period2)]).T\n",
    "    Theta = np.append(Theta,sinx2,axis = 1)\n",
    "    function_label.append('sin(omega2*x)')\n",
    "    \n",
    "    # sin(omega*y), omega = (2*pi)/T , T = 15 years\n",
    "    siny2 = np.array([np.sin(2*np.pi*X[:,1]/period2)]).T\n",
    "    Theta = np.append(Theta,siny2,axis = 1)\n",
    "    function_label.append('sin(omega2*y)')\n",
    "    \n",
    "    # sin(omega*xy), omega = (2*pi)/T , T = 15 years\n",
    "    sinxy2 = np.array([np.sin(2*np.pi*(X[:,1]*X[:,0])/period2)]).T\n",
    "    Theta = np.append(Theta,sinxy2,axis = 1)\n",
    "    function_label.append('sin(omega2*xy)')\n",
    "    \n",
    "    return Theta, function_label\n",
    "\n",
    "# def Sparse_Regression(Theta,dXdt,thresh):\n",
    "    \n",
    "#     Xi = np.linalg.lstsq(Theta,dXdt,rcond=None)[0] # Initial guess: Least-squares\n",
    "#     smallinds = np.where(np.abs(Xi) < thresh) # find where the entries is Xi are below the threshold\n",
    "#     Xi[smallinds] = 0 # sparsify!!!!! Hell yeah!!!\n",
    "    \n",
    "#     return Xi\n",
    "\n",
    "def Sparse_Regression(Theta,dXdt,thresh):\n",
    "    \n",
    "    lassoreg = Lasso(alpha=thresh,normalize=True, max_iter=1e5) # sparsify!!!!! Hell yeah!!!\n",
    "    lassoreg.fit(Theta,dXdt)\n",
    "    Xi = lassoreg.coef_\n",
    "    \n",
    "    return Xi.T"
   ]
  },
  {
   "cell_type": "code",
   "execution_count": 250,
   "metadata": {},
   "outputs": [
    {
     "name": "stdout",
     "output_type": "stream",
     "text": [
      "[[ 2.61378206e-01 -1.19007307e-01]\n",
      " [-6.92356602e-01 -7.57260541e-02]\n",
      " [-5.02083039e-03  4.65179358e-03]\n",
      " [-5.62239918e-04  1.63004893e-03]\n",
      " [ 1.91225839e-03 -3.46160683e-03]\n",
      " [ 3.32905713e-07 -2.70450726e-07]\n",
      " [ 1.74268659e+00  6.19079438e-01]\n",
      " [-2.04231690e+00  3.45898124e-01]\n",
      " [-1.01453633e+00  4.19504002e-01]\n",
      " [ 3.33484893e-01  1.16475823e+00]\n",
      " [ 7.88368527e+00 -9.23408727e-01]\n",
      " [ 6.58355709e-01 -2.99879967e-01]]\n"
     ]
    }
   ],
   "source": [
    "Theta,function_label = build_library(X) # build the lbrary of functions (Theta)\n",
    "threshold = 0.001 # thresholding paramater for sparsification\n",
    "Xi = Sparse_Regression(Theta,Xprime,threshold) # obtain Xi (\"ksi\") that gives us the coefficients\n",
    "Xi = np.asarray(Xi)\n",
    "print(Xi) # print out Xi as a sanity check"
   ]
  },
  {
   "cell_type": "code",
   "execution_count": 251,
   "metadata": {},
   "outputs": [
    {
     "name": "stdout",
     "output_type": "stream",
     "text": [
      "[[ 2.613780e-01 -1.190070e-01]\n",
      " [-6.923570e-01 -7.572600e-02]\n",
      " [-5.021000e-03  4.652000e-03]\n",
      " [-5.620000e-04  1.630000e-03]\n",
      " [ 1.912000e-03 -3.462000e-03]\n",
      " [ 0.000000e+00 -0.000000e+00]\n",
      " [ 1.742687e+00  6.190790e-01]\n",
      " [-2.042317e+00  3.458980e-01]\n",
      " [-1.014536e+00  4.195040e-01]\n",
      " [ 3.334850e-01  1.164758e+00]\n",
      " [ 7.883685e+00 -9.234090e-01]\n",
      " [ 6.583560e-01 -2.998800e-01]]\n"
     ]
    }
   ],
   "source": [
    "Xi1 = np.around(Xi,decimals = 6)\n",
    "print(Xi1)"
   ]
  },
  {
   "cell_type": "code",
   "execution_count": 252,
   "metadata": {},
   "outputs": [],
   "source": [
    "states = ['x','y']\n",
    "df = pd.DataFrame(Xi,index = function_label, columns = states)\n",
    "A=df.head(12)"
   ]
  },
  {
   "cell_type": "code",
   "execution_count": 253,
   "metadata": {},
   "outputs": [
    {
     "data": {
      "text/html": [
       "<div>\n",
       "<style scoped>\n",
       "    .dataframe tbody tr th:only-of-type {\n",
       "        vertical-align: middle;\n",
       "    }\n",
       "\n",
       "    .dataframe tbody tr th {\n",
       "        vertical-align: top;\n",
       "    }\n",
       "\n",
       "    .dataframe thead th {\n",
       "        text-align: right;\n",
       "    }\n",
       "</style>\n",
       "<table border=\"1\" class=\"dataframe\">\n",
       "  <thead>\n",
       "    <tr style=\"text-align: right;\">\n",
       "      <th></th>\n",
       "      <th>x</th>\n",
       "      <th>y</th>\n",
       "    </tr>\n",
       "  </thead>\n",
       "  <tbody>\n",
       "    <tr>\n",
       "      <th>x</th>\n",
       "      <td>2.613782e-01</td>\n",
       "      <td>-1.190073e-01</td>\n",
       "    </tr>\n",
       "    <tr>\n",
       "      <th>y</th>\n",
       "      <td>-6.923566e-01</td>\n",
       "      <td>-7.572605e-02</td>\n",
       "    </tr>\n",
       "    <tr>\n",
       "      <th>xy</th>\n",
       "      <td>-5.020830e-03</td>\n",
       "      <td>4.651794e-03</td>\n",
       "    </tr>\n",
       "    <tr>\n",
       "      <th>x^2</th>\n",
       "      <td>-5.622399e-04</td>\n",
       "      <td>1.630049e-03</td>\n",
       "    </tr>\n",
       "    <tr>\n",
       "      <th>y^2</th>\n",
       "      <td>1.912258e-03</td>\n",
       "      <td>-3.461607e-03</td>\n",
       "    </tr>\n",
       "    <tr>\n",
       "      <th>(xy)^2</th>\n",
       "      <td>3.329057e-07</td>\n",
       "      <td>-2.704507e-07</td>\n",
       "    </tr>\n",
       "    <tr>\n",
       "      <th>sin(omega1*x)</th>\n",
       "      <td>1.742687e+00</td>\n",
       "      <td>6.190794e-01</td>\n",
       "    </tr>\n",
       "    <tr>\n",
       "      <th>sin(omega1*y)</th>\n",
       "      <td>-2.042317e+00</td>\n",
       "      <td>3.458981e-01</td>\n",
       "    </tr>\n",
       "    <tr>\n",
       "      <th>sin(omega1*xy)</th>\n",
       "      <td>-1.014536e+00</td>\n",
       "      <td>4.195040e-01</td>\n",
       "    </tr>\n",
       "    <tr>\n",
       "      <th>sin(omega2*x)</th>\n",
       "      <td>3.334849e-01</td>\n",
       "      <td>1.164758e+00</td>\n",
       "    </tr>\n",
       "    <tr>\n",
       "      <th>sin(omega2*y)</th>\n",
       "      <td>7.883685e+00</td>\n",
       "      <td>-9.234087e-01</td>\n",
       "    </tr>\n",
       "    <tr>\n",
       "      <th>sin(omega2*xy)</th>\n",
       "      <td>6.583557e-01</td>\n",
       "      <td>-2.998800e-01</td>\n",
       "    </tr>\n",
       "  </tbody>\n",
       "</table>\n",
       "</div>"
      ],
      "text/plain": [
       "                           x             y\n",
       "x               2.613782e-01 -1.190073e-01\n",
       "y              -6.923566e-01 -7.572605e-02\n",
       "xy             -5.020830e-03  4.651794e-03\n",
       "x^2            -5.622399e-04  1.630049e-03\n",
       "y^2             1.912258e-03 -3.461607e-03\n",
       "(xy)^2          3.329057e-07 -2.704507e-07\n",
       "sin(omega1*x)   1.742687e+00  6.190794e-01\n",
       "sin(omega1*y)  -2.042317e+00  3.458981e-01\n",
       "sin(omega1*xy) -1.014536e+00  4.195040e-01\n",
       "sin(omega2*x)   3.334849e-01  1.164758e+00\n",
       "sin(omega2*y)   7.883685e+00 -9.234087e-01\n",
       "sin(omega2*xy)  6.583557e-01 -2.998800e-01"
      ]
     },
     "execution_count": 253,
     "metadata": {},
     "output_type": "execute_result"
    }
   ],
   "source": [
    "A"
   ]
  },
  {
   "cell_type": "code",
   "execution_count": 190,
   "metadata": {},
   "outputs": [],
   "source": [
    "# # run the best fit model\n",
    "\n",
    "# def Lotka_Volterra(X,t):\n",
    "\n",
    "    \n",
    "#     x = X[0]\n",
    "#     y = X[1]\n",
    "    \n",
    "#     omega1 = 2*np.pi/5\n",
    "#     omega2 = 2*np.pi/15\n",
    "    \n",
    "#     xdot = (0.47064556*x+0.07136272*y-0.01110213*x*y-0.00118093*x**2-0.0050453*y**2+6.53842294*np.sin(omega2*y)\n",
    "#              +1.1774889*np.sin(omega1*x)-2.26756052*np.sin(omega1*y))\n",
    "\n",
    "    \n",
    "#     ydot = (-0.15382964*x - 0.1406684*y+5.63696948e-03*x*y+0.00179203*x**2-0.00275862*y**2+\n",
    "#             1.25269343*np.sin(omega2*x))\n",
    "\n",
    "#     return [xdot,ydot]\n",
    "\n",
    "# P0 = [20, 32]\n",
    "# Ps = odeint(Lotka_Volterra, P0, time_new)\n",
    "# hare_pop = Ps[:,0]\n",
    "# lynx_pop = Ps[:,1]"
   ]
  },
  {
   "cell_type": "code",
   "execution_count": 273,
   "metadata": {},
   "outputs": [
    {
     "name": "stderr",
     "output_type": "stream",
     "text": [
      "/usr/local/lib/python3.5/dist-packages/scipy/integrate/odepack.py:247: ODEintWarning: Excess work done on this call (perhaps wrong Dfun type). Run with full_output = 1 to get quantitative information.\n",
      "  warnings.warn(warning_msg, ODEintWarning)\n"
     ]
    }
   ],
   "source": [
    "# run the best fit model\n",
    "\n",
    "def Lotka_Volterra(X,t):\n",
    "\n",
    "    \n",
    "    x = X[0]; y = X[1]\n",
    "    \n",
    "    omega1 = 2*np.pi/5; omega2 = 2*np.pi/15\n",
    "    \n",
    "    xdot = (0.470646*x+0.071363*y+1.177489*np.sin(omega1*x)-2.267561*np.sin(omega1*y)\n",
    "       -1.100573*np.sin(omega1*x*y)-0.203971*np.sin(omega2*x)+6.538423*np.sin(omega2*y)\n",
    "       +0.403427*np.sin(omega2*x*y))\n",
    "\n",
    "    \n",
    "    ydot = (-0.15382964*x - 0.1406684*y +0.702476*np.sin(omega1*x)+0.387335*np.sin(omega1*y)\n",
    "        +0.450298*np.sin(omega1*x*y)+1.252693*np.sin(omega2*x)-0.884045*np.sin(omega2*y)\n",
    "        -0.338169*np.sin(omega2*x*y))\n",
    "\n",
    "    return [xdot,ydot]\n",
    "\n",
    "P0 = [20, 32]\n",
    "Ps = odeint(Lotka_Volterra, P0, time_new,hmax = 0.0001)\n",
    "hare_pop = Ps[:,0]\n",
    "lynx_pop = Ps[:,1]"
   ]
  },
  {
   "cell_type": "code",
   "execution_count": 266,
   "metadata": {},
   "outputs": [
    {
     "name": "stderr",
     "output_type": "stream",
     "text": [
      "/usr/local/lib/python3.5/dist-packages/scipy/integrate/odepack.py:247: ODEintWarning: Excess work done on this call (perhaps wrong Dfun type). Run with full_output = 1 to get quantitative information.\n",
      "  warnings.warn(warning_msg, ODEintWarning)\n"
     ]
    }
   ],
   "source": [
    "# run best fit model\n",
    "\n",
    "def Lotka_Volterra(X,t,Xi):\n",
    "    \n",
    "    x = X[0]\n",
    "    y = X[1]\n",
    "    \n",
    "    omega1 = 2*np.pi/5\n",
    "    omega2 = 2*np.pi/15\n",
    "    \n",
    "    library = (np.array([x, y, x*y, x**2, y**2, (x*y)**2, np.sin(omega1*x), np.sin(omega1*y), np.sin(omega1*x*y),\n",
    "                     np.sin(omega2*x), np.sin(omega2*y), np.sin(omega2*x*y)]))\n",
    "\n",
    "    dXdt = np.dot(Xi.T,library)\n",
    "    \n",
    "    xdot = dXdt[0]\n",
    "    ydot = dXdt[1]\n",
    "    \n",
    "    return [xdot, ydot]\n",
    "    \n",
    "    \n",
    "    \n",
    "P0 = [20, 32]\n",
    "Ps = odeint(Lotka_Volterra, P0, time_new, args=(Xi1,),full_output = 1)\n",
    "Ps = Ps[0]\n",
    "hare_pop = Ps[:,0]\n",
    "lynx_pop = Ps[:,1]"
   ]
  },
  {
   "cell_type": "code",
   "execution_count": 192,
   "metadata": {},
   "outputs": [],
   "source": [
    "x = X[0,0]\n",
    "y = X[0,1]\n",
    "\n",
    "omega1 = 2*np.pi/5\n",
    "omega2 = 2*np.pi/15\n",
    "\n",
    "library = (np.array([x, y, x*y, x**2, y**2, (x*y)**2, np.sin(omega1*x), np.sin(omega1*y), np.sin(omega1*x*y),\n",
    "                     np.sin(omega2*x), np.sin(omega2*y), np.sin(omega2*x*y)]))\n",
    "\n",
    "dXdt = np.dot(Xi.T,library)"
   ]
  },
  {
   "cell_type": "code",
   "execution_count": 178,
   "metadata": {},
   "outputs": [
    {
     "data": {
      "text/plain": [
       "array([ 0.470646,  0.071363,  0.      ,  0.      ,  0.      ,  0.      ,\n",
       "        1.177489, -2.267561, -1.100573, -0.203971,  6.538423,  0.403427])"
      ]
     },
     "execution_count": 178,
     "metadata": {},
     "output_type": "execute_result"
    }
   ],
   "source": [
    "Xi1[:,0]"
   ]
  },
  {
   "cell_type": "code",
   "execution_count": 179,
   "metadata": {},
   "outputs": [
    {
     "data": {
      "text/html": [
       "<div>\n",
       "<style scoped>\n",
       "    .dataframe tbody tr th:only-of-type {\n",
       "        vertical-align: middle;\n",
       "    }\n",
       "\n",
       "    .dataframe tbody tr th {\n",
       "        vertical-align: top;\n",
       "    }\n",
       "\n",
       "    .dataframe thead th {\n",
       "        text-align: right;\n",
       "    }\n",
       "</style>\n",
       "<table border=\"1\" class=\"dataframe\">\n",
       "  <thead>\n",
       "    <tr style=\"text-align: right;\">\n",
       "      <th></th>\n",
       "      <th>x</th>\n",
       "      <th>y</th>\n",
       "    </tr>\n",
       "  </thead>\n",
       "  <tbody>\n",
       "    <tr>\n",
       "      <th>x</th>\n",
       "      <td>0.470646</td>\n",
       "      <td>-0.153830</td>\n",
       "    </tr>\n",
       "    <tr>\n",
       "      <th>y</th>\n",
       "      <td>0.071363</td>\n",
       "      <td>-0.140668</td>\n",
       "    </tr>\n",
       "    <tr>\n",
       "      <th>xy</th>\n",
       "      <td>0.000000</td>\n",
       "      <td>0.000000</td>\n",
       "    </tr>\n",
       "    <tr>\n",
       "      <th>x^2</th>\n",
       "      <td>0.000000</td>\n",
       "      <td>0.000000</td>\n",
       "    </tr>\n",
       "    <tr>\n",
       "      <th>y^2</th>\n",
       "      <td>0.000000</td>\n",
       "      <td>0.000000</td>\n",
       "    </tr>\n",
       "    <tr>\n",
       "      <th>(xy)^2</th>\n",
       "      <td>0.000000</td>\n",
       "      <td>0.000000</td>\n",
       "    </tr>\n",
       "    <tr>\n",
       "      <th>sin(omega1*x)</th>\n",
       "      <td>1.177489</td>\n",
       "      <td>0.702476</td>\n",
       "    </tr>\n",
       "    <tr>\n",
       "      <th>sin(omega1*y)</th>\n",
       "      <td>-2.267561</td>\n",
       "      <td>0.387335</td>\n",
       "    </tr>\n",
       "    <tr>\n",
       "      <th>sin(omega1*xy)</th>\n",
       "      <td>-1.100573</td>\n",
       "      <td>0.450298</td>\n",
       "    </tr>\n",
       "    <tr>\n",
       "      <th>sin(omega2*x)</th>\n",
       "      <td>-0.203971</td>\n",
       "      <td>1.252693</td>\n",
       "    </tr>\n",
       "    <tr>\n",
       "      <th>sin(omega2*y)</th>\n",
       "      <td>6.538423</td>\n",
       "      <td>-0.884045</td>\n",
       "    </tr>\n",
       "    <tr>\n",
       "      <th>sin(omega2*xy)</th>\n",
       "      <td>0.403427</td>\n",
       "      <td>-0.338169</td>\n",
       "    </tr>\n",
       "  </tbody>\n",
       "</table>\n",
       "</div>"
      ],
      "text/plain": [
       "                       x         y\n",
       "x               0.470646 -0.153830\n",
       "y               0.071363 -0.140668\n",
       "xy              0.000000  0.000000\n",
       "x^2             0.000000  0.000000\n",
       "y^2             0.000000  0.000000\n",
       "(xy)^2          0.000000  0.000000\n",
       "sin(omega1*x)   1.177489  0.702476\n",
       "sin(omega1*y)  -2.267561  0.387335\n",
       "sin(omega1*xy) -1.100573  0.450298\n",
       "sin(omega2*x)  -0.203971  1.252693\n",
       "sin(omega2*y)   6.538423 -0.884045\n",
       "sin(omega2*xy)  0.403427 -0.338169"
      ]
     },
     "execution_count": 179,
     "metadata": {},
     "output_type": "execute_result"
    }
   ],
   "source": [
    "A"
   ]
  },
  {
   "cell_type": "code",
   "execution_count": 180,
   "metadata": {},
   "outputs": [],
   "source": [
    "xdot = (0.470646*x+0.071363*y+1.177489*np.sin(omega1*x)-2.267561*np.sin(omega1*y)\n",
    "       -1.100573*np.sin(omega1*x*y)-0.203971*np.sin(omega2*x)+6.538423*np.sin(omega2*y)\n",
    "       +0.403427*np.sin(omega2*x*y))\n",
    "\n",
    "    \n",
    "ydot = (-0.15382964*x - 0.1406684*y +0.702476*np.sin(omega1*x)+0.387335*np.sin(omega1*y)\n",
    "        +0.450298*np.sin(omega1*x*y)+1.252693*np.sin(omega2*x)-0.884045*np.sin(omega2*y)\n",
    "        -0.338169*np.sin(omega2*x*y))\n",
    "\n",
    "Xdot = [xdot,ydot]"
   ]
  },
  {
   "cell_type": "code",
   "execution_count": 181,
   "metadata": {},
   "outputs": [
    {
     "data": {
      "text/plain": [
       "(array([ 0.83015521, -5.69268096]), [0.8301734979981339, -5.692681214027499])"
      ]
     },
     "execution_count": 181,
     "metadata": {},
     "output_type": "execute_result"
    }
   ],
   "source": [
    "dXdt, Xdot"
   ]
  },
  {
   "cell_type": "code",
   "execution_count": 274,
   "metadata": {},
   "outputs": [
    {
     "data": {
      "text/plain": [
       "<matplotlib.legend.Legend at 0x7f74a08b0f60>"
      ]
     },
     "execution_count": 274,
     "metadata": {},
     "output_type": "execute_result"
    },
    {
     "data": {
      "image/png": "[encoded data removed]",
      "text/plain": [
       "<Figure size 576x1152 with 1 Axes>"
      ]
     },
     "metadata": {},
     "output_type": "display_data"
    }
   ],
   "source": [
    "plt.plot(time_new, hare_pop, label=\"Model Hare\")\n",
    "plt.plot(time_new, hare_interp, label=\"Data Hare\")\n",
    "plt.xlabel(\"Time\")\n",
    "plt.ylabel(\"Population\")\n",
    "plt.title(\"General SINDy Model\")\n",
    "plt.legend()\n"
   ]
  },
  {
   "cell_type": "code",
   "execution_count": 275,
   "metadata": {},
   "outputs": [
    {
     "data": {
      "text/plain": [
       "<matplotlib.legend.Legend at 0x7f74a077abe0>"
      ]
     },
     "execution_count": 275,
     "metadata": {},
     "output_type": "execute_result"
    },
    {
     "data": {
      "image/png": "[encoded data removed]",
      "text/plain": [
       "<Figure size 576x1152 with 1 Axes>"
      ]
     },
     "metadata": {},
     "output_type": "display_data"
    }
   ],
   "source": [
    "plt.plot(time_new, lynx_pop, label=\"Model Lynx\")\n",
    "plt.plot(time_new, lynx_interp, label=\"Data Lynx\")\n",
    "plt.xlabel(\"Time\")\n",
    "plt.ylabel(\"Population\")\n",
    "plt.title(\"General SINDy Model\")\n",
    "plt.legend()"
   ]
  },
  {
   "cell_type": "markdown",
   "metadata": {},
   "source": [
    "## Compute Information Scores"
   ]
  },
  {
   "cell_type": "code",
   "execution_count": 257,
   "metadata": {},
   "outputs": [
    {
     "name": "stdout",
     "output_type": "stream",
     "text": [
      "2.324457898172034\n",
      "1.656391628663504\n"
     ]
    }
   ],
   "source": [
    "# compute KL divergence for hares\n",
    "hare_kl = KL_divergence(hare_interp,hare_pop)\n",
    "\n",
    "# compute KL divergence for lynxes\n",
    "lynx_kl = KL_divergence(lynx_interp,hare_pop)\n",
    "\n",
    "print(hare_kl)\n",
    "\n",
    "print(lynx_kl)"
   ]
  },
  {
   "cell_type": "code",
   "execution_count": 258,
   "metadata": {},
   "outputs": [
    {
     "name": "stdout",
     "output_type": "stream",
     "text": [
      "10209.405539924377\n",
      "9261.04497006553\n"
     ]
    }
   ],
   "source": [
    "# compute aic score for hares\n",
    "hare_aic = AIC(hare_interp,hare_pop,8)\n",
    "\n",
    "# compute aic score for lynxes\n",
    "lynx_aic = AIC(lynx_interp,lynx_pop,6)\n",
    "\n",
    "print(hare_aic)\n",
    "print(lynx_aic)"
   ]
  },
  {
   "cell_type": "code",
   "execution_count": 259,
   "metadata": {},
   "outputs": [
    {
     "name": "stdout",
     "output_type": "stream",
     "text": [
      "10243.122404711754\n",
      "9286.332618656063\n"
     ]
    }
   ],
   "source": [
    "# compute bic score for hares\n",
    "hare_bic = BIC(hare_interp,hare_pop,8)\n",
    "\n",
    "# compute bic score for lynxes\n",
    "lynx_bic = BIC(lynx_interp,lynx_pop,6)\n",
    "\n",
    "print(hare_bic)\n",
    "print(lynx_bic)"
   ]
  },
  {
   "cell_type": "code",
   "execution_count": null,
   "metadata": {},
   "outputs": [],
   "source": []
  }
 ],
 "metadata": {
  "kernelspec": {
   "display_name": "Python 3",
   "language": "python",
   "name": "python3"
  },
  "language_info": {
   "codemirror_mode": {
    "name": "ipython",
    "version": 3
   },
   "file_extension": ".py",
   "mimetype": "text/x-python",
   "name": "python",
   "nbconvert_exporter": "python",
   "pygments_lexer": "ipython3",
   "version": "3.5.2"
  }
 },
 "nbformat": 4,
 "nbformat_minor": 2
}
