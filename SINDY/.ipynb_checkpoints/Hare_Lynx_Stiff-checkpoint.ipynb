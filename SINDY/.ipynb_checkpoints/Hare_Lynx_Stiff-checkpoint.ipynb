{
 "cells": [
  {
   "cell_type": "code",
   "execution_count": 1,
   "metadata": {},
   "outputs": [],
   "source": [
    "import numpy as np\n",
    "import matplotlib.pyplot as plt\n",
    "from matplotlib import rcParams\n",
    "from scipy.interpolate import interp1d\n",
    "from scipy.integrate import odeint\n",
    "from information_scores import *\n",
    "from sklearn.linear_model import Lasso\n",
    "import pandas as pd\n",
    "\n",
    "rcParams.update({'font.size': 18})\n",
    "plt.rcParams['figure.figsize'] = [8, 16]"
   ]
  },
  {
   "cell_type": "markdown",
   "metadata": {},
   "source": [
    "## Prepare Data"
   ]
  },
  {
   "cell_type": "code",
   "execution_count": 2,
   "metadata": {},
   "outputs": [
    {
     "name": "stdout",
     "output_type": "stream",
     "text": [
      "(496, 2) (496, 2)\n"
     ]
    }
   ],
   "source": [
    "# Layout the lynx and hare data\n",
    "\n",
    "time = np.arange(0,1905-1845,2) # original time \n",
    "\n",
    "hare = (np.array([20,20,52,83,64,68,83,12,3,150,110,\n",
    "                  60,7,10,70,100,92,70,10,11,137,137,\n",
    "                  18,22,52,83,18,10,9,65])) # original hare population values\n",
    "\n",
    "\n",
    "lynx = (np.array([32,50,12,10,13,36,15,12,6,6,65,70,\n",
    "                  40,9,20,34,45,40,15,15,60,80,26,18,\n",
    "                  37,50,35,12,12,25])) # original lynx population values\n",
    "\n",
    "time_new = np.linspace(0,1903-1845,500) # new time value\n",
    "dt = np.abs(time_new[1]-time_new[2]) # the new time step\n",
    "\n",
    "f_hare = interp1d(time,hare,'cubic') # hare inteprolation function\n",
    "\n",
    "hare_interp = f_hare(time_new) # inteprolated hare population values\n",
    "\n",
    "f_lynx = interp1d(time,lynx,'cubic') # lynx interpolation function\n",
    "\n",
    "lynx_interp = f_lynx(time_new) # interpolated lynx population values\n",
    "\n",
    "X = np.vstack([hare_interp,lynx_interp]) # data matrix\n",
    "\n",
    "# create the X and Xprime matrices to pass to the SINDy function\n",
    "\n",
    "# Fourth Order Central Difference\n",
    "X1 = X[0,:]\n",
    "X2 = X[1,:]\n",
    "\n",
    "dX1 = (1/(12*dt)) * (-X1[4:] + 8*X1[3:-1] - 8*X1[1:-3] + X1[:-4])\n",
    "X1 = X1[2:-2]\n",
    "\n",
    "dX2 = (1/(12*dt)) * (-X2[4:] + 8*X2[3:-1] - 8*X2[1:-3] + X2[:-4])\n",
    "X2 = X2[2:-2]\n",
    "\n",
    "dX = np.vstack([dX1,dX2]) # data matrix\n",
    "\n",
    "# Trim first and last two that are lost in derivative\n",
    "X = X[:,2:-2].T\n",
    "Xprime = dX.T\n",
    "\n",
    "\n",
    "print(X.shape,Xprime.shape) # print out the shapes of the data matrices as a sanity check"
   ]
  },
  {
   "cell_type": "markdown",
   "metadata": {},
   "source": [
    "## Build Library of Functions for SINDY"
   ]
  },
  {
   "cell_type": "code",
   "execution_count": 3,
   "metadata": {},
   "outputs": [],
   "source": [
    "def build_library(X):\n",
    "    \n",
    "    n = X.shape[0]\n",
    "    Theta = np.zeros((n,1))\n",
    "    function_label = []\n",
    "    \n",
    "    # first order polynomial in x (first state)\n",
    "    first_state = X[:,0]\n",
    "    Theta[:,0] = first_state\n",
    "    function_label.append('x')\n",
    "    \n",
    "    # first order polynomial in y (second state)\n",
    "    second_state = np.array([X[:,1]]).T\n",
    "    Theta = np.append(Theta,second_state,axis=1)\n",
    "    function_label.append('y')\n",
    "    \n",
    "    # first order polynomial in xy (product of states)\n",
    "    product = np.array([X[:,0]*X[:,1]]).T\n",
    "    Theta = np.append(Theta,product,axis = 1)\n",
    "    function_label.append('xy')\n",
    "    \n",
    "    # second order polynomial in x\n",
    "    x2 = np.array([X[:,0]*X[:,0]]).T\n",
    "    Theta = np.append(Theta,x2,axis = 1)\n",
    "    function_label.append('x^2')\n",
    "    \n",
    "    # second order polynomial in y\n",
    "    y2 = np.array([X[:,1]*X[:,1]]).T\n",
    "    Theta = np.append(Theta,y2,axis = 1)\n",
    "    function_label.append('y^2')\n",
    "    \n",
    "    # second order polynomial in xy\n",
    "    xy2 = np.array([(X[:,0]*X[:,1])**2]).T\n",
    "    Theta = np.append(Theta,xy2,axis = 1)\n",
    "    function_label.append('(xy)^2')\n",
    "    \n",
    "    period1 = 5 \n",
    "    # sin(omega*x), omega = (2*pi)/T , T = 5 years\n",
    "    sinx = np.array([np.sin(2*np.pi*X[:,0]/period1)]).T\n",
    "    Theta = np.append(Theta,sinx,axis = 1)\n",
    "    function_label.append('sin(omega1*x)')\n",
    "    \n",
    "    # sin(omega*y), omega = (2*pi)/T , T = 5 years\n",
    "    siny = np.array([np.sin(2*np.pi*X[:,1]/period1)]).T\n",
    "    Theta = np.append(Theta,siny,axis = 1)\n",
    "    function_label.append('sin(omega1*y)')\n",
    "    \n",
    "    # sin(omega*xy), omega = (2*pi)/T , T = 5 years\n",
    "    sinxy = np.array([np.sin(2*np.pi*(X[:,1]*X[:,0])/period1)]).T\n",
    "    Theta = np.append(Theta,sinxy,axis = 1)\n",
    "    function_label.append('sin(omega1*xy)')\n",
    "    \n",
    "    period2 = 15\n",
    "    # sin(omega*x), omega = (2*pi)/T , T = 15 years\n",
    "    sinx2 = np.array([np.sin(2*np.pi*X[:,0]/period2)]).T\n",
    "    Theta = np.append(Theta,sinx2,axis = 1)\n",
    "    function_label.append('sin(omega2*x)')\n",
    "    \n",
    "    # sin(omega*y), omega = (2*pi)/T , T = 15 years\n",
    "    siny2 = np.array([np.sin(2*np.pi*X[:,1]/period2)]).T\n",
    "    Theta = np.append(Theta,siny2,axis = 1)\n",
    "    function_label.append('sin(omega2*y)')\n",
    "    \n",
    "    # sin(omega*xy), omega = (2*pi)/T , T = 15 years\n",
    "    sinxy2 = np.array([np.sin(2*np.pi*(X[:,1]*X[:,0])/period2)]).T\n",
    "    Theta = np.append(Theta,sinxy2,axis = 1)\n",
    "    function_label.append('sin(omega2*xy)')\n",
    "    \n",
    "    return Theta, function_label\n",
    "\n",
    "\n",
    "def Sparse_Regression(Theta,dXdt,thresh):\n",
    "    \n",
    "    lassoreg = Lasso(alpha=thresh,normalize=True, max_iter=1e5) # sparsify!!!!! Hell yeah!!!\n",
    "    lassoreg.fit(Theta,dXdt)\n",
    "    Xi = lassoreg.coef_\n",
    "    \n",
    "    return Xi.T"
   ]
  },
  {
   "cell_type": "markdown",
   "metadata": {},
   "source": [
    "## Obtain Co-efficients"
   ]
  },
  {
   "cell_type": "code",
   "execution_count": 88,
   "metadata": {},
   "outputs": [
    {
     "name": "stdout",
     "output_type": "stream",
     "text": [
      "[[ 2.861100e-01 -1.503010e-01]\n",
      " [-7.035650e-01 -1.266470e-01]\n",
      " [-5.535000e-03  5.531000e-03]\n",
      " [-6.920000e-04  1.767000e-03]\n",
      " [ 2.291000e-03 -3.182000e-03]\n",
      " [ 0.000000e+00 -0.000000e+00]\n",
      " [ 1.759690e+00  6.915990e-01]\n",
      " [-2.058123e+00  3.833110e-01]\n",
      " [-1.044425e+00  4.490270e-01]\n",
      " [ 3.408080e-01  1.242420e+00]\n",
      " [ 7.939531e+00 -9.086120e-01]\n",
      " [ 7.249430e-01 -3.433470e-01]]\n"
     ]
    }
   ],
   "source": [
    "Theta,function_label = build_library(X) # build the lbrary of functions (Theta)\n",
    "threshold = 0.00001 # thresholding paramater for sparsification\n",
    "Xi = Sparse_Regression(Theta,Xprime,threshold) # obtain Xi (\"ksi\") that gives us the coefficients\n",
    "Xi = np.asarray(Xi)\n",
    "Xi1 = np.around(Xi,decimals = 6)\n",
    "print(Xi1) # print out Xi as a sanity check"
   ]
  },
  {
   "cell_type": "code",
   "execution_count": 89,
   "metadata": {},
   "outputs": [
    {
     "data": {
      "text/html": [
       "<div>\n",
       "<style scoped>\n",
       "    .dataframe tbody tr th:only-of-type {\n",
       "        vertical-align: middle;\n",
       "    }\n",
       "\n",
       "    .dataframe tbody tr th {\n",
       "        vertical-align: top;\n",
       "    }\n",
       "\n",
       "    .dataframe thead th {\n",
       "        text-align: right;\n",
       "    }\n",
       "</style>\n",
       "<table border=\"1\" class=\"dataframe\">\n",
       "  <thead>\n",
       "    <tr style=\"text-align: right;\">\n",
       "      <th></th>\n",
       "      <th>x</th>\n",
       "      <th>y</th>\n",
       "    </tr>\n",
       "  </thead>\n",
       "  <tbody>\n",
       "    <tr>\n",
       "      <th>x</th>\n",
       "      <td>0.286110</td>\n",
       "      <td>-0.150301</td>\n",
       "    </tr>\n",
       "    <tr>\n",
       "      <th>y</th>\n",
       "      <td>-0.703565</td>\n",
       "      <td>-0.126647</td>\n",
       "    </tr>\n",
       "    <tr>\n",
       "      <th>xy</th>\n",
       "      <td>-0.005535</td>\n",
       "      <td>0.005531</td>\n",
       "    </tr>\n",
       "    <tr>\n",
       "      <th>x^2</th>\n",
       "      <td>-0.000692</td>\n",
       "      <td>0.001767</td>\n",
       "    </tr>\n",
       "    <tr>\n",
       "      <th>y^2</th>\n",
       "      <td>0.002291</td>\n",
       "      <td>-0.003182</td>\n",
       "    </tr>\n",
       "    <tr>\n",
       "      <th>(xy)^2</th>\n",
       "      <td>0.000000</td>\n",
       "      <td>-0.000000</td>\n",
       "    </tr>\n",
       "    <tr>\n",
       "      <th>sin(omega1*x)</th>\n",
       "      <td>1.759690</td>\n",
       "      <td>0.691599</td>\n",
       "    </tr>\n",
       "    <tr>\n",
       "      <th>sin(omega1*y)</th>\n",
       "      <td>-2.058123</td>\n",
       "      <td>0.383311</td>\n",
       "    </tr>\n",
       "    <tr>\n",
       "      <th>sin(omega1*xy)</th>\n",
       "      <td>-1.044425</td>\n",
       "      <td>0.449027</td>\n",
       "    </tr>\n",
       "    <tr>\n",
       "      <th>sin(omega2*x)</th>\n",
       "      <td>0.340808</td>\n",
       "      <td>1.242420</td>\n",
       "    </tr>\n",
       "    <tr>\n",
       "      <th>sin(omega2*y)</th>\n",
       "      <td>7.939531</td>\n",
       "      <td>-0.908612</td>\n",
       "    </tr>\n",
       "    <tr>\n",
       "      <th>sin(omega2*xy)</th>\n",
       "      <td>0.724943</td>\n",
       "      <td>-0.343347</td>\n",
       "    </tr>\n",
       "  </tbody>\n",
       "</table>\n",
       "</div>"
      ],
      "text/plain": [
       "                       x         y\n",
       "x               0.286110 -0.150301\n",
       "y              -0.703565 -0.126647\n",
       "xy             -0.005535  0.005531\n",
       "x^2            -0.000692  0.001767\n",
       "y^2             0.002291 -0.003182\n",
       "(xy)^2          0.000000 -0.000000\n",
       "sin(omega1*x)   1.759690  0.691599\n",
       "sin(omega1*y)  -2.058123  0.383311\n",
       "sin(omega1*xy) -1.044425  0.449027\n",
       "sin(omega2*x)   0.340808  1.242420\n",
       "sin(omega2*y)   7.939531 -0.908612\n",
       "sin(omega2*xy)  0.724943 -0.343347"
      ]
     },
     "execution_count": 89,
     "metadata": {},
     "output_type": "execute_result"
    }
   ],
   "source": [
    "states = ['x','y']\n",
    "df = pd.DataFrame(Xi1,index = function_label, columns = states)\n",
    "A=df.head(12)\n",
    "A"
   ]
  },
  {
   "cell_type": "markdown",
   "metadata": {},
   "source": [
    "## Define the Function that SINDY returns"
   ]
  },
  {
   "cell_type": "code",
   "execution_count": 90,
   "metadata": {},
   "outputs": [],
   "source": [
    "def Lotka_Volterra(X,t,Xi):\n",
    "    \n",
    "    x = X[0]\n",
    "    y = X[1]\n",
    "    \n",
    "    omega1 = 2*np.pi/5\n",
    "    omega2 = 2*np.pi/15\n",
    "    \n",
    "    library = (np.array([x, y, x*y, x**2, y**2, (x*y)**2, np.sin(omega1*x), np.sin(omega1*y), np.sin(omega1*x*y),\n",
    "                     np.sin(omega2*x), np.sin(omega2*y), np.sin(omega2*x*y)]))\n",
    "\n",
    "    dXdt = np.dot(Xi.T,library)\n",
    "    \n",
    "    xdot = dXdt[0]\n",
    "    ydot = dXdt[1]\n",
    "    \n",
    "    return [xdot, ydot]"
   ]
  },
  {
   "cell_type": "markdown",
   "metadata": {},
   "source": [
    "## Obtain ODE solution to SINDY model with SciPy and Plot the Results"
   ]
  },
  {
   "cell_type": "code",
   "execution_count": 91,
   "metadata": {},
   "outputs": [
    {
     "name": "stderr",
     "output_type": "stream",
     "text": [
      "/usr/local/lib/python3.5/dist-packages/scipy/integrate/odepack.py:247: ODEintWarning: Excess work done on this call (perhaps wrong Dfun type). Run with full_output = 1 to get quantitative information.\n",
      "  warnings.warn(warning_msg, ODEintWarning)\n"
     ]
    },
    {
     "data": {
      "image/png": "[encoded data removed]",
      "text/plain": [
       "<Figure size 432x288 with 1 Axes>"
      ]
     },
     "metadata": {},
     "output_type": "display_data"
    },
    {
     "data": {
      "image/png": "[encoded data removed]",
      "text/plain": [
       "<Figure size 432x288 with 1 Axes>"
      ]
     },
     "metadata": {},
     "output_type": "display_data"
    }
   ],
   "source": [
    "P0 = [20, 32]\n",
    "Ps = odeint(Lotka_Volterra, P0, time_new, args=(Xi1,),full_output = 1, hmax = 1e-13)\n",
    "Ps = Ps[0]\n",
    "hare_pop = Ps[:,0]\n",
    "lynx_pop = Ps[:,1]\n",
    "\n",
    "plt.plot(time_new, hare_pop, label=\"Model Hare\")\n",
    "plt.plot(time_new, hare_interp, label=\"Data Hare\")\n",
    "plt.xlabel(\"Time\")\n",
    "plt.ylabel(\"Population\")\n",
    "plt.title(\"SINDY Model for Hare Population Data\")\n",
    "plt.legend()\n",
    "plt.show()\n",
    "\n",
    "plt.plot(time_new, lynx_pop, label=\"Model Lynx\")\n",
    "plt.plot(time_new, lynx_interp, label=\"Data Lynx\")\n",
    "plt.xlabel(\"Time\")\n",
    "plt.ylabel(\"Population\")\n",
    "plt.title(\"SINDy Model for Lynx Population Data\")\n",
    "plt.legend()\n",
    "plt.show()"
   ]
  },
  {
   "cell_type": "markdown",
   "metadata": {},
   "source": [
    "# Define an In-House 4th Order Runge-Kutta"
   ]
  },
  {
   "cell_type": "code",
   "execution_count": 66,
   "metadata": {},
   "outputs": [
    {
     "data": {
      "text/plain": [
       "1e-09"
      ]
     },
     "execution_count": 66,
     "metadata": {},
     "output_type": "execute_result"
    }
   ],
   "source": [
    "1e-10*10"
   ]
  },
  {
   "cell_type": "code",
   "execution_count": null,
   "metadata": {},
   "outputs": [],
   "source": [
    "def RK4():\n",
    "    "
   ]
  }
 ],
 "metadata": {
  "kernelspec": {
   "display_name": "Python 3",
   "language": "python",
   "name": "python3"
  },
  "language_info": {
   "codemirror_mode": {
    "name": "ipython",
    "version": 3
   },
   "file_extension": ".py",
   "mimetype": "text/x-python",
   "name": "python",
   "nbconvert_exporter": "python",
   "pygments_lexer": "ipython3",
   "version": "3.5.2"
  }
 },
 "nbformat": 4,
 "nbformat_minor": 2
}
