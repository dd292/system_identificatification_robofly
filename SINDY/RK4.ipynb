{
 "cells": [
  {
   "cell_type": "code",
   "execution_count": 73,
   "metadata": {},
   "outputs": [],
   "source": [
    "import numpy as np\n",
    "import matplotlib.pyplot as plt\n",
    "from matplotlib import rcParams\n",
    "from scipy.interpolate import interp1d\n",
    "from scipy.integrate import *\n",
    "from information_scores import *\n",
    "from sklearn.linear_model import Lasso\n",
    "import pandas as pd\n",
    "\n",
    "rcParams.update({'font.size': 18})\n",
    "plt.rcParams['figure.figsize'] = [8, 16]"
   ]
  },
  {
   "cell_type": "code",
   "execution_count": 68,
   "metadata": {},
   "outputs": [
    {
     "name": "stdout",
     "output_type": "stream",
     "text": [
      "(496, 2) (496, 2)\n"
     ]
    }
   ],
   "source": [
    "# Layout the lynx and hare data\n",
    "\n",
    "time = np.arange(0,1905-1845,2) # original time \n",
    "\n",
    "hare = (np.array([20,20,52,83,64,68,83,12,3,150,110,\n",
    "                  60,7,10,70,100,92,70,10,11,137,137,\n",
    "                  18,22,52,83,18,10,9,65])) # original hare population values\n",
    "\n",
    "\n",
    "lynx = (np.array([32,50,12,10,13,36,15,12,6,6,65,70,\n",
    "                  40,9,20,34,45,40,15,15,60,80,26,18,\n",
    "                  37,50,35,12,12,25])) # original lynx population values\n",
    "\n",
    "time_new = np.linspace(0,1903-1845,500) # new time value\n",
    "dt = np.abs(time_new[1]-time_new[2]) # the new time step\n",
    "\n",
    "f_hare = interp1d(time,hare,'cubic') # hare inteprolation function\n",
    "\n",
    "hare_interp = f_hare(time_new) # inteprolated hare population values\n",
    "\n",
    "f_lynx = interp1d(time,lynx,'cubic') # lynx interpolation function\n",
    "\n",
    "lynx_interp = f_lynx(time_new) # interpolated lynx population values\n",
    "\n",
    "X = np.vstack([hare_interp,lynx_interp]) # data matrix\n",
    "\n",
    "# create the X and Xprime matrices to pass to the SINDy function\n",
    "\n",
    "# Fourth Order Central Difference\n",
    "X1 = X[0,:]\n",
    "X2 = X[1,:]\n",
    "\n",
    "dX1 = (1/(12*dt)) * (-X1[4:] + 8*X1[3:-1] - 8*X1[1:-3] + X1[:-4])\n",
    "X1 = X1[2:-2]\n",
    "\n",
    "dX2 = (1/(12*dt)) * (-X2[4:] + 8*X2[3:-1] - 8*X2[1:-3] + X2[:-4])\n",
    "X2 = X2[2:-2]\n",
    "\n",
    "dX = np.vstack([dX1,dX2]) # data matrix\n",
    "\n",
    "# Trim first and last two that are lost in derivative\n",
    "X = X[:,2:-2].T\n",
    "Xprime = dX.T\n",
    "\n",
    "\n",
    "print(X.shape,Xprime.shape) # print out the shapes of the data matrices as a sanity check"
   ]
  },
  {
   "cell_type": "code",
   "execution_count": 89,
   "metadata": {},
   "outputs": [],
   "source": [
    "# SINDy Function Definitions\n",
    "\n",
    "def build_library(X):\n",
    "    \n",
    "    n = X.shape[0]\n",
    "    Theta = np.zeros((n,1))\n",
    "    function_label = []\n",
    "    \n",
    "    # first order polynomial in x (first state)\n",
    "    first_state = X[:,0]\n",
    "    Theta[:,0] = first_state\n",
    "    function_label.append('x')\n",
    "    \n",
    "    # first order polynomial in y (second state)\n",
    "    second_state = np.array([X[:,1]]).T\n",
    "    Theta = np.append(Theta,second_state,axis=1)\n",
    "    function_label.append('y')\n",
    "    \n",
    "    # first order polynomial in xy (product of states)\n",
    "    product = np.array([X[:,0]*X[:,1]]).T\n",
    "    Theta = np.append(Theta,product,axis = 1)\n",
    "    function_label.append('xy')\n",
    "    \n",
    "    # second order polynomial in x\n",
    "    x2 = np.array([X[:,0]*X[:,0]]).T\n",
    "    Theta = np.append(Theta,x2,axis = 1)\n",
    "    function_label.append('x^2')\n",
    "    \n",
    "    # second order polynomial in y\n",
    "    y2 = np.array([X[:,1]*X[:,1]]).T\n",
    "    Theta = np.append(Theta,y2,axis = 1)\n",
    "    function_label.append('y^2')\n",
    "    \n",
    "    # second order polynomial in xy\n",
    "    xy2 = np.array([(X[:,0]*X[:,1])**2]).T\n",
    "    Theta = np.append(Theta,xy2,axis = 1)\n",
    "    function_label.append('(xy)^2')\n",
    "    \n",
    "    period1 = 5 \n",
    "    # sin(omega*x), omega = (2*pi)/T , T = 5 years\n",
    "    sinx = np.array([np.sin(2*np.pi*X[:,0]/period1)]).T\n",
    "    Theta = np.append(Theta,sinx,axis = 1)\n",
    "    function_label.append('sin(omega1*x)')\n",
    "    \n",
    "    # sin(omega*y), omega = (2*pi)/T , T = 5 years\n",
    "    siny = np.array([np.sin(2*np.pi*X[:,1]/period1)]).T\n",
    "    Theta = np.append(Theta,siny,axis = 1)\n",
    "    function_label.append('sin(omega1*y)')\n",
    "    \n",
    "    # sin(omega*xy), omega = (2*pi)/T , T = 5 years\n",
    "    sinxy = np.array([np.sin(2*np.pi*(X[:,1]*X[:,0])/period1)]).T\n",
    "    Theta = np.append(Theta,sinxy,axis = 1)\n",
    "    function_label.append('sin(omega1*xy)')\n",
    "    \n",
    "    period2 = 15\n",
    "    # sin(omega*x), omega = (2*pi)/T , T = 15 years\n",
    "    sinx2 = np.array([np.sin(2*np.pi*X[:,0]/period2)]).T\n",
    "    Theta = np.append(Theta,sinx2,axis = 1)\n",
    "    function_label.append('sin(omega2*x)')\n",
    "    \n",
    "    # sin(omega*y), omega = (2*pi)/T , T = 15 years\n",
    "    siny2 = np.array([np.sin(2*np.pi*X[:,1]/period2)]).T\n",
    "    Theta = np.append(Theta,siny2,axis = 1)\n",
    "    function_label.append('sin(omega2*y)')\n",
    "    \n",
    "    # sin(omega*xy), omega = (2*pi)/T , T = 15 years\n",
    "    sinxy2 = np.array([np.sin(2*np.pi*(X[:,1]*X[:,0])/period2)]).T\n",
    "    Theta = np.append(Theta,sinxy2,axis = 1)\n",
    "    function_label.append('sin(omega2*xy)')\n",
    "    \n",
    "    return Theta, function_label\n",
    "\n",
    "# def Sparse_Regression(Theta,dXdt,thresh):\n",
    "    \n",
    "#     Xi = np.linalg.lstsq(Theta,dXdt,rcond=None)[0] # Initial guess: Least-squares\n",
    "#     smallinds = np.where(np.abs(Xi) < thresh) # find where the entries is Xi are below the threshold\n",
    "#     Xi[smallinds] = 0 # sparsify!!!!! Hell yeah!!!\n",
    "    \n",
    "#     return Xi\n",
    "\n",
    "def Sparse_Regression(Theta,dXdt,thresh):\n",
    "    \n",
    "    lassoreg = Lasso(alpha=thresh,normalize=True, max_iter=1e5) # sparsify!!!!! Hell yeah!!!\n",
    "    lassoreg.fit(Theta,dXdt)\n",
    "    Xi = lassoreg.coef_\n",
    "    \n",
    "    return Xi.T"
   ]
  },
  {
   "cell_type": "code",
   "execution_count": 90,
   "metadata": {},
   "outputs": [
    {
     "ename": "IndexError",
     "evalue": "too many indices for array",
     "output_type": "error",
     "traceback": [
      "\u001b[0;31m---------------------------------------------------------------------------\u001b[0m",
      "\u001b[0;31mIndexError\u001b[0m                                Traceback (most recent call last)",
      "\u001b[0;32m<ipython-input-90-4a1cc48ff2fc>\u001b[0m in \u001b[0;36m<module>\u001b[0;34m()\u001b[0m\n\u001b[0;32m----> 1\u001b[0;31m \u001b[0mTheta\u001b[0m\u001b[0;34m,\u001b[0m\u001b[0mfunction_label\u001b[0m \u001b[0;34m=\u001b[0m \u001b[0mbuild_library\u001b[0m\u001b[0;34m(\u001b[0m\u001b[0mX\u001b[0m\u001b[0;34m)\u001b[0m \u001b[0;31m# build the lbrary of functions (Theta)\u001b[0m\u001b[0;34m\u001b[0m\u001b[0m\n\u001b[0m\u001b[1;32m      2\u001b[0m \u001b[0mthreshold\u001b[0m \u001b[0;34m=\u001b[0m \u001b[0;36m0.001\u001b[0m \u001b[0;31m# thresholding paramater for sparsification\u001b[0m\u001b[0;34m\u001b[0m\u001b[0m\n\u001b[1;32m      3\u001b[0m \u001b[0mXi\u001b[0m \u001b[0;34m=\u001b[0m \u001b[0mSparse_Regression\u001b[0m\u001b[0;34m(\u001b[0m\u001b[0mTheta\u001b[0m\u001b[0;34m,\u001b[0m\u001b[0mXprime\u001b[0m\u001b[0;34m,\u001b[0m\u001b[0mthreshold\u001b[0m\u001b[0;34m)\u001b[0m \u001b[0;31m# obtain Xi (\"ksi\") that gives us the coefficients\u001b[0m\u001b[0;34m\u001b[0m\u001b[0m\n\u001b[1;32m      4\u001b[0m \u001b[0mXi\u001b[0m \u001b[0;34m=\u001b[0m \u001b[0mnp\u001b[0m\u001b[0;34m.\u001b[0m\u001b[0masarray\u001b[0m\u001b[0;34m(\u001b[0m\u001b[0mXi\u001b[0m\u001b[0;34m)\u001b[0m\u001b[0;34m\u001b[0m\u001b[0m\n\u001b[1;32m      5\u001b[0m \u001b[0mprint\u001b[0m\u001b[0;34m(\u001b[0m\u001b[0mXi\u001b[0m\u001b[0;34m)\u001b[0m \u001b[0;31m# print out Xi as a sanity check\u001b[0m\u001b[0;34m\u001b[0m\u001b[0m\n",
      "\u001b[0;32m<ipython-input-89-17178c9c349b>\u001b[0m in \u001b[0;36mbuild_library\u001b[0;34m(X)\u001b[0m\n\u001b[1;32m      8\u001b[0m \u001b[0;34m\u001b[0m\u001b[0m\n\u001b[1;32m      9\u001b[0m     \u001b[0;31m# first order polynomial in x (first state)\u001b[0m\u001b[0;34m\u001b[0m\u001b[0;34m\u001b[0m\u001b[0m\n\u001b[0;32m---> 10\u001b[0;31m     \u001b[0mfirst_state\u001b[0m \u001b[0;34m=\u001b[0m \u001b[0mX\u001b[0m\u001b[0;34m[\u001b[0m\u001b[0;34m:\u001b[0m\u001b[0;34m,\u001b[0m\u001b[0;36m0\u001b[0m\u001b[0;34m]\u001b[0m\u001b[0;34m\u001b[0m\u001b[0m\n\u001b[0m\u001b[1;32m     11\u001b[0m     \u001b[0mTheta\u001b[0m\u001b[0;34m[\u001b[0m\u001b[0;34m:\u001b[0m\u001b[0;34m,\u001b[0m\u001b[0;36m0\u001b[0m\u001b[0;34m]\u001b[0m \u001b[0;34m=\u001b[0m \u001b[0mfirst_state\u001b[0m\u001b[0;34m\u001b[0m\u001b[0m\n\u001b[1;32m     12\u001b[0m     \u001b[0mfunction_label\u001b[0m\u001b[0;34m.\u001b[0m\u001b[0mappend\u001b[0m\u001b[0;34m(\u001b[0m\u001b[0;34m'x'\u001b[0m\u001b[0;34m)\u001b[0m\u001b[0;34m\u001b[0m\u001b[0m\n",
      "\u001b[0;31mIndexError\u001b[0m: too many indices for array"
     ]
    }
   ],
   "source": [
    "Theta,function_label = build_library(X) # build the lbrary of functions (Theta)\n",
    "threshold = 0.001 # thresholding paramater for sparsification\n",
    "Xi = Sparse_Regression(Theta,Xprime,threshold) # obtain Xi (\"ksi\") that gives us the coefficients\n",
    "Xi = np.asarray(Xi)\n",
    "print(Xi) # print out Xi as a sanity check"
   ]
  },
  {
   "cell_type": "code",
   "execution_count": 91,
   "metadata": {},
   "outputs": [],
   "source": [
    "# define a sample ODE to test RK4 on\n",
    "\n",
    "def Lotka_Volterra(t,X,blah):\n",
    "    \n",
    "    x = X[0]\n",
    "    y = X[1]\n",
    "    \n",
    "    omega1 = 2*np.pi/5\n",
    "    omega2 = 2*np.pi/15\n",
    "    \n",
    "    xdot = (0.47064556*x+0.07136272*y-0.01110213*x*y-0.00118093*x**2-0.0050453*y**2+6.53842294*np.sin(omega2*y)\n",
    "             +1.1774889*np.sin(omega1*x)-2.26756052*np.sin(omega1*y))\n",
    "\n",
    "    \n",
    "    ydot = (-0.15382964*x - 0.1406684*y+5.63696948e-03*x*y+0.00179203*x**2-0.00275862*y**2+\n",
    "            1.25269343*np.sin(omega2*x))\n",
    "\n",
    "    return np.asarray([xdot,ydot])"
   ]
  },
  {
   "cell_type": "code",
   "execution_count": 70,
   "metadata": {},
   "outputs": [],
   "source": [
    "# initial and final times\n",
    "t_start = time_new[0]; t_stop = time_new[-1]\n",
    "\n",
    "h = 0.001\n",
    "n = int((t_stop-t_start)/h) # number of iterations\n",
    "\n",
    "P0 = np.asarray([20.0, 32.0])\n",
    "X = P0\n",
    "X_sol = X0\n",
    "t_sol = np.asarray([0])\n",
    "\n",
    "# RK4\n",
    "for i in range(0, n):\n",
    "    # obtain k1 value\n",
    "    k1 = h*func(X,t)\n",
    "    # obtain k2 value\n",
    "    k2 = h*func(X+k1/2,t+h/2)\n",
    "    # obtain k3 value\n",
    "    k3 = h*func(X+k2/2,t+h/2)\n",
    "    # obtain k4 value\n",
    "    k4 = h*func(X+k3,t+h)\n",
    "    # obtain next time step in state variables\n",
    "    X += (k1+2*k2+2*k3+k4)/6\n",
    "    # update independent variable using the step size\n",
    "    t += h\n",
    "    # collect values\n",
    "    X_sol = np.vstack([X_sol,X])\n",
    "    t_sol = np.vstack([t_sol,t])"
   ]
  },
  {
   "cell_type": "code",
   "execution_count": 92,
   "metadata": {},
   "outputs": [
    {
     "name": "stderr",
     "output_type": "stream",
     "text": [
      "/usr/local/lib/python3.5/dist-packages/scipy/integrate/_ivp/common.py:41: UserWarning: The following arguments have no effect for a chosen solver: `args`.\n",
      "  .format(\", \".join(\"`{}`\".format(x) for x in extraneous)))\n"
     ]
    },
    {
     "ename": "TypeError",
     "evalue": "Lotka_Volterra() missing 1 required positional argument: 'blah'",
     "output_type": "error",
     "traceback": [
      "\u001b[0;31m---------------------------------------------------------------------------\u001b[0m",
      "\u001b[0;31mTypeError\u001b[0m                                 Traceback (most recent call last)",
      "\u001b[0;32m<ipython-input-92-4315581b9349>\u001b[0m in \u001b[0;36m<module>\u001b[0;34m()\u001b[0m\n\u001b[1;32m      2\u001b[0m \u001b[0mtspan\u001b[0m \u001b[0;34m=\u001b[0m \u001b[0mnp\u001b[0m\u001b[0;34m.\u001b[0m\u001b[0masarray\u001b[0m\u001b[0;34m(\u001b[0m\u001b[0;34m[\u001b[0m\u001b[0mtime_new\u001b[0m\u001b[0;34m[\u001b[0m\u001b[0;36m0\u001b[0m\u001b[0;34m]\u001b[0m\u001b[0;34m,\u001b[0m\u001b[0mtime_new\u001b[0m\u001b[0;34m[\u001b[0m\u001b[0;34m-\u001b[0m\u001b[0;36m1\u001b[0m\u001b[0;34m]\u001b[0m\u001b[0;34m]\u001b[0m\u001b[0;34m)\u001b[0m\u001b[0;34m\u001b[0m\u001b[0m\n\u001b[1;32m      3\u001b[0m \u001b[0;34m\u001b[0m\u001b[0m\n\u001b[0;32m----> 4\u001b[0;31m \u001b[0mPs\u001b[0m \u001b[0;34m=\u001b[0m \u001b[0msolve_ivp\u001b[0m\u001b[0;34m(\u001b[0m\u001b[0mLotka_Volterra\u001b[0m\u001b[0;34m,\u001b[0m \u001b[0mtspan\u001b[0m\u001b[0;34m,\u001b[0m \u001b[0mP0\u001b[0m\u001b[0;34m,\u001b[0m \u001b[0mmethod\u001b[0m \u001b[0;34m=\u001b[0m \u001b[0;34m'LSODA'\u001b[0m\u001b[0;34m,\u001b[0m\u001b[0margs\u001b[0m \u001b[0;34m=\u001b[0m \u001b[0;34m(\u001b[0m\u001b[0;36m1\u001b[0m\u001b[0;34m)\u001b[0m\u001b[0;34m)\u001b[0m\u001b[0;34m\u001b[0m\u001b[0m\n\u001b[0m\u001b[1;32m      5\u001b[0m \u001b[0mhare_pop\u001b[0m \u001b[0;34m=\u001b[0m \u001b[0mPs\u001b[0m\u001b[0;34m.\u001b[0m\u001b[0my\u001b[0m\u001b[0;34m[\u001b[0m\u001b[0;36m0\u001b[0m\u001b[0;34m,\u001b[0m\u001b[0;34m:\u001b[0m\u001b[0;34m]\u001b[0m\u001b[0;34m\u001b[0m\u001b[0m\n\u001b[1;32m      6\u001b[0m \u001b[0mlynx_pop\u001b[0m \u001b[0;34m=\u001b[0m \u001b[0mPs\u001b[0m\u001b[0;34m.\u001b[0m\u001b[0my\u001b[0m\u001b[0;34m[\u001b[0m\u001b[0;36m1\u001b[0m\u001b[0;34m,\u001b[0m\u001b[0;34m:\u001b[0m\u001b[0;34m]\u001b[0m\u001b[0;34m\u001b[0m\u001b[0m\n",
      "\u001b[0;32m/usr/local/lib/python3.5/dist-packages/scipy/integrate/_ivp/ivp.py\u001b[0m in \u001b[0;36msolve_ivp\u001b[0;34m(fun, t_span, y0, method, t_eval, dense_output, events, vectorized, **options)\u001b[0m\n\u001b[1;32m    479\u001b[0m     \u001b[0mstatus\u001b[0m \u001b[0;34m=\u001b[0m \u001b[0;32mNone\u001b[0m\u001b[0;34m\u001b[0m\u001b[0m\n\u001b[1;32m    480\u001b[0m     \u001b[0;32mwhile\u001b[0m \u001b[0mstatus\u001b[0m \u001b[0;32mis\u001b[0m \u001b[0;32mNone\u001b[0m\u001b[0;34m:\u001b[0m\u001b[0;34m\u001b[0m\u001b[0m\n\u001b[0;32m--> 481\u001b[0;31m         \u001b[0mmessage\u001b[0m \u001b[0;34m=\u001b[0m \u001b[0msolver\u001b[0m\u001b[0;34m.\u001b[0m\u001b[0mstep\u001b[0m\u001b[0;34m(\u001b[0m\u001b[0;34m)\u001b[0m\u001b[0;34m\u001b[0m\u001b[0m\n\u001b[0m\u001b[1;32m    482\u001b[0m \u001b[0;34m\u001b[0m\u001b[0m\n\u001b[1;32m    483\u001b[0m         \u001b[0;32mif\u001b[0m \u001b[0msolver\u001b[0m\u001b[0;34m.\u001b[0m\u001b[0mstatus\u001b[0m \u001b[0;34m==\u001b[0m \u001b[0;34m'finished'\u001b[0m\u001b[0;34m:\u001b[0m\u001b[0;34m\u001b[0m\u001b[0m\n",
      "\u001b[0;32m/usr/local/lib/python3.5/dist-packages/scipy/integrate/_ivp/base.py\u001b[0m in \u001b[0;36mstep\u001b[0;34m(self)\u001b[0m\n\u001b[1;32m    180\u001b[0m         \u001b[0;32melse\u001b[0m\u001b[0;34m:\u001b[0m\u001b[0;34m\u001b[0m\u001b[0m\n\u001b[1;32m    181\u001b[0m             \u001b[0mt\u001b[0m \u001b[0;34m=\u001b[0m \u001b[0mself\u001b[0m\u001b[0;34m.\u001b[0m\u001b[0mt\u001b[0m\u001b[0;34m\u001b[0m\u001b[0m\n\u001b[0;32m--> 182\u001b[0;31m             \u001b[0msuccess\u001b[0m\u001b[0;34m,\u001b[0m \u001b[0mmessage\u001b[0m \u001b[0;34m=\u001b[0m \u001b[0mself\u001b[0m\u001b[0;34m.\u001b[0m\u001b[0m_step_impl\u001b[0m\u001b[0;34m(\u001b[0m\u001b[0;34m)\u001b[0m\u001b[0;34m\u001b[0m\u001b[0m\n\u001b[0m\u001b[1;32m    183\u001b[0m \u001b[0;34m\u001b[0m\u001b[0m\n\u001b[1;32m    184\u001b[0m             \u001b[0;32mif\u001b[0m \u001b[0;32mnot\u001b[0m \u001b[0msuccess\u001b[0m\u001b[0;34m:\u001b[0m\u001b[0;34m\u001b[0m\u001b[0m\n",
      "\u001b[0;32m/usr/local/lib/python3.5/dist-packages/scipy/integrate/_ivp/lsoda.py\u001b[0m in \u001b[0;36m_step_impl\u001b[0;34m(self)\u001b[0m\n\u001b[1;32m    152\u001b[0m         solver._y, solver.t = integrator.run(\n\u001b[1;32m    153\u001b[0m             \u001b[0msolver\u001b[0m\u001b[0;34m.\u001b[0m\u001b[0mf\u001b[0m\u001b[0;34m,\u001b[0m \u001b[0msolver\u001b[0m\u001b[0;34m.\u001b[0m\u001b[0mjac\u001b[0m\u001b[0;34m,\u001b[0m \u001b[0msolver\u001b[0m\u001b[0;34m.\u001b[0m\u001b[0m_y\u001b[0m\u001b[0;34m,\u001b[0m \u001b[0msolver\u001b[0m\u001b[0;34m.\u001b[0m\u001b[0mt\u001b[0m\u001b[0;34m,\u001b[0m\u001b[0;34m\u001b[0m\u001b[0m\n\u001b[0;32m--> 154\u001b[0;31m             self.t_bound, solver.f_params, solver.jac_params)\n\u001b[0m\u001b[1;32m    155\u001b[0m         \u001b[0mintegrator\u001b[0m\u001b[0;34m.\u001b[0m\u001b[0mcall_args\u001b[0m\u001b[0;34m[\u001b[0m\u001b[0;36m2\u001b[0m\u001b[0;34m]\u001b[0m \u001b[0;34m=\u001b[0m \u001b[0mitask\u001b[0m\u001b[0;34m\u001b[0m\u001b[0m\n\u001b[1;32m    156\u001b[0m \u001b[0;34m\u001b[0m\u001b[0m\n",
      "\u001b[0;32m/usr/local/lib/python3.5/dist-packages/scipy/integrate/_ode.py\u001b[0m in \u001b[0;36mrun\u001b[0;34m(self, f, jac, y0, t0, t1, f_params, jac_params)\u001b[0m\n\u001b[1;32m   1341\u001b[0m         \u001b[0margs\u001b[0m \u001b[0;34m=\u001b[0m \u001b[0;34m[\u001b[0m\u001b[0mf\u001b[0m\u001b[0;34m,\u001b[0m \u001b[0my0\u001b[0m\u001b[0;34m,\u001b[0m \u001b[0mt0\u001b[0m\u001b[0;34m,\u001b[0m \u001b[0mt1\u001b[0m\u001b[0;34m]\u001b[0m \u001b[0;34m+\u001b[0m \u001b[0mself\u001b[0m\u001b[0;34m.\u001b[0m\u001b[0mcall_args\u001b[0m\u001b[0;34m[\u001b[0m\u001b[0;34m:\u001b[0m\u001b[0;34m-\u001b[0m\u001b[0;36m1\u001b[0m\u001b[0;34m]\u001b[0m \u001b[0;34m+\u001b[0m\u001b[0;31m \u001b[0m\u001b[0;31m\\\u001b[0m\u001b[0;34m\u001b[0m\u001b[0m\n\u001b[1;32m   1342\u001b[0m                \u001b[0;34m[\u001b[0m\u001b[0mjac\u001b[0m\u001b[0;34m,\u001b[0m \u001b[0mself\u001b[0m\u001b[0;34m.\u001b[0m\u001b[0mcall_args\u001b[0m\u001b[0;34m[\u001b[0m\u001b[0;34m-\u001b[0m\u001b[0;36m1\u001b[0m\u001b[0;34m]\u001b[0m\u001b[0;34m,\u001b[0m \u001b[0mf_params\u001b[0m\u001b[0;34m,\u001b[0m \u001b[0;36m0\u001b[0m\u001b[0;34m,\u001b[0m \u001b[0mjac_params\u001b[0m\u001b[0;34m]\u001b[0m\u001b[0;34m\u001b[0m\u001b[0m\n\u001b[0;32m-> 1343\u001b[0;31m         \u001b[0my1\u001b[0m\u001b[0;34m,\u001b[0m \u001b[0mt\u001b[0m\u001b[0;34m,\u001b[0m \u001b[0mistate\u001b[0m \u001b[0;34m=\u001b[0m \u001b[0mself\u001b[0m\u001b[0;34m.\u001b[0m\u001b[0mrunner\u001b[0m\u001b[0;34m(\u001b[0m\u001b[0;34m*\u001b[0m\u001b[0margs\u001b[0m\u001b[0;34m)\u001b[0m\u001b[0;34m\u001b[0m\u001b[0m\n\u001b[0m\u001b[1;32m   1344\u001b[0m         \u001b[0mself\u001b[0m\u001b[0;34m.\u001b[0m\u001b[0mistate\u001b[0m \u001b[0;34m=\u001b[0m \u001b[0mistate\u001b[0m\u001b[0;34m\u001b[0m\u001b[0m\n\u001b[1;32m   1345\u001b[0m         \u001b[0;32mif\u001b[0m \u001b[0mistate\u001b[0m \u001b[0;34m<\u001b[0m \u001b[0;36m0\u001b[0m\u001b[0;34m:\u001b[0m\u001b[0;34m\u001b[0m\u001b[0m\n",
      "\u001b[0;32m/usr/local/lib/python3.5/dist-packages/scipy/integrate/_ivp/base.py\u001b[0m in \u001b[0;36mfun\u001b[0;34m(t, y)\u001b[0m\n\u001b[1;32m    137\u001b[0m         \u001b[0;32mdef\u001b[0m \u001b[0mfun\u001b[0m\u001b[0;34m(\u001b[0m\u001b[0mt\u001b[0m\u001b[0;34m,\u001b[0m \u001b[0my\u001b[0m\u001b[0;34m)\u001b[0m\u001b[0;34m:\u001b[0m\u001b[0;34m\u001b[0m\u001b[0m\n\u001b[1;32m    138\u001b[0m             \u001b[0mself\u001b[0m\u001b[0;34m.\u001b[0m\u001b[0mnfev\u001b[0m \u001b[0;34m+=\u001b[0m \u001b[0;36m1\u001b[0m\u001b[0;34m\u001b[0m\u001b[0m\n\u001b[0;32m--> 139\u001b[0;31m             \u001b[0;32mreturn\u001b[0m \u001b[0mself\u001b[0m\u001b[0;34m.\u001b[0m\u001b[0mfun_single\u001b[0m\u001b[0;34m(\u001b[0m\u001b[0mt\u001b[0m\u001b[0;34m,\u001b[0m \u001b[0my\u001b[0m\u001b[0;34m)\u001b[0m\u001b[0;34m\u001b[0m\u001b[0m\n\u001b[0m\u001b[1;32m    140\u001b[0m \u001b[0;34m\u001b[0m\u001b[0m\n\u001b[1;32m    141\u001b[0m         \u001b[0mself\u001b[0m\u001b[0;34m.\u001b[0m\u001b[0mfun\u001b[0m \u001b[0;34m=\u001b[0m \u001b[0mfun\u001b[0m\u001b[0;34m\u001b[0m\u001b[0m\n",
      "\u001b[0;32m/usr/local/lib/python3.5/dist-packages/scipy/integrate/_ivp/base.py\u001b[0m in \u001b[0;36mfun_wrapped\u001b[0;34m(t, y)\u001b[0m\n\u001b[1;32m     19\u001b[0m \u001b[0;34m\u001b[0m\u001b[0m\n\u001b[1;32m     20\u001b[0m     \u001b[0;32mdef\u001b[0m \u001b[0mfun_wrapped\u001b[0m\u001b[0;34m(\u001b[0m\u001b[0mt\u001b[0m\u001b[0;34m,\u001b[0m \u001b[0my\u001b[0m\u001b[0;34m)\u001b[0m\u001b[0;34m:\u001b[0m\u001b[0;34m\u001b[0m\u001b[0m\n\u001b[0;32m---> 21\u001b[0;31m         \u001b[0;32mreturn\u001b[0m \u001b[0mnp\u001b[0m\u001b[0;34m.\u001b[0m\u001b[0masarray\u001b[0m\u001b[0;34m(\u001b[0m\u001b[0mfun\u001b[0m\u001b[0;34m(\u001b[0m\u001b[0mt\u001b[0m\u001b[0;34m,\u001b[0m \u001b[0my\u001b[0m\u001b[0;34m)\u001b[0m\u001b[0;34m,\u001b[0m \u001b[0mdtype\u001b[0m\u001b[0;34m=\u001b[0m\u001b[0mdtype\u001b[0m\u001b[0;34m)\u001b[0m\u001b[0;34m\u001b[0m\u001b[0m\n\u001b[0m\u001b[1;32m     22\u001b[0m \u001b[0;34m\u001b[0m\u001b[0m\n\u001b[1;32m     23\u001b[0m     \u001b[0;32mreturn\u001b[0m \u001b[0mfun_wrapped\u001b[0m\u001b[0;34m,\u001b[0m \u001b[0my0\u001b[0m\u001b[0;34m\u001b[0m\u001b[0m\n",
      "\u001b[0;31mTypeError\u001b[0m: Lotka_Volterra() missing 1 required positional argument: 'blah'"
     ]
    }
   ],
   "source": [
    "P0 = [20, 32]\n",
    "tspan = np.asarray([time_new[0],time_new[-1]])\n",
    "\n",
    "Ps = solve_ivp(Lotka_Volterra, tspan, P0, method = 'LSODA', args = (1))\n",
    "hare_pop = Ps.y[0,:]\n",
    "lynx_pop = Ps.y[1,:]\n",
    "\n",
    "plt.plot(hare_pop)\n",
    "plt.show()\n",
    "plt.plot(lynx_pop)\n",
    "plt.show()"
   ]
  },
  {
   "cell_type": "code",
   "execution_count": 86,
   "metadata": {},
   "outputs": [
    {
     "data": {
      "text/plain": [
       "(2, 613)"
      ]
     },
     "execution_count": 86,
     "metadata": {},
     "output_type": "execute_result"
    }
   ],
   "source": [
    "val = Ps.y\n",
    "val.shape"
   ]
  },
  {
   "cell_type": "markdown",
   "metadata": {},
   "source": [
    "## Fourth Order Runge-Kutta"
   ]
  },
  {
   "cell_type": "code",
   "execution_count": 6,
   "metadata": {},
   "outputs": [],
   "source": [
    "def RK4(func, yinit, xspan, h):\n",
    "    m = len(yinit)\n",
    "    n = int((xspan[-1] - xspan[0]) / h)\n",
    "\n",
    "    x = xspan[0]\n",
    "    y = yinit\n",
    "\n",
    "    xsol = np.empty((0))\n",
    "    xsol = np.append(xsol, x)\n",
    "\n",
    "    ysol = np.empty((0))\n",
    "    ysol = np.append(ysol, y)\n",
    "\n",
    "    for i in range(n):\n",
    "        k1 = func(x,y)\n",
    "\n",
    "        yp2 = y + k1*(h/2)\n",
    "\n",
    "        k2 = func(x+h/2, yp2)\n",
    "\n",
    "        yp3 = y + k2*(h/2)\n",
    "\n",
    "        k3 = func(x+h/2, yp3)\n",
    "\n",
    "        yp4 = y + k3*h\n",
    "\n",
    "        k4 = func(x+h, yp4)\n",
    "\n",
    "        for j in range(m):\n",
    "            y[j] = y[j] + (h/6)*(k1[j] + 2*k2[j] + 2*k3[j] + k4[j])\n",
    "\n",
    "        x = x + h\n",
    "        xsol = np.append(xsol, x)\n",
    "\n",
    "        for r in range(len(y)):\n",
    "            ysol = np.append(ysol, y[r])  # Save all new y's\n",
    "\n",
    "    return [xsol, ysol]"
   ]
  },
  {
   "cell_type": "code",
   "execution_count": 8,
   "metadata": {},
   "outputs": [
    {
     "ename": "MemoryError",
     "evalue": "",
     "output_type": "error",
     "traceback": [
      "\u001b[0;31m---------------------------------------------------------------------------\u001b[0m",
      "\u001b[0;31mMemoryError\u001b[0m                               Traceback (most recent call last)",
      "\u001b[0;32m<ipython-input-8-11f897f507db>\u001b[0m in \u001b[0;36m<module>\u001b[0;34m()\u001b[0m\n\u001b[1;32m      3\u001b[0m \u001b[0mtstart\u001b[0m \u001b[0;34m=\u001b[0m \u001b[0mtime_new\u001b[0m\u001b[0;34m[\u001b[0m\u001b[0;36m0\u001b[0m\u001b[0;34m]\u001b[0m\u001b[0;34m;\u001b[0m \u001b[0mtstop\u001b[0m \u001b[0;34m=\u001b[0m \u001b[0mtime_new\u001b[0m\u001b[0;34m[\u001b[0m\u001b[0;34m-\u001b[0m\u001b[0;36m1\u001b[0m\u001b[0;34m]\u001b[0m\u001b[0;34m\u001b[0m\u001b[0m\n\u001b[1;32m      4\u001b[0m \u001b[0mtspan\u001b[0m \u001b[0;34m=\u001b[0m \u001b[0mnp\u001b[0m\u001b[0;34m.\u001b[0m\u001b[0masarray\u001b[0m\u001b[0;34m(\u001b[0m\u001b[0;34m[\u001b[0m\u001b[0mtstart\u001b[0m\u001b[0;34m,\u001b[0m \u001b[0mtstop\u001b[0m\u001b[0;34m]\u001b[0m\u001b[0;34m)\u001b[0m\u001b[0;34m\u001b[0m\u001b[0m\n\u001b[0;32m----> 5\u001b[0;31m \u001b[0mPs\u001b[0m \u001b[0;34m=\u001b[0m \u001b[0mRK4\u001b[0m\u001b[0;34m(\u001b[0m\u001b[0mLotka_Volterra\u001b[0m\u001b[0;34m,\u001b[0m \u001b[0mP0\u001b[0m\u001b[0;34m,\u001b[0m \u001b[0mtime_new\u001b[0m\u001b[0;34m,\u001b[0m \u001b[0mh\u001b[0m\u001b[0;34m)\u001b[0m\u001b[0;34m\u001b[0m\u001b[0m\n\u001b[0m\u001b[1;32m      6\u001b[0m \u001b[0mhare_pop\u001b[0m \u001b[0;34m=\u001b[0m \u001b[0mPs\u001b[0m\u001b[0;34m[\u001b[0m\u001b[0;34m:\u001b[0m\u001b[0;34m,\u001b[0m\u001b[0;36m0\u001b[0m\u001b[0;34m]\u001b[0m\u001b[0;34m\u001b[0m\u001b[0m\n\u001b[1;32m      7\u001b[0m \u001b[0mlynx_pop\u001b[0m \u001b[0;34m=\u001b[0m \u001b[0mPs\u001b[0m\u001b[0;34m[\u001b[0m\u001b[0;34m:\u001b[0m\u001b[0;34m,\u001b[0m\u001b[0;36m1\u001b[0m\u001b[0;34m]\u001b[0m\u001b[0;34m\u001b[0m\u001b[0m\n",
      "\u001b[0;32m<ipython-input-6-b9642067a885>\u001b[0m in \u001b[0;36mRK4\u001b[0;34m(func, yinit, xspan, h)\u001b[0m\n\u001b[1;32m     21\u001b[0m         \u001b[0myp3\u001b[0m \u001b[0;34m=\u001b[0m \u001b[0my\u001b[0m \u001b[0;34m+\u001b[0m \u001b[0mk2\u001b[0m\u001b[0;34m*\u001b[0m\u001b[0;34m(\u001b[0m\u001b[0mh\u001b[0m\u001b[0;34m/\u001b[0m\u001b[0;36m2\u001b[0m\u001b[0;34m)\u001b[0m\u001b[0;34m\u001b[0m\u001b[0m\n\u001b[1;32m     22\u001b[0m \u001b[0;34m\u001b[0m\u001b[0m\n\u001b[0;32m---> 23\u001b[0;31m         \u001b[0mk3\u001b[0m \u001b[0;34m=\u001b[0m \u001b[0mfunc\u001b[0m\u001b[0;34m(\u001b[0m\u001b[0mx\u001b[0m\u001b[0;34m+\u001b[0m\u001b[0mh\u001b[0m\u001b[0;34m/\u001b[0m\u001b[0;36m2\u001b[0m\u001b[0;34m,\u001b[0m \u001b[0myp3\u001b[0m\u001b[0;34m)\u001b[0m\u001b[0;34m\u001b[0m\u001b[0m\n\u001b[0m\u001b[1;32m     24\u001b[0m \u001b[0;34m\u001b[0m\u001b[0m\n\u001b[1;32m     25\u001b[0m         \u001b[0myp4\u001b[0m \u001b[0;34m=\u001b[0m \u001b[0my\u001b[0m \u001b[0;34m+\u001b[0m \u001b[0mk3\u001b[0m\u001b[0;34m*\u001b[0m\u001b[0mh\u001b[0m\u001b[0;34m\u001b[0m\u001b[0m\n",
      "\u001b[0;32m<ipython-input-4-ab5c621ed2d4>\u001b[0m in \u001b[0;36mLotka_Volterra\u001b[0;34m(x, y)\u001b[0m\n\u001b[1;32m     19\u001b[0m             1.25269343*np.sin(omega2*x))\n\u001b[1;32m     20\u001b[0m \u001b[0;34m\u001b[0m\u001b[0m\n\u001b[0;32m---> 21\u001b[0;31m     \u001b[0;32mreturn\u001b[0m \u001b[0mnp\u001b[0m\u001b[0;34m.\u001b[0m\u001b[0masarray\u001b[0m\u001b[0;34m(\u001b[0m\u001b[0;34m[\u001b[0m\u001b[0mxdot\u001b[0m\u001b[0;34m,\u001b[0m\u001b[0mydot\u001b[0m\u001b[0;34m]\u001b[0m\u001b[0;34m)\u001b[0m\u001b[0;34m\u001b[0m\u001b[0m\n\u001b[0m",
      "\u001b[0;32m~/.local/lib/python3.5/site-packages/numpy/core/numeric.py\u001b[0m in \u001b[0;36masarray\u001b[0;34m(a, dtype, order)\u001b[0m\n\u001b[1;32m    499\u001b[0m \u001b[0;34m\u001b[0m\u001b[0m\n\u001b[1;32m    500\u001b[0m     \"\"\"\n\u001b[0;32m--> 501\u001b[0;31m     \u001b[0;32mreturn\u001b[0m \u001b[0marray\u001b[0m\u001b[0;34m(\u001b[0m\u001b[0ma\u001b[0m\u001b[0;34m,\u001b[0m \u001b[0mdtype\u001b[0m\u001b[0;34m,\u001b[0m \u001b[0mcopy\u001b[0m\u001b[0;34m=\u001b[0m\u001b[0;32mFalse\u001b[0m\u001b[0;34m,\u001b[0m \u001b[0morder\u001b[0m\u001b[0;34m=\u001b[0m\u001b[0morder\u001b[0m\u001b[0;34m)\u001b[0m\u001b[0;34m\u001b[0m\u001b[0m\n\u001b[0m\u001b[1;32m    502\u001b[0m \u001b[0;34m\u001b[0m\u001b[0m\n\u001b[1;32m    503\u001b[0m \u001b[0;34m\u001b[0m\u001b[0m\n",
      "\u001b[0;31mMemoryError\u001b[0m: "
     ]
    }
   ],
   "source": [
    "P0 = [20, 32]\n",
    "h = np.abs(time_new[0]-time_new[1])\n",
    "tstart = time_new[0]; tstop = time_new[-1]\n",
    "tspan = np.asarray([tstart, tstop])\n",
    "Ps = RK4(Lotka_Volterra, P0, time_new, h)\n",
    "hare_pop = Ps[:,0]\n",
    "lynx_pop = Ps[:,1]"
   ]
  },
  {
   "cell_type": "code",
   "execution_count": 7,
   "metadata": {},
   "outputs": [
    {
     "name": "stdout",
     "output_type": "stream",
     "text": [
      "0.0\n"
     ]
    }
   ],
   "source": [
    "print(time_new[0])"
   ]
  },
  {
   "cell_type": "markdown",
   "metadata": {},
   "source": [
    "$ \\dot{u} = 4x+10 \\sin x - y $ \n",
    "\n",
    "$ \\dot{y} = u $"
   ]
  },
  {
   "cell_type": "code",
   "execution_count": 16,
   "metadata": {},
   "outputs": [],
   "source": [
    "def func(X,t):\n",
    "    \n",
    "    u = X[0]; y = X[1]\n",
    "    \n",
    "    du = 4*t+10*np.sin(t)-y\n",
    "    dy = u\n",
    "    \n",
    "    return np.asarray([du,dy])"
   ]
  },
  {
   "cell_type": "code",
   "execution_count": 28,
   "metadata": {},
   "outputs": [],
   "source": [
    "from math import sin, cos, pi\n",
    "# the analytical solution\n",
    "f = lambda x: 9*pi*cos(x) + 7*sin(x) + 4*x - 5*x*cos(x)\n",
    "df = lambda x: -9*pi*sin(x) + 7*cos(x) + 4 - 5*(cos(x) - x*sin(x))\n",
    "# initial values\n",
    "t = pi # initial time\n",
    "t_end = 2*pi # final time\n",
    "X0 = np.asarray([2,0.0]) # initial condition\n",
    "h = 0.1 # step size\n",
    "n = int((t_end-t)/h) # number of iterations\n",
    "\n",
    "X = X0\n",
    "X_sol = X0\n",
    "\n",
    "\n",
    "# RK4\n",
    "for i in range(1, n+1):\n",
    "    # obtain k1 value\n",
    "    k1 = h*func(X,t)\n",
    "    # obtain k2 value\n",
    "    k2 = h*func(X+k1/2,t+h/2)\n",
    "    # obtain k3 value\n",
    "    k3 = h*func(X+k2/2,t+h/2)\n",
    "    # obtain k4 value\n",
    "    k4 = h*func(X+k3,t+h)\n",
    "    # obtain next time step in state variables\n",
    "    X += (k1+2*k2+2*k3+k4)/6\n",
    "    # update independent variable using the step size\n",
    "    t += h\n",
    "    \n",
    "    # collect values\n",
    "    X_sol = np.vstack([X_sol,X])\n",
    "    \n",
    "    \n",
    "    "
   ]
  },
  {
   "cell_type": "code",
   "execution_count": 29,
   "metadata": {},
   "outputs": [
    {
     "data": {
      "text/plain": [
       "((32, 2), 31)"
      ]
     },
     "execution_count": 29,
     "metadata": {},
     "output_type": "execute_result"
    }
   ],
   "source": []
  },
  {
   "cell_type": "code",
   "execution_count": null,
   "metadata": {},
   "outputs": [],
   "source": []
  }
 ],
 "metadata": {
  "kernelspec": {
   "display_name": "Python 3",
   "language": "python",
   "name": "python3"
  },
  "language_info": {
   "codemirror_mode": {
    "name": "ipython",
    "version": 3
   },
   "file_extension": ".py",
   "mimetype": "text/x-python",
   "name": "python",
   "nbconvert_exporter": "python",
   "pygments_lexer": "ipython3",
   "version": "3.5.2"
  }
 },
 "nbformat": 4,
 "nbformat_minor": 2
}
