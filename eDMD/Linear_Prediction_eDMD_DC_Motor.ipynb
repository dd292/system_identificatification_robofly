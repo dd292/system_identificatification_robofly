{
 "cells": [
  {
   "cell_type": "code",
   "execution_count": 1,
   "metadata": {},
   "outputs": [],
   "source": [
    "import numpy as np\n",
    "import matplotlib.pyplot as plt\n",
    "from scipy.integrate import *\n",
    "from scipy.interpolate import Rbf\n",
    "from numpy import random"
   ]
  },
  {
   "cell_type": "markdown",
   "metadata": {},
   "source": [
    "### Consider the Bilinear DC Motor given by the equations:"
   ]
  },
  {
   "cell_type": "markdown",
   "metadata": {},
   "source": [
    "$\\dot{x_1} = -(R_a/L_a)x_1-(k_m/L_a)x_2u+u_a/L_a$\n",
    "\n",
    "$\\dot{x_2} = -(B/J)x_2+(k_m/J)x_1u-\\tau_1/J$\n",
    "\n",
    "$y = x_2$"
   ]
  },
  {
   "cell_type": "code",
   "execution_count": 2,
   "metadata": {},
   "outputs": [],
   "source": [
    "# define the dynamics\n",
    "# x1 - current in [-1,1]\n",
    "# x2 - angular velocity in [-1,1]\n",
    "# u  - control input in [-1,1]\n",
    "\n",
    "def dyn_motor_scaled(t,x,u):\n",
    "    \n",
    "    dx1dt = -39.3153*x[0]-32.2293*x[1]*u+19.10828025\n",
    "    dx2dt = -1.6599*x[1]+22.9478*x[0]*u-3.333333333\n",
    "    \n",
    "    dXdt = np.asarray([dx1dt,dx2dt])\n",
    "    \n",
    "    return dXdt"
   ]
  },
  {
   "cell_type": "markdown",
   "metadata": {},
   "source": [
    "### Define Some Helper Functions"
   ]
  },
  {
   "cell_type": "code",
   "execution_count": 3,
   "metadata": {},
   "outputs": [],
   "source": [
    "# RK4\n",
    "\n",
    "k1 = lambda t,x,u: dyn_motor_scaled(t,x,u)\n",
    "k2 = lambda t,x,u: dyn_motor_scaled(t,x+k1(t,x,u)*dt/2,u)\n",
    "k3 = lambda t,x,u: dyn_motor_scaled(t,x+k2(t,x,u)*dt/2,u)\n",
    "k4 = lambda t,x,u: dyn_motor_scaled(t,x+k1(t,x,u)*dt,u)\n",
    "\n",
    "rk4_step = lambda t,x,u: x+(dt/6)*(k1(t,x,u)+2*k2(t,x,u)+2*k3(t,x,u)+k4(t,x,u))"
   ]
  },
  {
   "cell_type": "code",
   "execution_count": 4,
   "metadata": {},
   "outputs": [],
   "source": [
    "# define the Radial Basis Function that will aid in lifting the states\n",
    "def rbf(X,C,rbf_type):\n",
    "    \n",
    "    Cbig = C ; Y = np.zeros([C.shape[1],X.shape[1]])\n",
    "    \n",
    "    for i in range(Cbig.shape[1]):\n",
    "        \n",
    "        C = np.asarray([Cbig[:,i]]).T\n",
    "        C = np.tile(C,X.shape[1])\n",
    "        r_squared = np.sum((X-C)**2,axis = 0)\n",
    "        \n",
    "        r_squared = np.reshape(r_squared,(1,len(r_squared)))\n",
    "        y = r_squared*np.log(np.sqrt(r_squared))\n",
    "        \n",
    "        Y[i,:] = y\n",
    "    \n",
    "    return Y"
   ]
  },
  {
   "cell_type": "markdown",
   "metadata": {},
   "source": [
    "### Collect Data"
   ]
  },
  {
   "cell_type": "code",
   "execution_count": 28,
   "metadata": {},
   "outputs": [],
   "source": [
    "# define some relevant parameters\n",
    "\n",
    "dt = 0.01 # sampling time\n",
    "nstates = 2 # number of states\n",
    "nctrl = 1 # number of control inputs\n",
    "\n",
    "Tmax = 10\n",
    "Nsim = int(Tmax/dt)\n",
    "n = np.arange(0,Nsim)*dt\n",
    "\n",
    "Ntraj = 200\n",
    "\n",
    "# first trajectory\n",
    "# random forcing\n",
    "u1 = 2*np.random.uniform(0,1,[Nsim,1]) - 1\n",
    "# random initial condition\n",
    "x0_1 = np.random.uniform(0,1,[nstates,1])*2 - 1\n",
    "train_traj1 = np.empty([nstates,Nsim])\n",
    "\n",
    "x_current = x0_1\n",
    "for i in range(Nsim):\n",
    "    train_traj1[:,i] = np.squeeze(x_current)\n",
    "    x_current = rk4_step(0,x_current,u1[i])\n",
    "\n",
    "train_traj = train_traj1\n",
    "u = u1\n",
    "\n",
    "# remaining Ntraj-1 trajectories\n",
    "for i in range(1,Ntraj):\n",
    "    # random forcing\n",
    "    u_temp = 2*np.random.uniform(0,1,[Nsim,1]) - 1\n",
    "    # random initial condition\n",
    "    x0_temp = np.random.uniform(0,1,[nstates,1])*2 - 1\n",
    "    train_traj_temp = np.empty([nstates,Nsim])\n",
    "    \n",
    "    x_current = x0_temp\n",
    "    for j in range(Nsim):\n",
    "        train_traj_temp[:,j] = np.squeeze(x_current)\n",
    "        x_current = rk4_step(0,x_current,u_temp[j])\n",
    "    \n",
    "    train_traj = np.hstack([train_traj,train_traj_temp])\n",
    "    u = np.concatenate([u,u_temp])\n",
    "        \n",
    "\n",
    "Cy = np.asarray([[1, 1]]) # Output matrix: y = Cy*x\n",
    "nD = 1 # Number of delays\n",
    "ny = Cy.shape[1] # Number of outputs\n",
    "\n",
    "# Delay-embedded \"state\" \n",
    "# zeta_k = [y_{k} ; u_{k-1} ; y_{k-1} ... u_{k-nd} ; y_{k-nd} ]\n",
    "n_zeta = (nD+1)*ny + nD*nctrl # dimension of the delay-embedded \"state\"\n",
    "\n",
    "# Build Hankel Matrix\n",
    "H = np.empty([n_zeta,Ntraj*Nsim-nD])\n",
    "H[:ny,:] = np.dot(Cy,train_traj[:,:-nD]) \n",
    "H[ny:int(2*ny),:] = np.dot(Cy,train_traj[:,1:]) \n",
    "H[n_zeta-nctrl,:] = np.squeeze(u[:-1])\n",
    "\n",
    "# Build delay embedded X and Y Matrices\n",
    "X = H[:,:-1]; Y = H[:,1:]\n",
    "# Build U Matrix \n",
    "U = u[:X.shape[1],:].T"
   ]
  },
  {
   "cell_type": "code",
   "execution_count": 30,
   "metadata": {},
   "outputs": [
    {
     "data": {
      "text/plain": [
       "(5, 199999)"
      ]
     },
     "execution_count": 30,
     "metadata": {},
     "output_type": "execute_result"
    }
   ],
   "source": [
    "H.shape"
   ]
  },
  {
   "cell_type": "code",
   "execution_count": 31,
   "metadata": {},
   "outputs": [],
   "source": [
    "Nrbf = 100 # number of RBF centers\n",
    "cent = np.random.uniform(0,1,[n_zeta,Nrbf])*2-1 # generate random RBF centers\n",
    "rbf_type = 'thin_plate' # specify the type of RBF\n",
    "\n",
    "# obtain the lifted states\n",
    "liftFun = lambda xx,cent: np.vstack([xx,rbf(xx,cent,rbf_type)])\n",
    "# update the total dimension of the lifted state vector\n",
    "Nlift = Nrbf+n_zeta"
   ]
  },
  {
   "cell_type": "markdown",
   "metadata": {},
   "source": [
    "### Lift"
   ]
  },
  {
   "cell_type": "code",
   "execution_count": 32,
   "metadata": {},
   "outputs": [
    {
     "name": "stdout",
     "output_type": "stream",
     "text": [
      "(105, 199998) (105, 199998) (1, 199998)\n"
     ]
    }
   ],
   "source": [
    "Xlift = liftFun(X,cent)\n",
    "Ylift = liftFun(Y,cent)\n",
    "\n",
    "print(Xlift.shape,Ylift.shape,U.shape) # print out shapes as a sanity check"
   ]
  },
  {
   "cell_type": "markdown",
   "metadata": {},
   "source": [
    "### Build Predictor"
   ]
  },
  {
   "cell_type": "code",
   "execution_count": 33,
   "metadata": {},
   "outputs": [
    {
     "name": "stdout",
     "output_type": "stream",
     "text": [
      "(105, 105) (105, 1) (5, 105)\n"
     ]
    }
   ],
   "source": [
    "W = np.vstack([Ylift,X])\n",
    "V = np.vstack([Xlift,U])\n",
    "\n",
    "VVt = np.dot(V,V.T)\n",
    "WVt = np.dot(W,V.T)\n",
    "M = np.dot(WVt,np.linalg.pinv(VVt)) # Matrix [A B; C 0]\n",
    "Alift = M[0:Nlift,0:Nlift]\n",
    "Blift = M[0:Nlift,Nlift:]\n",
    "Clift = M[Nlift:,0:Nlift]\n",
    "\n",
    "print(Alift.shape, Blift.shape, Clift.shape) # print out dimensions as a sanity check"
   ]
  },
  {
   "cell_type": "code",
   "execution_count": 34,
   "metadata": {},
   "outputs": [
    {
     "name": "stdout",
     "output_type": "stream",
     "text": [
      "0.26763652732265636\n"
     ]
    }
   ],
   "source": [
    "residual = np.linalg.norm(Ylift - np.dot(Alift,Xlift) - np.dot(Blift,U),'fro') / np.linalg.norm(Ylift,'fro')\n",
    "print(residual)"
   ]
  },
  {
   "cell_type": "markdown",
   "metadata": {},
   "source": [
    "### Check Predictor Performance"
   ]
  },
  {
   "cell_type": "code",
   "execution_count": 35,
   "metadata": {},
   "outputs": [],
   "source": [
    "def myprbs(N,dutyCycle):\n",
    "    \n",
    "    N = np.asarray([N,1])\n",
    "        \n",
    "    y = np.random.uniform(0,1,N)\n",
    "    y = np.double(y > (1 - dutyCycle))\n",
    "    \n",
    "    return y"
   ]
  },
  {
   "cell_type": "code",
   "execution_count": 36,
   "metadata": {},
   "outputs": [
    {
     "ename": "ValueError",
     "evalue": "operands could not be broadcast together with shapes (3,1) (5,1) ",
     "output_type": "error",
     "traceback": [
      "\u001b[0;31m---------------------------------------------------------------------------\u001b[0m",
      "\u001b[0;31mValueError\u001b[0m                                Traceback (most recent call last)",
      "\u001b[0;32m<ipython-input-36-a5c9978ef8de>\u001b[0m in \u001b[0;36m<module>\u001b[0;34m()\u001b[0m\n\u001b[1;32m     10\u001b[0m \u001b[0;31m# Inital conditions\u001b[0m\u001b[0;34m\u001b[0m\u001b[0;34m\u001b[0m\u001b[0m\n\u001b[1;32m     11\u001b[0m \u001b[0mx_true\u001b[0m \u001b[0;34m=\u001b[0m \u001b[0mx0_test\u001b[0m\u001b[0;34m\u001b[0m\u001b[0m\n\u001b[0;32m---> 12\u001b[0;31m \u001b[0mxlift\u001b[0m \u001b[0;34m=\u001b[0m \u001b[0mliftFun\u001b[0m\u001b[0;34m(\u001b[0m\u001b[0mdelay_init\u001b[0m\u001b[0;34m,\u001b[0m\u001b[0mcent\u001b[0m\u001b[0;34m)\u001b[0m\u001b[0;34m\u001b[0m\u001b[0m\n\u001b[0m\u001b[1;32m     13\u001b[0m \u001b[0mprint\u001b[0m\u001b[0;34m(\u001b[0m\u001b[0mxlift\u001b[0m\u001b[0;34m.\u001b[0m\u001b[0mshape\u001b[0m\u001b[0;34m)\u001b[0m\u001b[0;34m\u001b[0m\u001b[0m\n\u001b[1;32m     14\u001b[0m \u001b[0;34m\u001b[0m\u001b[0m\n",
      "\u001b[0;32m<ipython-input-31-2e9dd1397963>\u001b[0m in \u001b[0;36m<lambda>\u001b[0;34m(xx, cent)\u001b[0m\n\u001b[1;32m      4\u001b[0m \u001b[0;34m\u001b[0m\u001b[0m\n\u001b[1;32m      5\u001b[0m \u001b[0;31m# obtain the lifted states\u001b[0m\u001b[0;34m\u001b[0m\u001b[0;34m\u001b[0m\u001b[0m\n\u001b[0;32m----> 6\u001b[0;31m \u001b[0mliftFun\u001b[0m \u001b[0;34m=\u001b[0m \u001b[0;32mlambda\u001b[0m \u001b[0mxx\u001b[0m\u001b[0;34m,\u001b[0m\u001b[0mcent\u001b[0m\u001b[0;34m:\u001b[0m \u001b[0mnp\u001b[0m\u001b[0;34m.\u001b[0m\u001b[0mvstack\u001b[0m\u001b[0;34m(\u001b[0m\u001b[0;34m[\u001b[0m\u001b[0mxx\u001b[0m\u001b[0;34m,\u001b[0m\u001b[0mrbf\u001b[0m\u001b[0;34m(\u001b[0m\u001b[0mxx\u001b[0m\u001b[0;34m,\u001b[0m\u001b[0mcent\u001b[0m\u001b[0;34m,\u001b[0m\u001b[0mrbf_type\u001b[0m\u001b[0;34m)\u001b[0m\u001b[0;34m]\u001b[0m\u001b[0;34m)\u001b[0m\u001b[0;34m\u001b[0m\u001b[0m\n\u001b[0m\u001b[1;32m      7\u001b[0m \u001b[0;31m# update the total dimension of the lifted state vector\u001b[0m\u001b[0;34m\u001b[0m\u001b[0;34m\u001b[0m\u001b[0m\n\u001b[1;32m      8\u001b[0m \u001b[0mNlift\u001b[0m \u001b[0;34m=\u001b[0m \u001b[0mNrbf\u001b[0m\u001b[0;34m+\u001b[0m\u001b[0mn_zeta\u001b[0m\u001b[0;34m\u001b[0m\u001b[0m\n",
      "\u001b[0;32m<ipython-input-4-d6d74443eda6>\u001b[0m in \u001b[0;36mrbf\u001b[0;34m(X, C, rbf_type)\u001b[0m\n\u001b[1;32m      8\u001b[0m         \u001b[0mC\u001b[0m \u001b[0;34m=\u001b[0m \u001b[0mnp\u001b[0m\u001b[0;34m.\u001b[0m\u001b[0masarray\u001b[0m\u001b[0;34m(\u001b[0m\u001b[0;34m[\u001b[0m\u001b[0mCbig\u001b[0m\u001b[0;34m[\u001b[0m\u001b[0;34m:\u001b[0m\u001b[0;34m,\u001b[0m\u001b[0mi\u001b[0m\u001b[0;34m]\u001b[0m\u001b[0;34m]\u001b[0m\u001b[0;34m)\u001b[0m\u001b[0;34m.\u001b[0m\u001b[0mT\u001b[0m\u001b[0;34m\u001b[0m\u001b[0m\n\u001b[1;32m      9\u001b[0m         \u001b[0mC\u001b[0m \u001b[0;34m=\u001b[0m \u001b[0mnp\u001b[0m\u001b[0;34m.\u001b[0m\u001b[0mtile\u001b[0m\u001b[0;34m(\u001b[0m\u001b[0mC\u001b[0m\u001b[0;34m,\u001b[0m\u001b[0mX\u001b[0m\u001b[0;34m.\u001b[0m\u001b[0mshape\u001b[0m\u001b[0;34m[\u001b[0m\u001b[0;36m1\u001b[0m\u001b[0;34m]\u001b[0m\u001b[0;34m)\u001b[0m\u001b[0;34m\u001b[0m\u001b[0m\n\u001b[0;32m---> 10\u001b[0;31m         \u001b[0mr_squared\u001b[0m \u001b[0;34m=\u001b[0m \u001b[0mnp\u001b[0m\u001b[0;34m.\u001b[0m\u001b[0msum\u001b[0m\u001b[0;34m(\u001b[0m\u001b[0;34m(\u001b[0m\u001b[0mX\u001b[0m\u001b[0;34m-\u001b[0m\u001b[0mC\u001b[0m\u001b[0;34m)\u001b[0m\u001b[0;34m**\u001b[0m\u001b[0;36m2\u001b[0m\u001b[0;34m,\u001b[0m\u001b[0maxis\u001b[0m \u001b[0;34m=\u001b[0m \u001b[0;36m0\u001b[0m\u001b[0;34m)\u001b[0m\u001b[0;34m\u001b[0m\u001b[0m\n\u001b[0m\u001b[1;32m     11\u001b[0m \u001b[0;34m\u001b[0m\u001b[0m\n\u001b[1;32m     12\u001b[0m         \u001b[0mr_squared\u001b[0m \u001b[0;34m=\u001b[0m \u001b[0mnp\u001b[0m\u001b[0;34m.\u001b[0m\u001b[0mreshape\u001b[0m\u001b[0;34m(\u001b[0m\u001b[0mr_squared\u001b[0m\u001b[0;34m,\u001b[0m\u001b[0;34m(\u001b[0m\u001b[0;36m1\u001b[0m\u001b[0;34m,\u001b[0m\u001b[0mlen\u001b[0m\u001b[0;34m(\u001b[0m\u001b[0mr_squared\u001b[0m\u001b[0;34m)\u001b[0m\u001b[0;34m)\u001b[0m\u001b[0;34m)\u001b[0m\u001b[0;34m\u001b[0m\u001b[0m\n",
      "\u001b[0;31mValueError\u001b[0m: operands could not be broadcast together with shapes (3,1) (5,1) "
     ]
    }
   ],
   "source": [
    "Nsim_test = 2000 #U.shape[1]\n",
    "# random forcing\n",
    "u_test = (2*myprbs(Nsim_test,0.5) - 1)\n",
    "# random forcing sample\n",
    "u_test_sample = u_test[0:nctrl,:]\n",
    "# random initial condition\n",
    "x0_test = np.random.uniform(0,1,[nstates,1])*2 - 1\n",
    "delay_init = np.vstack([x0_test,u_test_sample])\n",
    "\n",
    "# Inital conditions\n",
    "x_true = x0_test\n",
    "xlift = liftFun(delay_init,cent)\n",
    "print(xlift.shape)\n",
    "\n",
    "# Simulation\n",
    "for i in range(Nsim_test-1):\n",
    "    \n",
    "    # True dynamics\n",
    "    x_true = np.hstack([x_true, rk4_step(0,np.asarray([x_true[:,-1]]).T,u_test[i,:])]) \n",
    "    \n",
    "    # Koopman predictor\n",
    "    term1 = np.dot(Alift,np.asarray([xlift[:,-1]]).T)\n",
    "    term2 = np.dot(Blift,np.asarray([u_test[i,:]]))\n",
    "    xlift = np.hstack([xlift, term1 + term2]) # Lifted dynamics\n",
    "    \n",
    "x_koop = np.dot(Clift, xlift) # Koopman predictions\n",
    "x_koop = x_koop[0,:]\n",
    "x_true = np.dot(Cy,x_true).T"
   ]
  },
  {
   "cell_type": "markdown",
   "metadata": {},
   "source": [
    "### Plot Results"
   ]
  },
  {
   "cell_type": "code",
   "execution_count": 23,
   "metadata": {},
   "outputs": [
    {
     "data": {
      "image/png": "[encoded data removed]",
      "text/plain": [
       "<Figure size 432x288 with 1 Axes>"
      ]
     },
     "metadata": {},
     "output_type": "display_data"
    }
   ],
   "source": [
    "plt.plot(x_koop,label=\"koopman\")\n",
    "plt.plot(x_true[:,0],label=\"true\")\n",
    "plt.legend()\n",
    "plt.xlabel(\"Time Steps\")\n",
    "plt.ylabel(\"State Values\")\n",
    "plt.title(\"State 1 Prediction Comparison\")\n",
    "plt.show()"
   ]
  },
  {
   "cell_type": "code",
   "execution_count": null,
   "metadata": {},
   "outputs": [],
   "source": []
  }
 ],
 "metadata": {
  "kernelspec": {
   "display_name": "Python 3",
   "language": "python",
   "name": "python3"
  },
  "language_info": {
   "codemirror_mode": {
    "name": "ipython",
    "version": 3
   },
   "file_extension": ".py",
   "mimetype": "text/x-python",
   "name": "python",
   "nbconvert_exporter": "python",
   "pygments_lexer": "ipython3",
   "version": "3.5.2"
  }
 },
 "nbformat": 4,
 "nbformat_minor": 2
}
