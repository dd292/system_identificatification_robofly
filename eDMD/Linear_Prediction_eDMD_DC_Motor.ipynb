{
 "cells": [
  {
   "cell_type": "code",
   "execution_count": 17,
   "metadata": {},
   "outputs": [],
   "source": [
    "import numpy as np\n",
    "import matplotlib.pyplot as plt\n",
    "from scipy.integrate import *\n",
    "from scipy.interpolate import Rbf\n",
    "from numpy import random"
   ]
  },
  {
   "cell_type": "markdown",
   "metadata": {},
   "source": [
    "### Consider the Bilinear DC Motor given by the equations:"
   ]
  },
  {
   "cell_type": "markdown",
   "metadata": {},
   "source": [
    "$\\dot{x_1} = -(R_a/L_a)x_1-(k_m/L_a)x_2u+u_a/L_a$\n",
    "\n",
    "$\\dot{x_2} = -(B/J)x_2+(k_m/J)x_1u-\\tau_1/J$\n",
    "\n",
    "$y = x_2$"
   ]
  },
  {
   "cell_type": "code",
   "execution_count": 18,
   "metadata": {},
   "outputs": [],
   "source": [
    "# define the dynamics\n",
    "# x1 - current in [-1,1]\n",
    "# x2 - angular velocity in [-1,1]\n",
    "# u  - control input in [-1,1]\n",
    "\n",
    "def dyn_motor_scaled(t,x,u):\n",
    "    \n",
    "    dx1dt = -39.3153*x[0]-32.2293*x[1]*u+19.10828025\n",
    "    dx2dt = -1.6599*x[1]+22.9478*x[0]*u-3.333333333\n",
    "    \n",
    "    dXdt = np.asarray([dx1dt,dx2dt])\n",
    "    \n",
    "    return dXdt"
   ]
  },
  {
   "cell_type": "code",
   "execution_count": 19,
   "metadata": {},
   "outputs": [],
   "source": [
    "# define some relevant parameters\n",
    "\n",
    "dt = 0.01 # sampling time\n",
    "nstates = 2 # number of states\n",
    "nctrl = 1 # number of control inputs"
   ]
  },
  {
   "cell_type": "markdown",
   "metadata": {},
   "source": [
    "### Define Some Helper Functions"
   ]
  },
  {
   "cell_type": "code",
   "execution_count": 20,
   "metadata": {},
   "outputs": [],
   "source": [
    "# RK4\n",
    "\n",
    "k1 = lambda t,x,u: dyn_motor_scaled(t,x,u)\n",
    "k2 = lambda t,x,u: dyn_motor_scaled(t,x+k1(t,x,u)*dt/2,u)\n",
    "k3 = lambda t,x,u: dyn_motor_scaled(t,x+k2(t,x,u)*dt/2,u)\n",
    "k4 = lambda t,x,u: dyn_motor_scaled(t,x+k1(t,x,u)*dt,u)\n",
    "\n",
    "rk4_step = lambda t,x,u: x+(dt/6)*(k1(t,x,u)+2*k2(t,x,u)+2*k3(t,x,u)+k4(t,x,u))"
   ]
  },
  {
   "cell_type": "code",
   "execution_count": 21,
   "metadata": {},
   "outputs": [],
   "source": [
    "# define the Radial Basis Function that will aid in lifting the states\n",
    "def rbf(X,C,rbf_type):\n",
    "    \n",
    "    Cbig = C ; Y = np.zeros([C.shape[1],X.shape[1]])\n",
    "    \n",
    "    for i in range(Cbig.shape[1]):\n",
    "        \n",
    "        C = np.asarray([Cbig[:,i]]).T\n",
    "        C = np.tile(C,X.shape[1])\n",
    "        r_squared = np.sum((X-C)**2,axis = 0)\n",
    "        \n",
    "        r_squared = np.reshape(r_squared,(1,len(r_squared)))\n",
    "        y = r_squared*np.log(np.sqrt(r_squared))\n",
    "        \n",
    "        Y[i,:] = y\n",
    "    \n",
    "    return Y"
   ]
  },
  {
   "cell_type": "markdown",
   "metadata": {},
   "source": [
    "### Collect Data"
   ]
  },
  {
   "cell_type": "code",
   "execution_count": 22,
   "metadata": {},
   "outputs": [],
   "source": [
    "Nsim = 1000\n",
    "Ntraj = 200\n",
    "\n",
    "# Random forcing\n",
    "Ubig = 2*np.random.uniform(0,1,[Nsim,Ntraj]) - 1\n",
    "\n",
    "Cy = np.asarray([[0, 1]]) # Output matrix: y = Cy*x\n",
    "nD = 1 # Number of delays\n",
    "ny = Cy.shape[0] # Number of outputs\n",
    "\n",
    "# Random initial conditions\n",
    "Xcurrent = (np.random.uniform(0,1,[nstates,Ntraj])*2 - 1)\n",
    "X = np.empty([nstates+nctrl,Nsim*Ntraj-Ntraj]); Y = np.empty([nstates+nctrl,Nsim*Ntraj-Ntraj])\n",
    "U = np.empty([nctrl,Nsim*Ntraj-Ntraj])\n",
    "\n",
    "zeta_current = np.vstack([np.dot(Cy,Xcurrent),np.empty([nD*(ny+nctrl),Ntraj])])\n",
    "\n",
    "# Delay-embedded \"state\" \n",
    "# zeta_k = [y_{k} ; u_{k-1} ; y_{k-1} ... u_{k-nd} ; y_{k-nd} ]\n",
    "n_zeta = (nD+1)*ny + nD*nctrl # dimension of the delay-embedded \"state\"\n",
    "for i in range(Nsim-1):\n",
    "    Xnext = rk4_step(0,Xcurrent,Ubig[i,:])\n",
    "    zeta_prev = zeta_current\n",
    "    zeta_current = np.vstack([np.dot(Cy,Xnext),np.asarray([Ubig[i,:]]),zeta_current[:-ny-nctrl,:]])\n",
    "    if(i>nD-1):\n",
    "        X[:,i*Ntraj:(i+1)*Ntraj] = zeta_prev\n",
    "        Y[:,i*Ntraj:(i+1)*Ntraj] = zeta_current\n",
    "        U[:,i*Ntraj:(i+1)*Ntraj] = Ubig[i,:]\n",
    "    Xcurrent = Xnext"
   ]
  },
  {
   "cell_type": "code",
   "execution_count": 23,
   "metadata": {},
   "outputs": [],
   "source": [
    "Nrbf = 100 # number of RBF centers\n",
    "cent = np.random.uniform(0,1,[n_zeta,Nrbf])*2-1 # generate random RBF centers\n",
    "rbf_type = 'thin_plate' # specify the type of RBF\n",
    "\n",
    "# obtain the lifted states\n",
    "liftFun = lambda xx,cent: np.vstack([xx,rbf(xx,cent,rbf_type)])\n",
    "# update the total dimension of the lifted state vector\n",
    "Nlift = Nrbf+n_zeta"
   ]
  },
  {
   "cell_type": "markdown",
   "metadata": {},
   "source": [
    "### Lift"
   ]
  },
  {
   "cell_type": "code",
   "execution_count": 24,
   "metadata": {},
   "outputs": [
    {
     "name": "stdout",
     "output_type": "stream",
     "text": [
      "(103, 199800) (103, 199800)\n"
     ]
    }
   ],
   "source": [
    "Xlift = liftFun(X,cent)\n",
    "Ylift = liftFun(Y,cent)\n",
    "\n",
    "print(Xlift.shape,Ylift.shape) # print out shapes as a sanity check"
   ]
  },
  {
   "cell_type": "markdown",
   "metadata": {},
   "source": [
    "### Build Predictor"
   ]
  },
  {
   "cell_type": "code",
   "execution_count": 25,
   "metadata": {},
   "outputs": [
    {
     "name": "stdout",
     "output_type": "stream",
     "text": [
      "(103, 103) (103, 1) (3, 103)\n"
     ]
    }
   ],
   "source": [
    "W = np.vstack([Ylift,X])\n",
    "V = np.vstack([Xlift,U])\n",
    "\n",
    "VVt = np.dot(V,V.T)\n",
    "WVt = np.dot(W,V.T)\n",
    "M = np.dot(WVt,np.linalg.pinv(VVt)) # Matrix [A B; C 0]\n",
    "Alift = M[0:Nlift,0:Nlift]\n",
    "Blift = M[0:Nlift,Nlift:]\n",
    "Clift = M[Nlift:,0:Nlift]\n",
    "\n",
    "print(Alift.shape, Blift.shape, Clift.shape) # print out dimensions as a sanity check"
   ]
  },
  {
   "cell_type": "markdown",
   "metadata": {},
   "source": [
    "### Check Predictor Performance"
   ]
  },
  {
   "cell_type": "code",
   "execution_count": 26,
   "metadata": {},
   "outputs": [],
   "source": [
    "def myprbs(N,dutyCycle):\n",
    "    \n",
    "    N = np.asarray([N,1])\n",
    "        \n",
    "    y = np.random.uniform(0,1,N)\n",
    "    y = np.double(y > 1 - dutyCycle)\n",
    "    \n",
    "    return y"
   ]
  },
  {
   "cell_type": "code",
   "execution_count": 30,
   "metadata": {},
   "outputs": [],
   "source": [
    "Tmax = 1\n",
    "Nsim = int(Tmax/dt)\n",
    "n = np.arange(0,Nsim)*dt\n",
    "\n",
    "uprbs = (2*myprbs(Nsim,0.5) - 1)\n",
    "u_dt = lambda i,uprbs :  uprbs[i+1]\n",
    "\n",
    "#x0 = np.random.uniform(0,1,[2,1])-0.5;\n",
    "x0 = np.asarray([[0.887,0.587]]).T\n",
    "x = x0\n",
    "\n",
    "# Delayed initial condition (assume random control input in the past)\n",
    "xstart = np.vstack([np.dot(Cy,x),np.empty([nD*(ny+nctrl),1])])\n",
    "\n",
    "for i in range(nD):\n",
    "    urand = 2*np.random.uniform(0,1,[nctrl]) - 1\n",
    "    xp = rk4_step(0,x,urand)\n",
    "    xstart = np.vstack([np.dot(Cy,xp),np.asarray([urand]),xstart[:-ny-nctrl]])\n",
    "    x = xp"
   ]
  },
  {
   "cell_type": "code",
   "execution_count": 31,
   "metadata": {},
   "outputs": [],
   "source": [
    "# Inital conditions\n",
    "x_true = xp\n",
    "xlift = liftFun(xstart,cent)\n",
    "\n",
    "# Simulation\n",
    "for i in range(Nsim-1):\n",
    "    \n",
    "    # True dynamics\n",
    "    x_true = np.hstack([x_true, rk4_step(0,np.asarray([x_true[:,-1]]).T,u_dt(i,uprbs))]) \n",
    "    \n",
    "    # Koopman predictor\n",
    "    term1 = np.dot(Alift,np.asarray([xlift[:,-1]]).T)\n",
    "    term2 = np.dot(Blift,u_dt(i,uprbs));term2 = np.asarray([term2]).T\n",
    "    xlift = np.hstack([xlift, term1 + term2]) # Lifted dynamics\n",
    "\n",
    "x_koop = np.dot(Clift, xlift) # Koopman predictions\n",
    "x_true = np.dot(Cy,x_true).T"
   ]
  },
  {
   "cell_type": "markdown",
   "metadata": {},
   "source": [
    "### Plot Results"
   ]
  },
  {
   "cell_type": "code",
   "execution_count": 36,
   "metadata": {},
   "outputs": [
    {
     "data": {
      "image/png": "[encoded data removed]",
      "text/plain": [
       "<Figure size 432x288 with 1 Axes>"
      ]
     },
     "metadata": {},
     "output_type": "display_data"
    }
   ],
   "source": [
    "plt.plot(n,x_koop[0,:],label=\"koopman\")\n",
    "plt.plot(n,x_true,label=\"true\")\n",
    "plt.legend()\n",
    "plt.xlabel(\"Time Steps\")\n",
    "plt.ylabel(\"State Values\")\n",
    "plt.title(\"State 1 Prediction Comparison\")\n",
    "plt.show()"
   ]
  },
  {
   "cell_type": "code",
   "execution_count": null,
   "metadata": {},
   "outputs": [],
   "source": [
    "x_koop.shape"
   ]
  },
  {
   "cell_type": "code",
   "execution_count": null,
   "metadata": {},
   "outputs": [],
   "source": [
    "xlift.shape"
   ]
  },
  {
   "cell_type": "code",
   "execution_count": null,
   "metadata": {},
   "outputs": [],
   "source": []
  }
 ],
 "metadata": {
  "kernelspec": {
   "display_name": "Python 3",
   "language": "python",
   "name": "python3"
  },
  "language_info": {
   "codemirror_mode": {
    "name": "ipython",
    "version": 3
   },
   "file_extension": ".py",
   "mimetype": "text/x-python",
   "name": "python",
   "nbconvert_exporter": "python",
   "pygments_lexer": "ipython3",
   "version": "3.5.2"
  }
 },
 "nbformat": 4,
 "nbformat_minor": 2
}
