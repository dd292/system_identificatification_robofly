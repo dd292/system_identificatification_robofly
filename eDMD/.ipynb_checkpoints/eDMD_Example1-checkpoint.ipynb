{
 "cells": [
  {
   "cell_type": "code",
   "execution_count": null,
   "metadata": {},
   "outputs": [],
   "source": [
    "import numpy as np\n",
    "import matplotlib.pyplot as plt\n",
    "from scipy.integrate import *\n",
    "from scipy.interpolate import Rbf\n",
    "from numpy import random"
   ]
  },
  {
   "cell_type": "markdown",
   "metadata": {},
   "source": [
    "### Consider the Vander Pol Oscillator given by the equations:\n",
    "\n",
    "$\\dot{x_1} = 2x_2$\n",
    "\n",
    "$\\dot{x_2} = -0.8x_1+2x_2-10x_1^2x_2+u$"
   ]
  },
  {
   "cell_type": "code",
   "execution_count": null,
   "metadata": {},
   "outputs": [],
   "source": [
    "# define the dynamics\n",
    "vanderpol = lambda t,x,u : np.asarray([2*x[1],-0.8*x[0]+2*x[1]-10*x[0]**2*x[1]+u])"
   ]
  },
  {
   "cell_type": "code",
   "execution_count": null,
   "metadata": {},
   "outputs": [],
   "source": [
    "dt = 0.01 # sampling time\n",
    "nstates = 2 # number of states\n",
    "nctrl = 1 # number of control inputs"
   ]
  },
  {
   "cell_type": "code",
   "execution_count": null,
   "metadata": {},
   "outputs": [],
   "source": [
    "# RK4\n",
    "k1 = lambda t,x,u: vanderpol(t,x,u)\n",
    "k2 = lambda t,x,u: vanderpol(t,x+k1(t,x,u)*dt/2,u)\n",
    "k3 = lambda t,x,u: vanderpol(t,x+k2(t,x,u)*dt/2,u)\n",
    "k4 = lambda t,x,u: vanderpol(t,x+k1(t,x,u)*dt,u)\n",
    "rk4_step = lambda t,x,u: x+(dt/6)*(k1(t,x,u)+2*k2(t,x,u)+2*k3(t,x,u)+k4(t,x,u))"
   ]
  },
  {
   "cell_type": "code",
   "execution_count": null,
   "metadata": {},
   "outputs": [],
   "source": [
    "# define the Radial Basis Function that will aid in lifting the states\n",
    "def rbf(X,C,rbf_type):\n",
    "    \n",
    "    Cbig = C ; Y = np.zeros([C.shape[1],X.shape[1]])\n",
    "    \n",
    "    for i in range(Cbin.shape[1]):\n",
    "        \n",
    "        C = Cbig[:,i]\n",
    "        C = np.tile(C,X.shape[1])\n",
    "        r_squared = np.sum((X-C)**2)\n",
    "        \n",
    "        y = Rbf(r_squared, mode = rbf_type)\n",
    "        \n",
    "        Y[i,:] = y\n",
    "    \n",
    "    return Y"
   ]
  },
  {
   "cell_type": "code",
   "execution_count": null,
   "metadata": {},
   "outputs": [],
   "source": [
    "Nrbf = 100 # number of RBF centers\n",
    "cent = np.random.uniform(0,1,[nstates,Nrbf])*2-1 # generate random RBF centers\n",
    "rbf_type = 'thin_plate' # specify the type of RBF\n",
    "\n",
    "# obtain the lifted states\n",
    "liftFun = lambda xx,cent: np.vstack([xx,rbf(xx,cent,rbf_type)])\n",
    "# update the total dimension of the lifted state vector\n",
    "Nlift = Nrbf+nstates"
   ]
  },
  {
   "cell_type": "markdown",
   "metadata": {},
   "source": [
    "## Collect Data"
   ]
  },
  {
   "cell_type": "code",
   "execution_count": null,
   "metadata": {},
   "outputs": [],
   "source": [
    "Nsim = 200\n",
    "Ntraj = 1000\n",
    "\n",
    "# Random forcing\n",
    "Ubig = 2*np.random.uniform(0,1,[Nsim,Ntraj]) - 1\n",
    "\n",
    "# Random initial conditions\n",
    "Xcurrent = (np.random.uniform(0,1,[nstates,Ntraj])*2 - 1)\n",
    "\n",
    "X = np.empty([nstates,Nsim*Ntraj]); Y = np.empty([nstates,Nsim*Ntraj])\n",
    "U = []\n",
    "\n",
    "# collect trajectories\n",
    "for i in range(Nsim):\n",
    "    Xnext = rk4_step(0,Xcurrent,Ubig[i,:])\n",
    "    X[:,i*Ntraj:(i+1)*Ntraj] = Xcurrent\n",
    "    Y[:,i*Ntraj:(i+1)*Ntraj] = Xnext\n",
    "    U.append(Ubig[i,:])\n",
    "    Xcurrent = Xnext\n",
    "\n",
    "U = np.asarray(U)"
   ]
  },
  {
   "cell_type": "markdown",
   "metadata": {},
   "source": [
    "## Lift"
   ]
  },
  {
   "cell_type": "code",
   "execution_count": null,
   "metadata": {},
   "outputs": [],
   "source": [
    "Xlift = liftFun(X,cent)\n",
    "Ylift = liftFun(Y,cent)"
   ]
  },
  {
   "cell_type": "code",
   "execution_count": null,
   "metadata": {},
   "outputs": [],
   "source": []
  }
 ],
 "metadata": {
  "kernelspec": {
   "display_name": "Python 3",
   "language": "python",
   "name": "python3"
  },
  "language_info": {
   "codemirror_mode": {
    "name": "ipython",
    "version": 3
   },
   "file_extension": ".py",
   "mimetype": "text/x-python",
   "name": "python",
   "nbconvert_exporter": "python",
   "pygments_lexer": "ipython3",
   "version": "3.5.2"
  }
 },
 "nbformat": 4,
 "nbformat_minor": 2
}
