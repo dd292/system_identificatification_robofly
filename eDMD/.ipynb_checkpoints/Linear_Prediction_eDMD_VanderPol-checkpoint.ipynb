{
 "cells": [
  {
   "cell_type": "code",
   "execution_count": 1,
   "metadata": {},
   "outputs": [],
   "source": [
    "import numpy as np\n",
    "import matplotlib.pyplot as plt\n",
    "from scipy.integrate import *\n",
    "from scipy.interpolate import Rbf\n",
    "from numpy import random"
   ]
  },
  {
   "cell_type": "markdown",
   "metadata": {},
   "source": [
    "### Consider the Vander Pol Oscillator given by the equations:\n",
    "\n",
    "$\\dot{x_1} = 2x_2$\n",
    "\n",
    "$\\dot{x_2} = -0.8x_1+2x_2-10x_1^2x_2+u$"
   ]
  },
  {
   "cell_type": "code",
   "execution_count": 2,
   "metadata": {},
   "outputs": [],
   "source": [
    "# define the dynamics\n",
    "vanderpol = lambda t,x,u : np.asarray([2*x[1],-0.8*x[0]+2*x[1]-10*x[0]**2*x[1]+u])"
   ]
  },
  {
   "cell_type": "code",
   "execution_count": 3,
   "metadata": {},
   "outputs": [],
   "source": [
    "dt = 0.01 # sampling time\n",
    "nstates = 2 # number of states\n",
    "nctrl = 1 # number of control inputs"
   ]
  },
  {
   "cell_type": "markdown",
   "metadata": {},
   "source": [
    "### Define some helper functions"
   ]
  },
  {
   "cell_type": "code",
   "execution_count": 185,
   "metadata": {},
   "outputs": [],
   "source": [
    "# RK4\n",
    "\n",
    "k1 = lambda t,x,u: vanderpol(t,x,u)\n",
    "k2 = lambda t,x,u: vanderpol(t,x+k1(t,x,u)*dt/2,u)\n",
    "k3 = lambda t,x,u: vanderpol(t,x+k2(t,x,u)*dt/2,u)\n",
    "k4 = lambda t,x,u: vanderpol(t,x+k1(t,x,u)*dt,u)\n",
    "\n",
    "rk4_step = lambda t,x,u: x+(dt/6)*(k1(t,x,u)+2*k2(t,x,u)+2*k3(t,x,u)+k4(t,x,u))"
   ]
  },
  {
   "cell_type": "code",
   "execution_count": 77,
   "metadata": {},
   "outputs": [],
   "source": [
    "# define the Radial Basis Function that will aid in lifting the states\n",
    "def rbf(X,C,rbf_type):\n",
    "    \n",
    "    Cbig = C ; Y = np.zeros([C.shape[1],X.shape[1]])\n",
    "    \n",
    "    for i in range(Cbig.shape[1]):\n",
    "        \n",
    "        C = np.asarray([Cbig[:,i]]).T\n",
    "        C = np.tile(C,X.shape[1])\n",
    "        r_squared = np.sum((X-C)**2,axis = 0)\n",
    "        \n",
    "        r_squared = np.reshape(r_squared,(1,len(r_squared)))\n",
    "        y = r_squared*np.log(np.sqrt(r_squared))\n",
    "        \n",
    "        Y[i,:] = y\n",
    "    \n",
    "    return Y"
   ]
  },
  {
   "cell_type": "code",
   "execution_count": 78,
   "metadata": {},
   "outputs": [],
   "source": [
    "Nrbf = 100 # number of RBF centers\n",
    "cent = np.random.uniform(0,1,[nstates,Nrbf])*2-1 # generate random RBF centers\n",
    "rbf_type = 'thin_plate' # specify the type of RBF\n",
    "\n",
    "# obtain the lifted states\n",
    "liftFun = lambda xx,cent: np.vstack([xx,rbf(xx,cent,rbf_type)])\n",
    "# update the total dimension of the lifted state vector\n",
    "Nlift = Nrbf+nstates"
   ]
  },
  {
   "cell_type": "markdown",
   "metadata": {},
   "source": [
    "### Collect Data"
   ]
  },
  {
   "cell_type": "code",
   "execution_count": 97,
   "metadata": {},
   "outputs": [],
   "source": [
    "Nsim = 200\n",
    "Ntraj = 1000\n",
    "\n",
    "# Random forcing\n",
    "Ubig = 2*np.random.uniform(0,1,[Nsim,Ntraj]) - 1\n",
    "\n",
    "# Random initial conditions\n",
    "Xcurrent = (np.random.uniform(0,1,[nstates,Ntraj])*2 - 1)\n",
    "\n",
    "X = np.empty([nstates,Nsim*Ntraj]); Y = np.empty([nstates,Nsim*Ntraj])\n",
    "U = np.empty([1,Nsim*Ntraj])\n",
    "\n",
    "# collect trajectories\n",
    "for i in range(Nsim):\n",
    "    Xnext = rk4_step(0,Xcurrent,Ubig[i,:])\n",
    "    X[:,i*Ntraj:(i+1)*Ntraj] = Xcurrent\n",
    "    Y[:,i*Ntraj:(i+1)*Ntraj] = Xnext\n",
    "    U[:,i*Ntraj:(i+1)*Ntraj] = Ubig[i,:]\n",
    "    Xcurrent = Xnext\n",
    "\n",
    "U = np.asarray(U)"
   ]
  },
  {
   "cell_type": "markdown",
   "metadata": {},
   "source": [
    "### Lift"
   ]
  },
  {
   "cell_type": "code",
   "execution_count": 98,
   "metadata": {},
   "outputs": [],
   "source": [
    "Xlift = liftFun(X,cent)\n",
    "Ylift = liftFun(Y,cent)"
   ]
  },
  {
   "cell_type": "markdown",
   "metadata": {},
   "source": [
    "### Build Predictor\n"
   ]
  },
  {
   "cell_type": "code",
   "execution_count": 109,
   "metadata": {},
   "outputs": [],
   "source": [
    "W = np.vstack([Ylift,X])\n",
    "V = np.vstack([Xlift,U])\n",
    "\n",
    "VVt = np.dot(V,V.T)\n",
    "WVt = np.dot(W,V.T)\n",
    "M = np.dot(WVt,np.linalg.pinv(VVt)) # Matrix [A B; C 0]\n",
    "Alift = M[0:Nlift,0:Nlift]\n",
    "Blift = M[0:Nlift,Nlift:]\n",
    "Clift = M[Nlift:,0:Nlift]"
   ]
  },
  {
   "cell_type": "markdown",
   "metadata": {},
   "source": [
    "### Check Predictor Performance"
   ]
  },
  {
   "cell_type": "code",
   "execution_count": 182,
   "metadata": {},
   "outputs": [],
   "source": [
    "Tmax = 3\n",
    "Nsim = Tmax/dt\n",
    "n = np.arange(0,Nsim+1)\n",
    "\n",
    "u_dt = lambda i : ((-1)**(round(i/30))) # control signal\n",
    "\n",
    "# Initial condition\n",
    "#x0 = np.asarray([0.5, 0.5])\n",
    "x0 = np.asarray([-0.1, -0.5])\n",
    "x0 = np.reshape(x0,(2,1))\n",
    "x_true = x0\n",
    "\n",
    "# Lifted initial condition\n",
    "xlift = liftFun(x0,cent)"
   ]
  },
  {
   "cell_type": "code",
   "execution_count": 183,
   "metadata": {},
   "outputs": [],
   "source": [
    "# Simulate\n",
    "for i in range(int(Nsim)):\n",
    "    # Koopman predictor\n",
    "    term1 = np.dot(Alift,np.asarray([xlift[:,-1]]).T)\n",
    "    term2 = np.dot(Blift,u_dt(i))\n",
    "    xlift = np.hstack([xlift, term1 + term2]) # Lifted dynamics\n",
    "    \n",
    "    # True dynamics\n",
    "    x_true = np.hstack([x_true, rk4_step(0,np.asarray([x_true[:,-1]]).T,u_dt(i))]) # Lifted dynamics\n",
    "    \n",
    "x_koop = np.dot(Clift, xlift) # Koopman predictions"
   ]
  },
  {
   "cell_type": "markdown",
   "metadata": {},
   "source": [
    "### Plot the Results"
   ]
  },
  {
   "cell_type": "code",
   "execution_count": 184,
   "metadata": {},
   "outputs": [
    {
     "data": {
      "image/png": "[encoded data removed]",
      "text/plain": [
       "<Figure size 432x288 with 1 Axes>"
      ]
     },
     "metadata": {},
     "output_type": "display_data"
    },
    {
     "data": {
      "image/png": "[encoded data removed]",
      "text/plain": [
       "<Figure size 432x288 with 1 Axes>"
      ]
     },
     "metadata": {},
     "output_type": "display_data"
    }
   ],
   "source": [
    "plt.plot(n,x_koop[0,:],label=\"koopman\")\n",
    "plt.plot(n,x_true[0,:],label=\"true\")\n",
    "plt.legend()\n",
    "plt.xlabel(\"Time Steps\")\n",
    "plt.ylabel(\"State Values\")\n",
    "plt.title(\"State 1 Prediction Comparison\")\n",
    "plt.show()\n",
    "\n",
    "plt.plot(n,x_koop[1,:],label=\"koopman\")\n",
    "plt.plot(n,x_true[1,:],label=\"true\")\n",
    "plt.legend()\n",
    "plt.xlabel(\"Time Steps\")\n",
    "plt.ylabel(\"State Values\")\n",
    "plt.title(\"State 2 Prediction Comparison\")\n",
    "plt.show()"
   ]
  },
  {
   "cell_type": "code",
   "execution_count": null,
   "metadata": {},
   "outputs": [],
   "source": []
  }
 ],
 "metadata": {
  "kernelspec": {
   "display_name": "Python 3",
   "language": "python",
   "name": "python3"
  },
  "language_info": {
   "codemirror_mode": {
    "name": "ipython",
    "version": 3
   },
   "file_extension": ".py",
   "mimetype": "text/x-python",
   "name": "python",
   "nbconvert_exporter": "python",
   "pygments_lexer": "ipython3",
   "version": "3.5.2"
  }
 },
 "nbformat": 4,
 "nbformat_minor": 2
}
