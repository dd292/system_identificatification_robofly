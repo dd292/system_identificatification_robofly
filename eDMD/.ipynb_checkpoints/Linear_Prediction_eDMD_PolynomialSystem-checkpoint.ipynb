{
 "cells": [
  {
   "cell_type": "code",
   "execution_count": null,
   "metadata": {},
   "outputs": [],
   "source": [
    "import numpy as np\n",
    "import matplotlib.pyplot as plt\n",
    "from scipy.integrate import *\n",
    "from numpy import random"
   ]
  },
  {
   "cell_type": "markdown",
   "metadata": {},
   "source": [
    "## Consider the System Given by the Equations"
   ]
  },
  {
   "cell_type": "markdown",
   "metadata": {},
   "source": [
    "$\\dot{x_1} = \\mu x_1$\n",
    "\n",
    "$\\dot{x_2} = \\lambda (x_2-x_1^2)$"
   ]
  },
  {
   "cell_type": "markdown",
   "metadata": {},
   "source": [
    "### Define and Collect Trajectories of the Nonlinear System"
   ]
  },
  {
   "cell_type": "code",
   "execution_count": null,
   "metadata": {},
   "outputs": [],
   "source": [
    "def nonlinear_system(t,X,params):\n",
    "    # define system parameters\n",
    "    mu = params[0]\n",
    "    lam = params[1]\n",
    "    # specify rate of change of each state\n",
    "    dx1dt = mu*X[0]\n",
    "    dx2dt = lam*(X[1]-X[0]**2)\n",
    "    # roll up states into a numpy array\n",
    "    dXdt = np.asarray([dx1dt,dx2dt])\n",
    "    \n",
    "    return dXdt"
   ]
  },
  {
   "cell_type": "code",
   "execution_count": null,
   "metadata": {},
   "outputs": [],
   "source": [
    "# define some initial parameters\n",
    "\n",
    "dt = 0.01 # sampling time\n",
    "final_time = 100 # time duration of each trajectory\n",
    "Ntraj = 20 # number of trajectories\n",
    "nstates = 2 # number of states in the system\n",
    "Nsim = int(final_time/dt)\n",
    "tspan = np.asarray([0,final_time])\n",
    "t_vec = np.arange(0,final_time,dt)\n",
    "\n",
    "# system parameters\n",
    "\n",
    "mu = -0.05\n",
    "lam = -1\n",
    "params = np.asarray([mu,lam])\n",
    "\n",
    "traj_tensor = np.empty([Ntraj,nstates,Nsim]) # initialize trajectory tensor\n",
    "\n",
    "# initial conditions\n",
    "initial_state = 2*np.random.uniform(-1,1,[nstates,Ntraj])-1\n",
    "\n",
    "# collect all trajectries\n",
    "for i in range(Ntraj):\n",
    "    states = solve_ivp(nonlinear_system, tspan, initial_state[:,i], t_eval = t_vec, args = (params,))\n",
    "    traj_tensor[i,:,:] = states.y"
   ]
  },
  {
   "cell_type": "code",
   "execution_count": null,
   "metadata": {},
   "outputs": [],
   "source": [
    "# Prepare X and Y matrices by appending trajectories one after the other\n",
    "\n",
    "X = traj_tensor[0,:,:]\n",
    "\n",
    "for i in range(1,Ntraj-1):\n",
    "    X = np.hstack([X,traj_tensor[i,:,:]])\n",
    "    \n",
    "Y = traj_tensor[1,:,:]\n",
    "for i in range(2,Ntraj):\n",
    "    Y = np.hstack([Y,traj_tensor[i,:,:]])\n",
    "    \n",
    "# # Prepare X and Y matrices by interleaving trajectories among each other\n",
    "# X = np.empty([nstates,Nsim*Ntraj-Ntraj])\n",
    "# index = 0\n",
    "# for i in range(Ntraj-1):\n",
    "#     for j in range(Nsim):\n",
    "#         traj_slice = traj_tensor[i,:,j]\n",
    "#         X[:,index] = traj_slice\n",
    "#         index = index + 1\n",
    "        \n",
    "# Y = np.empty([nstates,Nsim*Ntraj-Ntraj])\n",
    "# index = 0\n",
    "# for i in range(1,Ntraj):\n",
    "#     for j in range(Nsim):\n",
    "#         traj_slice = traj_tensor[i,:,j]\n",
    "#         Y[:,index] = traj_slice\n",
    "#         index = index + 1"
   ]
  },
  {
   "cell_type": "markdown",
   "metadata": {},
   "source": [
    "### Lift"
   ]
  },
  {
   "cell_type": "code",
   "execution_count": null,
   "metadata": {},
   "outputs": [],
   "source": [
    "# define the Radial Basis Function that will aid in lifting the states\n",
    "def rbf(X,C,rbf_type):\n",
    "    \n",
    "    Cbig = C ; Y = np.zeros([C.shape[1],X.shape[1]])\n",
    "    \n",
    "    for i in range(Cbig.shape[1]):\n",
    "        \n",
    "        C = np.asarray([Cbig[:,i]]).T\n",
    "        C = np.tile(C,X.shape[1])\n",
    "        r_squared = np.sum((X-C)**2,axis = 0)\n",
    "        \n",
    "        r_squared = np.reshape(r_squared,(1,len(r_squared)))\n",
    "        y = r_squared*np.log(np.sqrt(r_squared))\n",
    "        \n",
    "        Y[i,:] = y\n",
    "    \n",
    "    return Y"
   ]
  },
  {
   "cell_type": "code",
   "execution_count": null,
   "metadata": {},
   "outputs": [],
   "source": [
    "Nrbf = 100 # number of RBF centers\n",
    "cent = 2*np.random.uniform(-1,1,[nstates,Nrbf])-1 # generate random RBF centers\n",
    "rbf_type = 'thin_plate' # specify the type of RBF\n",
    "\n",
    "# obtain the lifted states\n",
    "liftFun = lambda xx,cent: np.vstack([xx,rbf(xx,cent,rbf_type)])\n",
    "# update the total dimension of the lifted state vector\n",
    "Nlift = Nrbf+nstates"
   ]
  },
  {
   "cell_type": "code",
   "execution_count": null,
   "metadata": {},
   "outputs": [],
   "source": [
    "Xlift = liftFun(X,cent)\n",
    "Ylift = liftFun(Y,cent)\n",
    "\n",
    "print(Xlift.shape,Ylift.shape)"
   ]
  },
  {
   "cell_type": "markdown",
   "metadata": {},
   "source": [
    "### Build Predictors"
   ]
  },
  {
   "cell_type": "code",
   "execution_count": null,
   "metadata": {},
   "outputs": [],
   "source": [
    "G = np.dot(Xlift,Xlift.T)\n",
    "V = np.dot(Ylift,Xlift.T)\n",
    "\n",
    "Alift = np.dot(V,np.linalg.pinv(G))\n",
    "Clift = np.dot(X,np.linalg.pinv(Xlift))"
   ]
  },
  {
   "cell_type": "code",
   "execution_count": null,
   "metadata": {},
   "outputs": [],
   "source": [
    "residual = np.linalg.norm(Ylift - np.dot(Alift,Xlift),'fro') / np.linalg.norm(Ylift,'fro')\n",
    "print(residual)"
   ]
  },
  {
   "cell_type": "markdown",
   "metadata": {},
   "source": [
    "### Check Predictor Performance"
   ]
  },
  {
   "cell_type": "code",
   "execution_count": null,
   "metadata": {},
   "outputs": [],
   "source": [
    "Tmax = 1\n",
    "Nsim_test = int(Tmax/dt)\n",
    "t_vec_test = np.arange(0,Tmax,dt)\n",
    "tspan_test = np.asarray([0,Tmax])\n",
    "\n",
    "# Initial condition\n",
    "x0 = [0.5, -0.5]\n",
    "x0_l = np.asarray(x0)\n",
    "x0_l = np.reshape(x0_l,(2,1))\n",
    "\n",
    "# Lifted initial condition\n",
    "xlift = liftFun(x0_l,cent)"
   ]
  },
  {
   "cell_type": "code",
   "execution_count": null,
   "metadata": {},
   "outputs": [],
   "source": [
    "# Simulate\n",
    "\n",
    "# True dynamics\n",
    "states = solve_ivp(nonlinear_system, tspan_test, x0, t_eval = t_vec_test, args = (params,))\n",
    "x_true = states.y \n",
    "   \n",
    "# Koopman predictor\n",
    "for i in range(Nsim_test-1):\n",
    "    \n",
    "    term = np.dot(Alift,np.asarray([xlift[:,-1]]).T)\n",
    "    xlift = np.hstack([xlift, term]) # Lifted dynamics\n",
    "    \n",
    "x_koop = np.dot(Clift, xlift) # Koopman predictions"
   ]
  },
  {
   "cell_type": "markdown",
   "metadata": {},
   "source": [
    "### Plot the Results"
   ]
  },
  {
   "cell_type": "code",
   "execution_count": null,
   "metadata": {},
   "outputs": [],
   "source": [
    "plt.plot(t_vec_test,x_true[0,:], label = 'true')\n",
    "plt.plot(t_vec_test,xlift[0,:], label = 'koopman')\n",
    "plt.xlabel('Time')\n",
    "plt.ylabel('States')\n",
    "plt.title(\"State 1 Prediction Comparison\")\n",
    "plt.legend()\n",
    "plt.show()\n",
    "\n",
    "plt.plot(t_vec_test,x_true[1,:], label = 'true')\n",
    "plt.plot(t_vec_test,x_koop[1,:], label = 'koopman')\n",
    "plt.xlabel('Time')\n",
    "plt.ylabel('States')\n",
    "plt.title(\"State 2 Prediction Comparison\")\n",
    "plt.legend()\n",
    "plt.show()"
   ]
  },
  {
   "cell_type": "code",
   "execution_count": null,
   "metadata": {},
   "outputs": [],
   "source": []
  }
 ],
 "metadata": {
  "kernelspec": {
   "display_name": "Python 3",
   "language": "python",
   "name": "python3"
  },
  "language_info": {
   "codemirror_mode": {
    "name": "ipython",
    "version": 3
   },
   "file_extension": ".py",
   "mimetype": "text/x-python",
   "name": "python",
   "nbconvert_exporter": "python",
   "pygments_lexer": "ipython3",
   "version": "3.5.2"
  }
 },
 "nbformat": 4,
 "nbformat_minor": 2
}
