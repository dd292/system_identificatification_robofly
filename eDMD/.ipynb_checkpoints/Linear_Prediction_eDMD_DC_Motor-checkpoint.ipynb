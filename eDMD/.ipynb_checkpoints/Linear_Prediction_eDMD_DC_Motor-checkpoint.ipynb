{
 "cells": [
  {
   "cell_type": "code",
   "execution_count": 1,
   "metadata": {},
   "outputs": [],
   "source": [
    "import numpy as np\n",
    "import matplotlib.pyplot as plt\n",
    "from scipy.integrate import *\n",
    "from scipy.interpolate import Rbf\n",
    "from numpy import random"
   ]
  },
  {
   "cell_type": "markdown",
   "metadata": {},
   "source": [
    "### Consider the Bilinear DC Motor given by the equations:"
   ]
  },
  {
   "cell_type": "markdown",
   "metadata": {},
   "source": [
    "$\\dot{x_1} = -(R_a/L_a)x_1-(k_m/L_a)x_2u+u_a/L_a$\n",
    "\n",
    "$\\dot{x_2} = -(B/J)x_2+(k_m/J)x_1u-\\tau_1/J$\n",
    "\n",
    "$y = x_2$"
   ]
  },
  {
   "cell_type": "code",
   "execution_count": 3,
   "metadata": {},
   "outputs": [],
   "source": [
    "# define the dynamics\n",
    "# x1 - current in [-1,1]\n",
    "# x2 - angular velocity in [-1,1]\n",
    "# u  - control input in [-1,1]\n",
    "\n",
    "def dyn_motor_scaled(t,x,u):\n",
    "    \n",
    "    dx1dt = -39.3153*x[0]-32.2293*x[1]*u+19.10828025\n",
    "    dx2dt = -1.6599*x[1]+22.9478*x[0]*u-3.333333333\n",
    "    \n",
    "    dXdt = np.asarray([dx1dt,dx2dt])\n",
    "    \n",
    "    return dXdt"
   ]
  },
  {
   "cell_type": "markdown",
   "metadata": {},
   "source": [
    "### Define Some Helper Functions"
   ]
  },
  {
   "cell_type": "code",
   "execution_count": 5,
   "metadata": {},
   "outputs": [],
   "source": [
    "# RK4\n",
    "\n",
    "k1 = lambda t,x,u: dyn_motor_scaled(t,x,u)\n",
    "k2 = lambda t,x,u: dyn_motor_scaled(t,x+k1(t,x,u)*dt/2,u)\n",
    "k3 = lambda t,x,u: dyn_motor_scaled(t,x+k2(t,x,u)*dt/2,u)\n",
    "k4 = lambda t,x,u: dyn_motor_scaled(t,x+k1(t,x,u)*dt,u)\n",
    "\n",
    "rk4_step = lambda t,x,u: x+(dt/6)*(k1(t,x,u)+2*k2(t,x,u)+2*k3(t,x,u)+k4(t,x,u))"
   ]
  },
  {
   "cell_type": "code",
   "execution_count": 6,
   "metadata": {},
   "outputs": [],
   "source": [
    "# define the Radial Basis Function that will aid in lifting the states\n",
    "def rbf(X,C,rbf_type):\n",
    "    \n",
    "    Cbig = C ; Y = np.zeros([C.shape[1],X.shape[1]])\n",
    "    \n",
    "    for i in range(Cbig.shape[1]):\n",
    "        \n",
    "        C = np.asarray([Cbig[:,i]]).T\n",
    "        C = np.tile(C,X.shape[1])\n",
    "        r_squared = np.sum((X-C)**2,axis = 0)\n",
    "        \n",
    "        r_squared = np.reshape(r_squared,(1,len(r_squared)))\n",
    "        y = r_squared*np.log(np.sqrt(r_squared))\n",
    "        \n",
    "        Y[i,:] = y\n",
    "    \n",
    "    return Y"
   ]
  },
  {
   "cell_type": "markdown",
   "metadata": {},
   "source": [
    "### Collect Data"
   ]
  },
  {
   "cell_type": "code",
   "execution_count": 53,
   "metadata": {},
   "outputs": [],
   "source": [
    "# define some relevant parameters\n",
    "\n",
    "dt = 0.01 # sampling time\n",
    "nstates = 2 # number of states\n",
    "nctrl = 1 # number of control inputs\n",
    "\n",
    "Tmax = 10\n",
    "Nsim = int(Tmax/dt)\n",
    "n = np.arange(0,Nsim)*dt\n",
    "\n",
    "# random forcing\n",
    "u = 2*np.random.uniform(0,1,[Nsim,1]) - 1\n",
    "# random initial condition\n",
    "x0 = np.random.uniform(0,1,[nstates,1])*2 - 1\n",
    "\n",
    "train_traj = np.empty([nstates,Nsim])\n",
    "\n",
    "x_current = x0\n",
    "for i in range(Nsim):\n",
    "    train_traj[:,i] = np.squeeze(x_current)\n",
    "    x_current = rk4_step(0,x_current,u[i])\n",
    "\n",
    "Cy = np.asarray([[0, 1]]) # Output matrix: y = Cy*x\n",
    "nD = 1 # Number of delays\n",
    "ny = Cy.shape[0] # Number of outputs\n",
    "\n",
    "# Delay-embedded \"state\" \n",
    "# zeta_k = [y_{k} ; u_{k-1} ; y_{k-1} ... u_{k-nd} ; y_{k-nd} ]\n",
    "n_zeta = (nD+1)*ny + nD*nctrl # dimension of the delay-embedded \"state\"\n",
    "\n",
    "for i in range(Nsim-nD):\n",
    "    \n",
    "    \n",
    "\n"
   ]
  },
  {
   "cell_type": "code",
   "execution_count": null,
   "metadata": {},
   "outputs": [],
   "source": []
  },
  {
   "cell_type": "code",
   "execution_count": 54,
   "metadata": {},
   "outputs": [],
   "source": [
    "Nrbf = 100 # number of RBF centers\n",
    "cent = np.random.uniform(0,1,[n_zeta,Nrbf])*2-1 # generate random RBF centers\n",
    "rbf_type = 'thin_plate' # specify the type of RBF\n",
    "\n",
    "# obtain the lifted states\n",
    "liftFun = lambda xx,cent: np.vstack([xx,rbf(xx,cent,rbf_type)])\n",
    "# update the total dimension of the lifted state vector\n",
    "Nlift = Nrbf+n_zeta"
   ]
  },
  {
   "cell_type": "markdown",
   "metadata": {},
   "source": [
    "### Lift"
   ]
  },
  {
   "cell_type": "code",
   "execution_count": null,
   "metadata": {},
   "outputs": [],
   "source": [
    "Xlift = liftFun(X,cent)\n",
    "Ylift = liftFun(Y,cent)\n",
    "\n",
    "print(Xlift.shape,Ylift.shape) # print out shapes as a sanity check"
   ]
  },
  {
   "cell_type": "markdown",
   "metadata": {},
   "source": [
    "### Build Predictor"
   ]
  },
  {
   "cell_type": "code",
   "execution_count": null,
   "metadata": {},
   "outputs": [],
   "source": [
    "W = np.vstack([Ylift,X])\n",
    "V = np.vstack([Xlift,U])\n",
    "\n",
    "VVt = np.dot(V,V.T)\n",
    "WVt = np.dot(W,V.T)\n",
    "M = np.dot(WVt,np.linalg.pinv(VVt)) # Matrix [A B; C 0]\n",
    "Alift = M[0:Nlift,0:Nlift]\n",
    "Blift = M[0:Nlift,Nlift:]\n",
    "Clift = M[Nlift:,0:Nlift]\n",
    "\n",
    "print(Alift.shape, Blift.shape, Clift.shape) # print out dimensions as a sanity check"
   ]
  }
 ],
 "metadata": {
  "kernelspec": {
   "display_name": "Python 3",
   "language": "python",
   "name": "python3"
  },
  "language_info": {
   "codemirror_mode": {
    "name": "ipython",
    "version": 3
   },
   "file_extension": ".py",
   "mimetype": "text/x-python",
   "name": "python",
   "nbconvert_exporter": "python",
   "pygments_lexer": "ipython3",
   "version": "3.5.2"
  }
 },
 "nbformat": 4,
 "nbformat_minor": 2
}
