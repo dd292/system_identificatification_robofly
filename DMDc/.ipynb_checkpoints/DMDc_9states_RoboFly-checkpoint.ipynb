{
 "cells": [
  {
   "cell_type": "code",
   "execution_count": 2,
   "metadata": {},
   "outputs": [],
   "source": [
    "from Data_interpret.GroundTruth import ReadMat\n",
    "import numpy as np\n",
    "from pathlib import Path\n",
    "import matplotlib.pyplot as plt\n",
    "import sys"
   ]
  },
  {
   "cell_type": "code",
   "execution_count": 10,
   "metadata": {},
   "outputs": [],
   "source": [
    "# Loading DATA\n",
    "train_file = \"../Raw_data/8_8_2019 to 8_12_2019/2019-08-08-19-16-02_5sec.mat\"\n",
    "train_file2 = \"../Raw_data/8_8_2019 to 8_12_2019/2019-08-09-13-01-42_10sec.mat\"\n",
    "train_data = ReadMat(train_file)\n",
    "train_data2 = ReadMat(train_file2)\n",
    "# train_data = ReadMat(train_file2)\n",
    "test_file = \"../Raw_data/8_8_2019 to 8_12_2019/2019-08-09-12-49-56_7sec.mat\"\n",
    "test_data = ReadMat(test_file)\n",
    "\n",
    "# SAMPLING DATA\n",
    "sample_size = 100  # sampling of raw data\n",
    "train_state_traj, train_action_traj = train_data.sampled_mocap_data(sample_size)  # state X time, number of actions X time\n",
    "train_state_traj2, train_action_traj2 = train_data2.sampled_mocap_data(sample_size)  # state X time, number of actions X time\n",
    "test_state_traj, test_action_traj = test_data.sampled_mocap_data(sample_size)"
   ]
  },
  {
   "cell_type": "code",
   "execution_count": 12,
   "metadata": {},
   "outputs": [],
   "source": [
    "def DMD(X,Xprime,r):\n",
    "    ''' This function computes the linear approximation to a nonlinear dynamical system whose state \n",
    "    recordings are passed in.\n",
    "    \n",
    "    Arguments:\n",
    "    \n",
    "    Input:\n",
    "    \n",
    "        X: The states of the system\n",
    "        \n",
    "        Xprime: the rate of change of the states obtained form finite differencing or direct measurement\n",
    "        \n",
    "        r: the rank of the low-rank approximation\n",
    "        \n",
    "    Output:\n",
    "    \n",
    "        Phi: State transition matrix\n",
    "        \n",
    "        Lambda: Eigenvalues of Atilde\n",
    "        \n",
    "        b: Amplitude of the modes\n",
    "    '''\n",
    "    # obtain singular value decompositon matrices truncated to order r\n",
    "    U,Sigma,VT = np.linalg.svd(X,full_matrices=0) # Step 1\n",
    "    Ur = U[:,:r]\n",
    "    Sigmar = np.diag(Sigma[:r])\n",
    "    VTr = VT[:r,:]\n",
    "    \n",
    "    # Obtain the reduced order system matrix,i.e, A matrix \n",
    "    Atilde = np.linalg.solve(Sigmar.T,(Ur.T @ Xprime @ VTr.T).T).T # Step 2\n",
    "    \n",
    "    # Obtain the eiegnvales and eigenvectors of the system matrix\n",
    "    Lambda, W = np.linalg.eig(Atilde) # Step 3\n",
    "    Lambda = np.diag(Lambda)\n",
    "    \n",
    "    # obtain the state transition matrix for the discrete time linear approximation and also 'b' which helps \n",
    "    # reconstruct time dynamics\n",
    "    Phi = Xprime @ np.linalg.solve(Sigmar.T,VTr).T @ W # Step 4\n",
    "    alpha1 = Sigmar @ VTr[:,0]\n",
    "    b = np.linalg.solve(W @ Lambda,alpha1)\n",
    "    \n",
    "    return Phi, Lambda, b, Atilde"
   ]
  },
  {
   "cell_type": "code",
   "execution_count": 13,
   "metadata": {},
   "outputs": [],
   "source": [
    "def DMDc(X,Xprime,Upsilon,r,B = np.zeros((1,1))):\n",
    "    ''' This function computes the linear approximation to a controlled nonlinear dynamical system whose state \n",
    "    recordings and control inputs are passed in.\n",
    "    \n",
    "    Arguments:\n",
    "    \n",
    "    Input:\n",
    "    \n",
    "        X: The states of the system\n",
    "        \n",
    "        Xprime: the rate of change of the states obtained form finite differencing or direct measurement\n",
    "        \n",
    "        Upsilon: The control action data\n",
    "        \n",
    "        B: The matrix that dicstates how the control actions affect the system, if available\n",
    "        \n",
    "        r: the rank of the low-rank approximation\n",
    "        \n",
    "    Output:\n",
    "    \n",
    "        Phi: State transition matrix\n",
    "        \n",
    "        Lambda: Eigenvalues of Atilde\n",
    "        \n",
    "        b: Amplitude of the modes\n",
    "    '''\n",
    "    # if B is unkown\n",
    "    if((B == np.zeros((1,1))).all()):\n",
    "        print(\"not done yet\")\n",
    "        return 0\n",
    "        \n",
    "    # if B is known\n",
    "    else : \n",
    "        Xprime = Xprime-B@Upsilon\n",
    "        return DMD(X,Xprime,r)"
   ]
  },
  {
   "cell_type": "markdown",
   "metadata": {},
   "source": [
    "## Given \n",
    "$$\\dot{x} = f(x,u)$$ \n",
    "## or \n",
    "$$\\dot{x} = f(x) + g(x)u$$ \n",
    "## We need to find \n",
    "$$\\dot{x} = Ax+Bu$$\n",
    "\n",
    "$x = \\begin{bmatrix} \n",
    "\\dot{x} \\\\\n",
    "\\dot{y} \\\\\n",
    "\\dot{z} \\\\\n",
    "\\theta_x \\\\\n",
    "\\theta_y \\\\\n",
    "\\theta_z \\\\\n",
    "\\omega_x \\\\\n",
    "\\omega_y \\\\\n",
    "\\omega_z \\\\\n",
    "\\end{bmatrix}$\n",
    "&emsp;  &emsp; &emsp; \n",
    "$\\dot{x} = \\begin{bmatrix} \n",
    "\\ddot{x} \\\\\n",
    "\\ddot{y} \\\\\n",
    "\\ddot{z} \\\\\n",
    "\\dot{\\theta}_x \\\\\n",
    "\\dot{\\theta}_y \\\\\n",
    "\\dot{\\theta}_z \\\\\n",
    "\\dot{\\omega}_x \\\\\n",
    "\\dot{\\omega}_y \\\\\n",
    "\\dot{\\omega}_z \\\\\n",
    "\\end{bmatrix}$\n",
    "&emsp;  &emsp; &emsp;\n",
    "$A_{9 \\times 9} = ?$\n",
    "&emsp;  &emsp; &emsp;\n",
    "$B_{9 \\times 3} = \\begin{bmatrix}\n",
    "0 & 0 & 0\\\\\n",
    "0 & 0 & 0\\\\\n",
    "1 & 0 & 0\\\\\n",
    "0 & 0 & 0\\\\\n",
    "0 & 0 & 0\\\\\n",
    "0 & 0 & 0\\\\\n",
    "0 & 1 & 0\\\\\n",
    "0 & 0 & 1\\\\\n",
    "0 & 0 & 0\\\\\n",
    "\\end{bmatrix}$\n",
    "&emsp;  &emsp; &emsp;\n",
    "$u = \\begin{bmatrix}\n",
    "u_{zaccel} \\\\\n",
    "u_{roll} \\\\\n",
    "u_{pitch}\n",
    "\\end{bmatrix}\n",
    "$\n",
    "\n"
   ]
  },
  {
   "cell_type": "markdown",
   "metadata": {},
   "source": [
    "## Assuming B is known"
   ]
  },
  {
   "cell_type": "code",
   "execution_count": 14,
   "metadata": {},
   "outputs": [],
   "source": [
    "X = train_state_traj2[:,0:-1]\n",
    "Xprime = train_state_traj2[:,1:]\n",
    "\n",
    "Upsilon = train_action_traj2[:,0:-1] \n",
    "\n",
    "Omega = np.vstack([X,Upsilon])\n",
    "\n",
    "# define the B matrix\n",
    "B_sys = np.zeros((9,3))\n",
    "B_sys[2,0]  = 1\n",
    "B_sys[6,1] = 1\n",
    "B_sys[7,2] = 1\n",
    "\n",
    "r = 9 # number of states\n",
    "dt = 0.01 # in seconds"
   ]
  },
  {
   "cell_type": "code",
   "execution_count": 15,
   "metadata": {},
   "outputs": [],
   "source": [
    "Phi, Lambda, b = DMDc(X,Xprime,Upsilon,r, B_sys)\n",
    "omega = np.log(np.diag(Lambda))/dt"
   ]
  },
  {
   "cell_type": "code",
   "execution_count": 16,
   "metadata": {},
   "outputs": [
    {
     "name": "stdout",
     "output_type": "stream",
     "text": [
      "(9, 1055)\n"
     ]
    },
    {
     "name": "stderr",
     "output_type": "stream",
     "text": [
      "/usr/local/lib/python3.5/dist-packages/ipykernel_launcher.py:9: ComplexWarning: Casting complex values to real discards the imaginary part\n",
      "  if __name__ == '__main__':\n",
      "/usr/local/lib/python3.5/dist-packages/ipykernel_launcher.py:9: RuntimeWarning: overflow encountered in exp\n",
      "  if __name__ == '__main__':\n"
     ]
    }
   ],
   "source": [
    "# reconstruct dynamics with DMD as a sanity check\n",
    "start_time = 0\n",
    "end_time = X.shape[1]*dt\n",
    "time = np.arange(start_time,end_time,dt) # time vector\n",
    "\n",
    "time_dynamics = np.zeros([Phi.shape[1],len(time)])\n",
    "\n",
    "for i in range(time_dynamics.shape[1]):\n",
    "    time_dynamics[:,i] = b*np.exp(omega*time[i])\n",
    "    \n",
    "X_dmd = np.dot(Phi,time_dynamics)\n",
    "\n",
    "print(X_dmd.shape)"
   ]
  },
  {
   "cell_type": "code",
   "execution_count": 17,
   "metadata": {},
   "outputs": [
    {
     "name": "stderr",
     "output_type": "stream",
     "text": [
      "/home/ashwin/.local/lib/python3.5/site-packages/numpy/core/numeric.py:501: ComplexWarning: Casting complex values to real discards the imaginary part\n",
      "  return array(a, dtype, copy=False, order=order)\n"
     ]
    },
    {
     "data": {
      "text/plain": [
       "<matplotlib.legend.Legend at 0x7f9f6f853be0>"
      ]
     },
     "execution_count": 17,
     "metadata": {},
     "output_type": "execute_result"
    },
    {
     "data": {
      "image/png": "[encoded data removed]",
      "text/plain": [
       "<Figure size 432x288 with 1 Axes>"
      ]
     },
     "metadata": {},
     "output_type": "display_data"
    }
   ],
   "source": [
    "plt.plot(time,X_dmd[2,:],label='dmd')\n",
    "plt.plot(time,X[2,:],label='data')\n",
    "plt.legend()"
   ]
  },
  {
   "cell_type": "code",
   "execution_count": null,
   "metadata": {},
   "outputs": [],
   "source": []
  }
 ],
 "metadata": {
  "kernelspec": {
   "display_name": "Python 3",
   "language": "python",
   "name": "python3"
  },
  "language_info": {
   "codemirror_mode": {
    "name": "ipython",
    "version": 3
   },
   "file_extension": ".py",
   "mimetype": "text/x-python",
   "name": "python",
   "nbconvert_exporter": "python",
   "pygments_lexer": "ipython3",
   "version": "3.5.2"
  }
 },
 "nbformat": 4,
 "nbformat_minor": 2
}
