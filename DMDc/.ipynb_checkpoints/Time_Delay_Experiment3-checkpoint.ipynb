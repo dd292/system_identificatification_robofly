{
 "cells": [
  {
   "cell_type": "code",
   "execution_count": 1,
   "metadata": {},
   "outputs": [],
   "source": [
    "import numpy as np\n",
    "import matplotlib.pyplot as plt\n",
    "from scipy.integrate import *"
   ]
  },
  {
   "cell_type": "markdown",
   "metadata": {},
   "source": [
    "## Define and Collect Trajectories of the Nonlinear System"
   ]
  },
  {
   "cell_type": "code",
   "execution_count": 2,
   "metadata": {},
   "outputs": [],
   "source": [
    "def nonlinear_system(t,X):\n",
    "    \n",
    "    # specify rate of change of each state\n",
    "    dx1dt = X[0]**2\n",
    "    \n",
    "    # roll up states into a numpy array\n",
    "    dXdt = np.asarray([dx1dt])\n",
    "    \n",
    "    return dXdt"
   ]
  },
  {
   "cell_type": "code",
   "execution_count": 172,
   "metadata": {},
   "outputs": [],
   "source": [
    "# initial condition\n",
    "initial_state = [0.01]\n",
    "dt = 0.01\n",
    "final_time = 120\n",
    "t_vec = np.arange(0,final_time,dt)\n",
    "tspan = np.asarray([0,final_time])\n",
    "\n",
    "states = solve_ivp(nonlinear_system, tspan, initial_state, t_eval = t_vec, method = \"DOP853\")\n",
    "\n",
    "t = states.t\n",
    "x = states.y\n",
    "x = x[0,:]"
   ]
  },
  {
   "cell_type": "code",
   "execution_count": 173,
   "metadata": {},
   "outputs": [
    {
     "name": "stdout",
     "output_type": "stream",
     "text": [
      "(10001,) (10001,)\n"
     ]
    },
    {
     "data": {
      "image/png": "[encoded data removed]",
      "text/plain": [
       "<Figure size 432x288 with 1 Axes>"
      ]
     },
     "metadata": {},
     "output_type": "display_data"
    }
   ],
   "source": [
    "# plot trajectories\n",
    "plt.plot(t,x)\n",
    "print(t.shape,x.shape)"
   ]
  },
  {
   "cell_type": "markdown",
   "metadata": {},
   "source": [
    "## Perform DMD with and without Time Delay Embeddings and Visualize Mode Spectrum"
   ]
  },
  {
   "cell_type": "code",
   "execution_count": 174,
   "metadata": {},
   "outputs": [],
   "source": [
    "def DMD(X,Xprime,r):\n",
    "    ''' This function computes the linear approximation to a nonlinear dynamical system whose state \n",
    "    recordings are passed in.\n",
    "    \n",
    "    Arguments:\n",
    "    \n",
    "    Input:\n",
    "    \n",
    "        X: The states of the system\n",
    "        \n",
    "        Xprime: the rate of change of the states obtained form finite differencing or direct measurement\n",
    "        \n",
    "        r: the rank of the low-rank approximation\n",
    "        \n",
    "    Output:\n",
    "    \n",
    "        Phi: State transition matrix\n",
    "        \n",
    "        Lambda: Eigenvalues of Atilde\n",
    "        \n",
    "        b: Amplitude of the modes\n",
    "    '''\n",
    "    \n",
    "    U,Sigma,VT = np.linalg.svd(X,full_matrices=0) # Step 1\n",
    "    Ur = U[:,:r]\n",
    "    Sigmar = np.diag(Sigma[:r])\n",
    "    VTr = VT[:r,:]\n",
    "    \n",
    "    Atilde = np.linalg.solve(Sigmar.T,(Ur.T @ Xprime @ VTr.T).T).T # Step 2\n",
    "    \n",
    "    Lambda, W = np.linalg.eig(Atilde) # Step 3\n",
    "    Lambda = np.diag(Lambda)\n",
    "    \n",
    "    Phi = Xprime @ np.linalg.solve(Sigmar.T,VTr).T @ W # Step 4\n",
    "    alpha1 = Sigmar @ VTr[:,0]\n",
    "    b = np.linalg.solve(W @ Lambda,alpha1)\n",
    "    \n",
    "    return Phi, Lambda, b"
   ]
  },
  {
   "cell_type": "code",
   "execution_count": 191,
   "metadata": {},
   "outputs": [
    {
     "name": "stdout",
     "output_type": "stream",
     "text": [
      "(1000, 6999)\n"
     ]
    },
    {
     "data": {
      "image/png": "[encoded data removed]",
      "text/plain": [
       "<Figure size 432x288 with 1 Axes>"
      ]
     },
     "metadata": {},
     "output_type": "display_data"
    }
   ],
   "source": [
    "# time delay embedding\n",
    "\n",
    "## Eigen-time delay coordinates\n",
    "stackmax = 1000 # Number of shift-stacked rows\n",
    "r = 60  # rank of HAVOK model\n",
    "num_states = 1\n",
    "H = np.zeros((stackmax,X.shape[0]-stackmax))\n",
    "\n",
    "for k in range(0,stackmax,1):\n",
    "    H[k,:] = X[k:-(stackmax-k)]\n",
    "    \n",
    "U,S,VT = np.linalg.svd(H,full_matrices=0)\n",
    "V = VT.T\n",
    "\n",
    "S = S[:r]\n",
    "\n",
    "plt.plot(S/np.sum(S),'o')\n",
    "plt.title('Singular Value Spectrum of Hankel Matrix')\n",
    "plt.ylabel('Singular Value')\n",
    "plt.xlabel('Index of Singular Value')\n",
    "print(H.shape)\n"
   ]
  },
  {
   "cell_type": "code",
   "execution_count": 192,
   "metadata": {},
   "outputs": [
    {
     "name": "stdout",
     "output_type": "stream",
     "text": [
      "[0 1]\n",
      "(1000, 6999)\n"
     ]
    }
   ],
   "source": [
    "latent_vars = np.where(S>1)[0]\n",
    "print(latent_vars)\n",
    "print(H.shape)"
   ]
  },
  {
   "cell_type": "code",
   "execution_count": 193,
   "metadata": {},
   "outputs": [
    {
     "data": {
      "text/plain": [
       "array([5.47305340e+01, 1.36447510e+00, 2.85942868e-02, 4.75889874e-04,\n",
       "       8.61016588e-05, 8.46821670e-06, 3.79596391e-06, 1.61968786e-06,\n",
       "       8.87743260e-07, 4.93898097e-07, 3.08894062e-07, 1.96940155e-07,\n",
       "       1.34295381e-07, 9.31068479e-08, 6.74994732e-08, 4.95944290e-08,\n",
       "       3.75839303e-08, 2.87944426e-08, 2.25851403e-08, 1.78738004e-08,\n",
       "       1.43975942e-08, 1.16848559e-08, 9.62097663e-09, 7.97202762e-09,\n",
       "       6.68127690e-09, 5.63035023e-09, 4.79086722e-09, 4.09592402e-09,\n",
       "       3.52966374e-09, 3.05442944e-09, 2.66156806e-09, 2.32768579e-09,\n",
       "       2.04775467e-09, 1.80729318e-09, 1.60348981e-09, 1.42664082e-09,\n",
       "       1.27525877e-09, 1.14273973e-09, 1.02831925e-09, 9.27312665e-10,\n",
       "       8.39495748e-10, 7.61405739e-10, 6.93003073e-10, 6.31760450e-10,\n",
       "       5.77846602e-10, 5.29292222e-10, 4.86243564e-10, 4.47271806e-10,\n",
       "       4.12580961e-10, 3.81037438e-10, 3.52757008e-10, 3.26948817e-10,\n",
       "       3.03727455e-10, 2.82471254e-10, 2.63206908e-10, 2.45531413e-10,\n",
       "       2.29458610e-10, 2.14679747e-10, 2.01148168e-10, 1.88685374e-10])"
      ]
     },
     "execution_count": 193,
     "metadata": {},
     "output_type": "execute_result"
    }
   ],
   "source": [
    "S"
   ]
  },
  {
   "cell_type": "code",
   "execution_count": 206,
   "metadata": {},
   "outputs": [
    {
     "name": "stdout",
     "output_type": "stream",
     "text": [
      "(1000, 6998) (1000, 6998)\n",
      "Phi = [[ 0.00561017-0.03056938j  0.00561017+0.03056938j -0.0278876 -0.01491667j\n",
      "  ...  0.02430679+0.j         -0.03025577+0.j\n",
      "   0.03512718+0.j        ]\n",
      " [ 0.00626604-0.03042859j  0.00626604+0.03042859j -0.02771587-0.0152415j\n",
      "  ...  0.02431867+0.j         -0.03025841+0.j\n",
      "   0.03511949+0.j        ]\n",
      " [ 0.00691248-0.0302785j   0.00691248+0.0302785j  -0.02754092-0.01556327j\n",
      "  ...  0.02433054+0.j         -0.03026105+0.j\n",
      "   0.03511181+0.j        ]\n",
      " ...\n",
      " [-0.01920729-0.02397432j -0.01920729+0.02397432j -0.0155115 +0.0275543j\n",
      "  ...  0.03955032+0.j         -0.03300954+0.j\n",
      "   0.02824207+0.j        ]\n",
      " [-0.01866751-0.02434605j -0.01866751+0.02434605j -0.01581518+0.02736334j\n",
      "  ...  0.03956964+0.j         -0.03301242+0.j\n",
      "   0.02823589+0.j        ]\n",
      " [-0.01811321-0.02471047j -0.01811321+0.02471047j -0.01611676+0.02716765j\n",
      "  ...  0.03958897+0.j         -0.03301531+0.j\n",
      "   0.02822971+0.j        ]] \n",
      "\n",
      "Lambda = [[0.99982164+0.01808317j 0.        +0.j         0.        +0.j\n",
      "  0.        +0.j         0.        +0.j         0.        +0.j\n",
      "  0.        +0.j         0.        +0.j         0.        +0.j\n",
      "  0.        +0.j        ]\n",
      " [0.        +0.j         0.99982164-0.01808317j 0.        +0.j\n",
      "  0.        +0.j         0.        +0.j         0.        +0.j\n",
      "  0.        +0.j         0.        +0.j         0.        +0.j\n",
      "  0.        +0.j        ]\n",
      " [0.        +0.j         0.        +0.j         0.99993784+0.01105157j\n",
      "  0.        +0.j         0.        +0.j         0.        +0.j\n",
      "  0.        +0.j         0.        +0.j         0.        +0.j\n",
      "  0.        +0.j        ]\n",
      " [0.        +0.j         0.        +0.j         0.        +0.j\n",
      "  0.99993784-0.01105157j 0.        +0.j         0.        +0.j\n",
      "  0.        +0.j         0.        +0.j         0.        +0.j\n",
      "  0.        +0.j        ]\n",
      " [0.        +0.j         0.        +0.j         0.        +0.j\n",
      "  0.        +0.j         1.00120023+0.00259433j 0.        +0.j\n",
      "  0.        +0.j         0.        +0.j         0.        +0.j\n",
      "  0.        +0.j        ]\n",
      " [0.        +0.j         0.        +0.j         0.        +0.j\n",
      "  0.        +0.j         0.        +0.j         1.00120023-0.00259433j\n",
      "  0.        +0.j         0.        +0.j         0.        +0.j\n",
      "  0.        +0.j        ]\n",
      " [0.        +0.j         0.        +0.j         0.        +0.j\n",
      "  0.        +0.j         0.        +0.j         0.        +0.j\n",
      "  1.00152717+0.j         0.        +0.j         0.        +0.j\n",
      "  0.        +0.j        ]\n",
      " [0.        +0.j         0.        +0.j         0.        +0.j\n",
      "  0.        +0.j         0.        +0.j         0.        +0.j\n",
      "  0.        +0.j         1.0004884 +0.j         0.        +0.j\n",
      "  0.        +0.j        ]\n",
      " [0.        +0.j         0.        +0.j         0.        +0.j\n",
      "  0.        +0.j         0.        +0.j         0.        +0.j\n",
      "  0.        +0.j         0.        +0.j         1.00008738+0.j\n",
      "  0.        +0.j        ]\n",
      " [0.        +0.j         0.        +0.j         0.        +0.j\n",
      "  0.        +0.j         0.        +0.j         0.        +0.j\n",
      "  0.        +0.j         0.        +0.j         0.        +0.j\n",
      "  0.99978121+0.j        ]] \n",
      "\n",
      "b =  [-1.78112922e-10+1.74418786e-09j -1.78112922e-10-1.74418786e-09j\n",
      "  5.04952179e-09-6.74237313e-09j  5.04952179e-09+6.74237313e-09j\n",
      " -3.04353452e-06+8.75151131e-07j -3.04353452e-06-8.75151131e-07j\n",
      " -5.52239799e-07-4.07918185e-17j  2.02189447e-02+2.10084411e-16j\n",
      " -3.06616596e-01+2.56660172e-16j  6.59495418e-03+8.92001896e-17j] \n",
      "\n",
      "Omega = [-1.48455681e-03+1.8084427j  -1.48455681e-03-1.8084427j\n",
      " -1.09149740e-04+1.10518103j -1.09149740e-04-1.10518103j\n",
      "  1.20286320e-01+0.25912106j  1.20286320e-01-0.25912106j\n",
      "  1.52600020e-01+0.j          4.88282833e-02+0.j\n",
      "  8.73718589e-03+0.j         -2.18818767e-02+0.j        ]\n"
     ]
    }
   ],
   "source": [
    "# create the X and Xprime matrices of the dimelayed embeddings to pass to the DMD function\n",
    "X_delay_prime = H[:,1:]\n",
    "X_delay = H[:,:-1]\n",
    "\n",
    "print(X_delay.shape,X_delay_prime.shape)\n",
    "# obtain Time Delayed DMD model\n",
    "r = 10 # enter the value of r\n",
    "Phi_delay, Lambda_delay, b_delay = DMD(X_delay,X_delay_prime,r)\n",
    "omega_delay = np.log(np.diag(Lambda_delay))/dt\n",
    "\n",
    "print('Phi =',Phi_delay,'\\n')\n",
    "print('Lambda =',Lambda_delay,'\\n')\n",
    "print('b = ',b_delay,'\\n')\n",
    "print('Omega =',omega_delay)"
   ]
  },
  {
   "cell_type": "code",
   "execution_count": 207,
   "metadata": {},
   "outputs": [
    {
     "name": "stdout",
     "output_type": "stream",
     "text": [
      "(10, 6998) (1000, 10) (1000, 6998)\n"
     ]
    },
    {
     "name": "stderr",
     "output_type": "stream",
     "text": [
      "/usr/local/lib/python3.5/dist-packages/ipykernel_launcher.py:6: ComplexWarning: Casting complex values to real discards the imaginary part\n",
      "  \n"
     ]
    }
   ],
   "source": [
    "# reconstruct dynamics with DMD as a sanity check\n",
    "\n",
    "time_dynamics_delay = np.zeros([r,X_delay.shape[1]])\n",
    "\n",
    "for i in range(time_dynamics_delay.shape[1]):\n",
    "    time_dynamics_delay[:,i] = b_delay*np.exp(omega_delay*t_vec[i])\n",
    "    \n",
    "X_dmd_delay = np.dot(Phi_delay,time_dynamics_delay)\n",
    "\n",
    "print(time_dynamics_delay.shape,Phi_delay.shape,X_dmd_delay.shape)"
   ]
  },
  {
   "cell_type": "code",
   "execution_count": 208,
   "metadata": {},
   "outputs": [
    {
     "data": {
      "text/plain": [
       "6998"
      ]
     },
     "execution_count": 208,
     "metadata": {},
     "output_type": "execute_result"
    }
   ],
   "source": [
    "time_dynamics_delay.shape[1]"
   ]
  },
  {
   "cell_type": "code",
   "execution_count": 209,
   "metadata": {},
   "outputs": [
    {
     "name": "stderr",
     "output_type": "stream",
     "text": [
      "/home/ashwin/.local/lib/python3.5/site-packages/numpy/core/numeric.py:501: ComplexWarning: Casting complex values to real discards the imaginary part\n",
      "  return array(a, dtype, copy=False, order=order)\n"
     ]
    },
    {
     "name": "stdout",
     "output_type": "stream",
     "text": [
      "\n"
     ]
    },
    {
     "data": {
      "image/png": "[encoded data removed]",
      "text/plain": [
       "<Figure size 432x288 with 1 Axes>"
      ]
     },
     "metadata": {},
     "output_type": "display_data"
    }
   ],
   "source": [
    "X_dmd_delay_model = X_dmd_delay[:,:]\n",
    "\n",
    "# plot to compare the DMD modes to the actual data\n",
    "end_delay = X_dmd_delay_model.shape[1]\n",
    "t_delay = t[:end_delay]\n",
    "plt.plot(t_delay,X[:end_delay],label='x')\n",
    "plt.plot(t_delay,X_dmd_delay_model[0,:],label='y')\n",
    "plt.legend()\n",
    "plt.title(\"Checking DMD Fit on the Time Delay Embeddings\")\n",
    "plt.xlabel('Time')\n",
    "plt.ylabel('State')\n",
    "\n",
    "print()"
   ]
  },
  {
   "cell_type": "markdown",
   "metadata": {},
   "source": [
    "## Compare against the Linearized System"
   ]
  },
  {
   "cell_type": "code",
   "execution_count": 182,
   "metadata": {},
   "outputs": [],
   "source": [
    "def linear_system(t,Y,params):\n",
    "\n",
    "    mu = params[0]\n",
    "    lam = params[1]\n",
    "    \n",
    "    dy1dt = mu*Y[0]\n",
    "    dy2dt = lam*Y[1]-lam*Y[2]\n",
    "    dy3dt = 2*mu*Y[2]\n",
    "    \n",
    "    dYdt = np.asarray([dy1dt,dy2dt,dy3dt])\n",
    "    \n",
    "    return dYdt\n",
    "    "
   ]
  },
  {
   "cell_type": "code",
   "execution_count": 183,
   "metadata": {},
   "outputs": [],
   "source": [
    "def intrinsic_coords(x):\n",
    "    y0 = x[0]\n",
    "    y1 = x[1]\n",
    "    y2 = x[0]**2\n",
    "    \n",
    "    y = np.asarray([y0,y1,y2])\n",
    "    \n",
    "    return y\n"
   ]
  },
  {
   "cell_type": "code",
   "execution_count": null,
   "metadata": {},
   "outputs": [],
   "source": [
    "initial_state_linear = intrinsic_coords(initial_state)\n",
    "\n",
    "states_lin = solve_ivp(linear_system, tspan, initial_state_linear, t_eval = t_delay, args = (params,))\n",
    "\n",
    "t_lin = states_lin.t\n",
    "x_lin = states_lin.y"
   ]
  },
  {
   "cell_type": "code",
   "execution_count": null,
   "metadata": {},
   "outputs": [],
   "source": [
    "# plot to compare the DMD modes to the actual data\n",
    "plt.plot(t_delay,X_dmd_delay_model[0,:],label='y_1')\n",
    "plt.plot(t_delay,X_dmd_delay_model[1,:],label='y_2')\n",
    "plt.plot(t_delay,X_dmd_delay_model[2,:],label='y_3')\n",
    "plt.legend()\n",
    "plt.title(\"Checking DMD Fit on the Time Delay Embeddings\")\n",
    "plt.xlabel('Time')\n",
    "plt.ylabel('State')"
   ]
  },
  {
   "cell_type": "code",
   "execution_count": null,
   "metadata": {},
   "outputs": [],
   "source": [
    "# plot to compare the DMD modes to the actual data\n",
    "plt.plot(t_lin,x_lin[0,:],label='y_1_ode')\n",
    "plt.plot(t_lin,x_lin[1,:],label='y_2_ode')\n",
    "plt.plot(t_lin,x_lin[2,:],label='y_3_ode')\n",
    "plt.legend()\n",
    "plt.title(\"ODE Evolution of Time Delay Embeddings\")\n",
    "plt.xlabel('Time')\n",
    "plt.ylabel('State')"
   ]
  },
  {
   "cell_type": "code",
   "execution_count": null,
   "metadata": {},
   "outputs": [],
   "source": [
    "# plot to compare the DMD modes to the actual data\n",
    "plt.plot(t_delay,X_dmd_delay_model[0,:],label='y_1')\n",
    "plt.plot(t_lin,x_lin[0,:],label='y_1_ode')\n",
    "plt.legend()\n",
    "plt.title(\"Checking DMD Fit on the Time Delay Embeddings\")\n",
    "plt.xlabel('Time')\n",
    "plt.ylabel('State')\n",
    "plt.show()\n",
    "\n",
    "plt.plot(t_delay,X_dmd_delay_model[1,:],label='y_2')\n",
    "plt.plot(t_lin,x_lin[1,:],label='y_2_ode')\n",
    "plt.legend()\n",
    "plt.title(\"Checking DMD Fit on the Time Delay Embeddings\")\n",
    "plt.xlabel('Time')\n",
    "plt.ylabel('State')\n",
    "plt.show()\n",
    "\n",
    "plt.plot(t_delay,X_dmd_delay_model[2,:],label='y_3')\n",
    "plt.plot(t_lin,x_lin[2,:],label='y_3_ode')\n",
    "plt.legend()\n",
    "plt.title(\"Checking DMD Fit on the Time Delay Embeddings\")\n",
    "plt.xlabel('Time')\n",
    "plt.ylabel('State')\n",
    "plt.show()"
   ]
  }
 ],
 "metadata": {
  "kernelspec": {
   "display_name": "Python 3",
   "language": "python",
   "name": "python3"
  },
  "language_info": {
   "codemirror_mode": {
    "name": "ipython",
    "version": 3
   },
   "file_extension": ".py",
   "mimetype": "text/x-python",
   "name": "python",
   "nbconvert_exporter": "python",
   "pygments_lexer": "ipython3",
   "version": "3.5.2"
  }
 },
 "nbformat": 4,
 "nbformat_minor": 2
}
