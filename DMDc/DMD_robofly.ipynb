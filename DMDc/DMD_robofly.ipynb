{
 "cells": [
  {
   "cell_type": "code",
   "execution_count": 28,
   "metadata": {},
   "outputs": [],
   "source": [
    "import numpy as np\n",
    "import h5py\n",
    "import matplotlib.pyplot as plt\n",
    "from matplotlib import rcParams\n",
    "import os\n",
    "import scipy.io\n",
    "import pandas as pd\n",
    "import numpy as np\n",
    "from scipy.io import loadmat\n",
    "from pathlib import Path\n",
    "import math\n",
    "from scipy.misc import derivative\n",
    "#from visualization import TrajectcoryVisualize\n",
    "\n",
    "\n",
    "rcParams.update({'font.size': 18})"
   ]
  },
  {
   "cell_type": "code",
   "execution_count": 29,
   "metadata": {},
   "outputs": [],
   "source": [
    "class ReadMat:\n",
    "    def __init__(self,filename):\n",
    "        self.input_file = filename\n",
    "        self.raw_data=loadmat(self.input_file)['yout']\n",
    "\n",
    "\n",
    "    def positions(self):\n",
    "        return np.array([self.raw_data[:,10], self.raw_data[:,11], self.raw_data[:,12]])\n",
    "\n",
    "    def angles(self):\n",
    "        q0 = np.array(self.raw_data[:,13])\n",
    "        q1 = np.array(self.raw_data[:,14])\n",
    "        q2 = np.array(self.raw_data[:,15])\n",
    "        q3 = np.array(self.raw_data[:,16])\n",
    "        roll= np.zeros((q0.shape))\n",
    "        pitch = np.zeros((q0.shape))\n",
    "        yaw = np.zeros((q0.shape))\n",
    "        a=0\n",
    "        for i,j,k,l in zip(q0,q1,q2,q3):\n",
    "\n",
    "            roll[a]= math.atan2 ( 2*(i*j + k*l), 1-2*(j**2 + k**2))\n",
    "            val= 2 * (i * k - l * j)\n",
    "            if abs(val)>=1:\n",
    "                pitch[a]= math.copysign(math.pi/2,val)\n",
    "            else:\n",
    "                pitch[a] = math.asin(val)\n",
    "            yaw[a] = math.atan2 (2*(i*l + j*k ),1-2*(k**2+l**2))\n",
    "            a+=1\n",
    "        return roll, pitch, yaw\n",
    "    \n",
    "    def pos_vel(self,xpos,ypos,zpos):\n",
    "        xvel = derivative(xpos)\n",
    "        yvel = derivative(ypos)\n",
    "        zvel = derivative(zpos)\n",
    "        print(xvel[0:200])\n",
    "        return xvel,yvel,zvel"
   ]
  },
  {
   "cell_type": "code",
   "execution_count": 31,
   "metadata": {},
   "outputs": [
    {
     "name": "stdout",
     "output_type": "stream",
     "text": [
      "../Raw_data/8_8_2019_to_8_12_2019/2019-08-08-19-16-02_5sec.mat\n"
     ]
    },
    {
     "ename": "TypeError",
     "evalue": "derivative() missing 1 required positional argument: 'x0'",
     "output_type": "error",
     "traceback": [
      "\u001b[0;31m---------------------------------------------------------------------------\u001b[0m",
      "\u001b[0;31mTypeError\u001b[0m                                 Traceback (most recent call last)",
      "\u001b[0;32m<ipython-input-31-9da5c726cb96>\u001b[0m in \u001b[0;36m<module>\u001b[0;34m()\u001b[0m\n\u001b[1;32m     10\u001b[0m \u001b[0mroll\u001b[0m\u001b[0;34m,\u001b[0m \u001b[0mpitch\u001b[0m\u001b[0;34m,\u001b[0m \u001b[0myaw\u001b[0m \u001b[0;34m=\u001b[0m \u001b[0mobject\u001b[0m\u001b[0;34m.\u001b[0m\u001b[0mangles\u001b[0m\u001b[0;34m(\u001b[0m\u001b[0;34m)\u001b[0m\u001b[0;34m\u001b[0m\u001b[0m\n\u001b[1;32m     11\u001b[0m \u001b[0mxpos\u001b[0m\u001b[0;34m,\u001b[0m \u001b[0mypos\u001b[0m\u001b[0;34m,\u001b[0m \u001b[0mzpos\u001b[0m\u001b[0;34m=\u001b[0m \u001b[0mobject\u001b[0m\u001b[0;34m.\u001b[0m\u001b[0mpositions\u001b[0m\u001b[0;34m(\u001b[0m\u001b[0;34m)\u001b[0m\u001b[0;34m\u001b[0m\u001b[0m\n\u001b[0;32m---> 12\u001b[0;31m \u001b[0mxvel\u001b[0m\u001b[0;34m,\u001b[0m \u001b[0myvel\u001b[0m\u001b[0;34m,\u001b[0m \u001b[0mzvel\u001b[0m \u001b[0;34m=\u001b[0m \u001b[0mobject\u001b[0m\u001b[0;34m.\u001b[0m\u001b[0mpos_vel\u001b[0m\u001b[0;34m(\u001b[0m\u001b[0mxpos\u001b[0m\u001b[0;34m,\u001b[0m \u001b[0mypos\u001b[0m\u001b[0;34m,\u001b[0m \u001b[0mzpos\u001b[0m\u001b[0;34m)\u001b[0m\u001b[0;34m\u001b[0m\u001b[0m\n\u001b[0m",
      "\u001b[0;32m<ipython-input-29-c4f1bad76799>\u001b[0m in \u001b[0;36mpos_vel\u001b[0;34m(self, xpos, ypos, zpos)\u001b[0m\n\u001b[1;32m     30\u001b[0m \u001b[0;34m\u001b[0m\u001b[0m\n\u001b[1;32m     31\u001b[0m     \u001b[0;32mdef\u001b[0m \u001b[0mpos_vel\u001b[0m\u001b[0;34m(\u001b[0m\u001b[0mself\u001b[0m\u001b[0;34m,\u001b[0m\u001b[0mxpos\u001b[0m\u001b[0;34m,\u001b[0m\u001b[0mypos\u001b[0m\u001b[0;34m,\u001b[0m\u001b[0mzpos\u001b[0m\u001b[0;34m)\u001b[0m\u001b[0;34m:\u001b[0m\u001b[0;34m\u001b[0m\u001b[0m\n\u001b[0;32m---> 32\u001b[0;31m         \u001b[0mxvel\u001b[0m\u001b[0;34m=\u001b[0m \u001b[0mderivative\u001b[0m\u001b[0;34m(\u001b[0m\u001b[0mxpos\u001b[0m\u001b[0;34m)\u001b[0m\u001b[0;34m\u001b[0m\u001b[0m\n\u001b[0m\u001b[1;32m     33\u001b[0m         \u001b[0myvel\u001b[0m\u001b[0;34m=\u001b[0m \u001b[0mderivative\u001b[0m\u001b[0;34m(\u001b[0m\u001b[0mypos\u001b[0m\u001b[0;34m)\u001b[0m\u001b[0;34m\u001b[0m\u001b[0m\n\u001b[1;32m     34\u001b[0m         \u001b[0mzvel\u001b[0m\u001b[0;34m=\u001b[0m \u001b[0mderivative\u001b[0m\u001b[0;34m(\u001b[0m\u001b[0mzpos\u001b[0m\u001b[0;34m)\u001b[0m\u001b[0;34m\u001b[0m\u001b[0m\n",
      "\u001b[0;31mTypeError\u001b[0m: derivative() missing 1 required positional argument: 'x0'"
     ]
    }
   ],
   "source": [
    "data_path = '../Raw_data/8_8_2019_to_8_12_2019/'\n",
    "file1 = '2019-08-08-19-16-02_5sec.mat'\n",
    "file2 = '2019-08-09-12-49-56_7sec.mat'\n",
    "file3 = '2019-08-09-13-01-42_10sec.mat'\n",
    "\n",
    "file_to_open = data_path+file1\n",
    "print(file_to_open)\n",
    "\n",
    "object = ReadMat(file_to_open)\n",
    "roll, pitch, yaw = object.angles()\n",
    "xpos, ypos, zpos= object.positions()\n",
    "xvel, yvel, zvel = object.pos_vel(xpos, ypos, zpos)"
   ]
  },
  {
   "cell_type": "code",
   "execution_count": 12,
   "metadata": {},
   "outputs": [],
   "source": []
  },
  {
   "cell_type": "code",
   "execution_count": null,
   "metadata": {},
   "outputs": [],
   "source": []
  }
 ],
 "metadata": {
  "kernelspec": {
   "display_name": "Python 3",
   "language": "python",
   "name": "python3"
  },
  "language_info": {
   "codemirror_mode": {
    "name": "ipython",
    "version": 3
   },
   "file_extension": ".py",
   "mimetype": "text/x-python",
   "name": "python",
   "nbconvert_exporter": "python",
   "pygments_lexer": "ipython3",
   "version": "3.5.2"
  }
 },
 "nbformat": 4,
 "nbformat_minor": 2
}
