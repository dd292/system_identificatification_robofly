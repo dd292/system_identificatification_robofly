{
 "cells": [
  {
   "cell_type": "code",
   "execution_count": 1,
   "metadata": {},
   "outputs": [],
   "source": [
    "import numpy as np\n",
    "import h5py\n",
    "import matplotlib.pyplot as plt\n",
    "from matplotlib import rcParams\n",
    "import os\n",
    "import scipy.io\n",
    "import pandas as pd\n",
    "import numpy as np\n",
    "from scipy.io import loadmat\n",
    "from pathlib import Path\n",
    "import math\n",
    "from scipy.misc import derivative\n",
    "from scipy import signal\n",
    "#from visualization import TrajectcoryVisualize\n",
    "\n",
    "\n",
    "rcParams.update({'font.size': 18})"
   ]
  },
  {
   "cell_type": "code",
   "execution_count": 2,
   "metadata": {},
   "outputs": [],
   "source": [
    "class ReadMat:\n",
    "    def __init__(self,filename):\n",
    "        self.input_file = filename\n",
    "        self.all_data= loadmat(self.input_file)\n",
    "\n",
    "        self.raw_data= self.all_data['yout']\n",
    "        self.params= self.all_data['tgParams']\n",
    "\n",
    "    def positions(self):\n",
    "        return np.array([self.raw_data[:,10], self.raw_data[:,11], self.raw_data[:,12]])\n",
    "\n",
    "    def angles(self):\n",
    "        q0 = np.array(self.raw_data[:,13])\n",
    "        q1 = np.array(self.raw_data[:,14])\n",
    "        q2 = np.array(self.raw_data[:,15])\n",
    "        q3 = np.array(self.raw_data[:,16])\n",
    "        roll= np.zeros((q0.shape))\n",
    "        pitch = np.zeros((q0.shape))\n",
    "        yaw = np.zeros((q0.shape))\n",
    "        a=0\n",
    "        for i,j,k,l in zip(q0,q1,q2,q3):\n",
    "\n",
    "            roll[a]= math.atan2 ( 2*(i*j + k*l), 1-2*(j**2 + k**2))\n",
    "            val= 2 * (i * k - l * j)\n",
    "            if abs(val)>=1:\n",
    "                pitch[a]= math.copysign(math.pi/2,val)\n",
    "            else:\n",
    "                pitch[a] = math.asin(val)\n",
    "            yaw[a] = math.atan2 (2*(i*l + j*k ),1-2*(k**2+l**2))\n",
    "            a+=1\n",
    "        return roll, pitch, yaw\n",
    "    \n",
    "    def vel(self,xpos,ypos,zpos):\n",
    "        sampling_rate= xpos.shape[0]\n",
    "        cut_off_frequency= 240/10*2*np.pi/(sampling_rate/2) #0.054 HZ\n",
    "        b,a= signal.butter (3, cut_off_frequency) #third order butterworth filter with cutoff frequency given above\n",
    "        filtered_xpos =signal.filtfilt(b,a,xpos)\n",
    "        filtered_ypos =signal.filtfilt(b,a,ypos)\n",
    "        filtered_zpos =signal.filtfilt(b,a,zpos)\n",
    "        xvel= np.gradient(filtered_xpos)\n",
    "        yvel= np.gradient(filtered_ypos)\n",
    "        zvel= np.gradient(filtered_zpos)\n",
    "        omega1= self.raw_data[:,17]\n",
    "        omega2= self.raw_data[:,18]\n",
    "        omega3= self.raw_data[:,19]\n",
    "\n",
    "        return xvel, yvel, zvel, omega1, omega2, omega3\n",
    "\n",
    "    def get_states(self):\n",
    "        roll, pitch, yaw = self.angles()\n",
    "        xpos, ypos, zpos= self.positions()\n",
    "        xvel,yvel,zvel, omega1,omega2,omega3 = self.vel(xpos, ypos, zpos)\n",
    "        return np.array([xpos, ypos, zpos, xvel,yvel,zvel, roll, pitch, yaw, omega1,omega2,omega3])\n",
    "\n",
    "    def get_actions(self):\n",
    "        initial_amplitude= (self.params[0][0][5][0][0][2]).item()\n",
    "        Z_param= self.raw_data[:,6]-initial_amplitude\n",
    "        roll_param= self.raw_data[:,7]\n",
    "        pitch_param= self.raw_data[:,8]\n",
    "        return np.array([Z_param, roll_param, pitch_param])\n",
    "    \n",
    "    def sampled_mocap_data(self, samples_steps):\n",
    "        states_trajectory= self.get_states() # number of state X number of training examples\n",
    "        action_trajectory= self.get_actions() # number of actions X number of training examples\n",
    "        new_action_trajectory= np.zeros((action_trajectory.shape[0],int(action_trajectory.shape[1]/samples_steps)))\n",
    "        new_trajectory= np.zeros((states_trajectory.shape[0],int(states_trajectory.shape[1]/samples_steps)))\n",
    "        for i in range(int(states_trajectory.shape[1]/samples_steps)):\n",
    "            new_trajectory[:,i] =np.sum(states_trajectory[:,i*samples_steps:(i+1)*samples_steps],axis=1)/samples_steps\n",
    "            new_action_trajectory[:,i] =np.sum(action_trajectory[:,i*samples_steps:(i+1)*samples_steps],axis=1)/samples_steps\n",
    "\n",
    "        return new_trajectory,new_action_trajectory"
   ]
  },
  {
   "cell_type": "code",
   "execution_count": 4,
   "metadata": {},
   "outputs": [],
   "source": [
    "def DMD(X,Xprime,r):\n",
    "    ''' This function computes the linear approximation to a nonlinear dynamical system whose state \n",
    "    recordings are passed in.\n",
    "    \n",
    "    Arguments:\n",
    "    \n",
    "    Input:\n",
    "    \n",
    "        X: The states of the system\n",
    "        \n",
    "        Xprime: the rate of change of the states obtained form finite differencing or direct measurement\n",
    "        \n",
    "        r: the rank of the low-rank approximation\n",
    "        \n",
    "    Output:\n",
    "    \n",
    "        Phi: State transition matrix\n",
    "        \n",
    "        Lambda: Eigenvalues of Atilde\n",
    "        \n",
    "        b: Amplitude of the modes\n",
    "    '''\n",
    "    # obtain singular value decompositon matrices truncated to order r\n",
    "    U,Sigma,VT = np.linalg.svd(X,full_matrices=0) # Step 1\n",
    "    Ur = U[:,:r]\n",
    "    Sigmar = np.diag(Sigma[:r])\n",
    "    VTr = VT[:r,:]\n",
    "    \n",
    "    # Obtain the reduced order system matrix,i.e, A matrix \n",
    "    Atilde = np.linalg.solve(Sigmar.T,(Ur.T @ Xprime @ VTr.T).T).T # Step 2\n",
    "    \n",
    "    # Obtain the eiegnvales and eigenvectors of the system matrix\n",
    "    Lambda, W = np.linalg.eig(Atilde) # Step 3\n",
    "    Lambda = np.diag(Lambda)\n",
    "    \n",
    "    # obtain the state transition matrix for the discrete time linear approximation and also 'b' which helps \n",
    "    # reconstruct time dynamics\n",
    "    Phi = Xprime @ np.linalg.solve(Sigmar.T,VTr).T @ W # Step 4\n",
    "    alpha1 = Sigmar @ VTr[:,0]\n",
    "    b = np.linalg.solve(W @ Lambda,alpha1)\n",
    "    \n",
    "    return Phi, Lambda, b"
   ]
  },
  {
   "cell_type": "code",
   "execution_count": 54,
   "metadata": {},
   "outputs": [],
   "source": [
    "def DMDc(X,Xprime,Upsilon,r,B = np.zeros((1,1))):\n",
    "    ''' This function computes the linear approximation to a controlled nonlinear dynamical system whose state \n",
    "    recordings and control inputs are passed in.\n",
    "    \n",
    "    Arguments:\n",
    "    \n",
    "    Input:\n",
    "    \n",
    "        X: The states of the system\n",
    "        \n",
    "        Xprime: the rate of change of the states obtained form finite differencing or direct measurement\n",
    "        \n",
    "        Upsilon: The control action data\n",
    "        \n",
    "        B: The matrix that dicstates how the control actions affect the system, if available\n",
    "        \n",
    "        r: the rank of the low-rank approximation\n",
    "        \n",
    "    Output:\n",
    "    \n",
    "        Phi: State transition matrix\n",
    "        \n",
    "        Lambda: Eigenvalues of Atilde\n",
    "        \n",
    "        b: Amplitude of the modes\n",
    "    '''\n",
    "    # if B is unkown\n",
    "    if((B == np.zeros((1,1))).all()):\n",
    "        print(\"not done yet\")\n",
    "        return 0\n",
    "        \n",
    "    # if B is known\n",
    "    else : \n",
    "        Xprime = Xprime-B@Upsilon\n",
    "        return DMD(X,Xprime,r)"
   ]
  },
  {
   "cell_type": "code",
   "execution_count": 55,
   "metadata": {},
   "outputs": [],
   "source": [
    "data_path = '../Raw_data/8_8_2019 to 8_12_2019/'\n",
    "file1 = '2019-08-08-19-16-02_5sec.mat'\n",
    "file2 = '2019-08-09-12-49-56_7sec.mat'\n",
    "file3 = '2019-08-09-13-01-42_10sec.mat'\n",
    "\n",
    "file_to_open1 = data_path+file1\n",
    "file_to_open2 = data_path+file2\n",
    "file_to_open3 = data_path+file3\n",
    "\n",
    "object1 = ReadMat(file_to_open1)\n",
    "\n",
    "sampling = 100\n",
    "# dataset 1\n",
    "state_traj1, action_traj1 = object1.sampled_mocap_data(sampling)\n",
    "state_traj1 = state_traj1[:,:500]\n",
    "action_traj1 = action_traj1[:,:500]\n",
    "\n",
    "object2 = ReadMat(file_to_open2)\n",
    "# dataset 2\n",
    "state_traj2, action_traj2 = object2.sampled_mocap_data(sampling)\n",
    "state_traj2 = state_traj2[:,:700]\n",
    "action_traj2 = action_traj2[:,:700]\n",
    "\n",
    "object3 = ReadMat(file_to_open3)\n",
    "# dataset 3\n",
    "state_traj3, action_traj3 = object3.sampled_mocap_data(sampling)\n",
    "state_traj3 = state_traj3[:,:1000]\n",
    "action_traj3 = action_traj3[:,:1000]"
   ]
  },
  {
   "cell_type": "markdown",
   "metadata": {},
   "source": [
    "## Given \n",
    "$$\\dot{x} = f(x,u)$$ \n",
    "## or \n",
    "$$\\dot{x} = f(x) + g(x)u$$ \n",
    "## We need to find \n",
    "$$\\dot{x} = Ax+Bu$$\n",
    "\n",
    "$x = \\begin{bmatrix} x \\\\\n",
    "y \\\\\n",
    "z \\\\\n",
    "\\dot{x} \\\\\n",
    "\\dot{y} \\\\\n",
    "\\dot{z} \\\\\n",
    "\\theta_x \\\\\n",
    "\\theta_y \\\\\n",
    "\\theta_z \\\\\n",
    "\\omega_x \\\\\n",
    "\\omega_y \\\\\n",
    "\\omega_z \\\\\n",
    "\\end{bmatrix}$\n",
    "&emsp;  &emsp; &emsp; \n",
    "$\\dot{x} = \\begin{bmatrix} \\dot{x} \\\\\n",
    "\\dot{y} \\\\\n",
    "\\dot{z} \\\\\n",
    "\\ddot{x} \\\\\n",
    "\\ddot{y} \\\\\n",
    "\\ddot{z} \\\\\n",
    "\\dot{\\theta}_x \\\\\n",
    "\\dot{\\theta}_y \\\\\n",
    "\\dot{\\theta}_z \\\\\n",
    "\\dot{\\omega}_x \\\\\n",
    "\\dot{\\omega}_y \\\\\n",
    "\\dot{\\omega}_z \\\\\n",
    "\\end{bmatrix}$\n",
    "&emsp;  &emsp; &emsp;\n",
    "$A_{12 \\times 12} = ?$\n",
    "&emsp;  &emsp; &emsp;\n",
    "$B_{12 \\times 3} = \\begin{bmatrix}\n",
    "0 & 0 & 0\\\\\n",
    "0 & 0 & 0\\\\\n",
    "0 & 0 & 0\\\\\n",
    "0 & 0 & 0\\\\\n",
    "0 & 0 & 0\\\\\n",
    "1 & 0 & 0\\\\\n",
    "0 & 0 & 0\\\\\n",
    "0 & 0 & 0\\\\\n",
    "0 & 0 & 0\\\\\n",
    "0 & 1 & 0\\\\\n",
    "0 & 0 & 1\\\\\n",
    "0 & 0 & 0\\\\\n",
    "\\end{bmatrix}$\n",
    "&emsp;  &emsp; &emsp;\n",
    "$u = \\begin{bmatrix}\n",
    "u_{zaccel} \\\\\n",
    "u_{roll} \\\\\n",
    "u_{pitch}\n",
    "\\end{bmatrix}\n",
    "$\n",
    "\n"
   ]
  },
  {
   "cell_type": "markdown",
   "metadata": {},
   "source": [
    "## Assuming B is known"
   ]
  },
  {
   "cell_type": "code",
   "execution_count": 89,
   "metadata": {},
   "outputs": [],
   "source": [
    "X = state_traj3[:,0:-1]\n",
    "Xprime = state_traj3[:,1:]\n",
    "\n",
    "Upsilon = action_traj3[:,0:-1] \n",
    "\n",
    "Omega = np.vstack([X,Upsilon])\n",
    "\n",
    "# define the B matrix\n",
    "B_sys = np.zeros((12,3))\n",
    "B_sys[5,0]  = 1\n",
    "B_sys[9,1] = 1\n",
    "B_sys[10,2] = 1\n",
    "\n",
    "r = 12 # number of states\n",
    "dt = 0.01 # in seconds"
   ]
  },
  {
   "cell_type": "code",
   "execution_count": 90,
   "metadata": {},
   "outputs": [
    {
     "name": "stdout",
     "output_type": "stream",
     "text": [
      "[[0. 0. 0.]\n",
      " [0. 0. 0.]\n",
      " [0. 0. 0.]\n",
      " [0. 0. 0.]\n",
      " [0. 0. 0.]\n",
      " [1. 0. 0.]\n",
      " [0. 0. 0.]\n",
      " [0. 0. 0.]\n",
      " [0. 0. 0.]\n",
      " [0. 1. 0.]\n",
      " [0. 0. 1.]\n",
      " [0. 0. 0.]]\n"
     ]
    }
   ],
   "source": [
    "Phi, Lambda, b = DMDc(X,Xprime,Upsilon,r, B_sys)\n",
    "omega = np.log(np.diag(Lambda))/dt"
   ]
  },
  {
   "cell_type": "code",
   "execution_count": 98,
   "metadata": {},
   "outputs": [
    {
     "name": "stdout",
     "output_type": "stream",
     "text": [
      "(12, 999)\n"
     ]
    },
    {
     "name": "stderr",
     "output_type": "stream",
     "text": [
      "/usr/local/lib/python3.5/dist-packages/ipykernel_launcher.py:9: ComplexWarning: Casting complex values to real discards the imaginary part\n",
      "  if __name__ == '__main__':\n",
      "/usr/local/lib/python3.5/dist-packages/ipykernel_launcher.py:9: RuntimeWarning: overflow encountered in exp\n",
      "  if __name__ == '__main__':\n"
     ]
    }
   ],
   "source": [
    "# reconstruct dynamics with DMD as a sanity check\n",
    "start_time = 0\n",
    "end_time = X.shape[1]*dt\n",
    "time = np.arange(start_time,end_time,dt) # time vector\n",
    "\n",
    "time_dynamics = np.zeros([Phi.shape[1],len(time)])\n",
    "\n",
    "for i in range(time_dynamics.shape[1]):\n",
    "    time_dynamics[:,i] = b*np.exp(omega*time[i])\n",
    "    \n",
    "X_dmd = np.dot(Phi,time_dynamics)\n",
    "\n",
    "print(X_dmd.shape)"
   ]
  },
  {
   "cell_type": "code",
   "execution_count": 99,
   "metadata": {},
   "outputs": [
    {
     "name": "stderr",
     "output_type": "stream",
     "text": [
      "/home/ashwin/.local/lib/python3.5/site-packages/numpy/core/numeric.py:501: ComplexWarning: Casting complex values to real discards the imaginary part\n",
      "  return array(a, dtype, copy=False, order=order)\n"
     ]
    },
    {
     "data": {
      "text/plain": [
       "<matplotlib.legend.Legend at 0x7f0bb32049e8>"
      ]
     },
     "execution_count": 99,
     "metadata": {},
     "output_type": "execute_result"
    },
    {
     "data": {
      "image/png": "[encoded data removed]",
      "text/plain": [
       "<Figure size 432x288 with 1 Axes>"
      ]
     },
     "metadata": {},
     "output_type": "display_data"
    }
   ],
   "source": [
    "plt.plot(time,X_dmd[2,:],label='dmd')\n",
    "plt.plot(time,X[2,:],label='data')\n",
    "plt.legend()"
   ]
  },
  {
   "cell_type": "markdown",
   "metadata": {},
   "source": [
    "## Assuming B is unknown"
   ]
  },
  {
   "cell_type": "code",
   "execution_count": 83,
   "metadata": {},
   "outputs": [
    {
     "data": {
      "text/plain": [
       "(12, 999)"
      ]
     },
     "execution_count": 83,
     "metadata": {},
     "output_type": "execute_result"
    }
   ],
   "source": [
    "X.shape"
   ]
  },
  {
   "cell_type": "code",
   "execution_count": null,
   "metadata": {},
   "outputs": [],
   "source": []
  }
 ],
 "metadata": {
  "kernelspec": {
   "display_name": "Python 3",
   "language": "python",
   "name": "python3"
  },
  "language_info": {
   "codemirror_mode": {
    "name": "ipython",
    "version": 3
   },
   "file_extension": ".py",
   "mimetype": "text/x-python",
   "name": "python",
   "nbconvert_exporter": "python",
   "pygments_lexer": "ipython3",
   "version": "3.5.2"
  }
 },
 "nbformat": 4,
 "nbformat_minor": 2
}
