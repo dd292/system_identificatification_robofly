{
 "cells": [
  {
   "cell_type": "code",
   "execution_count": 2,
   "metadata": {},
   "outputs": [],
   "source": [
    "from Data_interpret.GroundTruth import ReadMat\n",
    "import numpy as np\n",
    "from pathlib import Path\n",
    "import matplotlib.pyplot as plt\n",
    "import sys"
   ]
  },
  {
   "cell_type": "code",
   "execution_count": 10,
   "metadata": {},
   "outputs": [],
   "source": [
    "# Loading DATA\n",
    "train_file = \"../Raw_data/8_8_2019 to 8_12_2019/2019-08-08-19-16-02_5sec.mat\"\n",
    "train_file2 = \"../Raw_data/8_8_2019 to 8_12_2019/2019-08-09-13-01-42_10sec.mat\"\n",
    "train_data = ReadMat(train_file)\n",
    "train_data2 = ReadMat(train_file2)\n",
    "# train_data = ReadMat(train_file2)\n",
    "test_file = \"../Raw_data/8_8_2019 to 8_12_2019/2019-08-09-12-49-56_7sec.mat\"\n",
    "test_data = ReadMat(test_file)\n",
    "\n",
    "# SAMPLING DATA\n",
    "sample_size = 100  # sampling of raw data\n",
    "train_state_traj, train_action_traj = train_data.sampled_mocap_data(sample_size)  # state X time, number of actions X time\n",
    "train_state_traj2, train_action_traj2 = train_data2.sampled_mocap_data(sample_size)  # state X time, number of actions X time\n",
    "test_state_traj, test_action_traj = test_data.sampled_mocap_data(sample_size)"
   ]
  },
  {
   "cell_type": "code",
   "execution_count": 11,
   "metadata": {},
   "outputs": [
    {
     "data": {
      "text/plain": [
       "(9, 1056)"
      ]
     },
     "execution_count": 11,
     "metadata": {},
     "output_type": "execute_result"
    }
   ],
   "source": [
    "train_state_traj2.shape"
   ]
  },
  {
   "cell_type": "code",
   "execution_count": null,
   "metadata": {},
   "outputs": [],
   "source": []
  }
 ],
 "metadata": {
  "kernelspec": {
   "display_name": "Python 3",
   "language": "python",
   "name": "python3"
  },
  "language_info": {
   "codemirror_mode": {
    "name": "ipython",
    "version": 3
   },
   "file_extension": ".py",
   "mimetype": "text/x-python",
   "name": "python",
   "nbconvert_exporter": "python",
   "pygments_lexer": "ipython3",
   "version": "3.5.2"
  }
 },
 "nbformat": 4,
 "nbformat_minor": 2
}
