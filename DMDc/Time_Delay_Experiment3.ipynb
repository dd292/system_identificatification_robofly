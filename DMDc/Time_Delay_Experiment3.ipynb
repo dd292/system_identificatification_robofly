{
 "cells": [
  {
   "cell_type": "code",
   "execution_count": 45,
   "metadata": {},
   "outputs": [],
   "source": [
    "import numpy as np\n",
    "import matplotlib.pyplot as plt\n",
    "from scipy.integrate import *\n",
    "import pandas as pd"
   ]
  },
  {
   "cell_type": "markdown",
   "metadata": {},
   "source": [
    "## Define and Collect Trajectories of the Nonlinear System"
   ]
  },
  {
   "cell_type": "code",
   "execution_count": 2,
   "metadata": {},
   "outputs": [],
   "source": [
    "def nonlinear_system(t,X):\n",
    "    \n",
    "    # specify rate of change of each state\n",
    "    dx1dt = X[0]**2\n",
    "    \n",
    "    # roll up states into a numpy array\n",
    "    dXdt = np.asarray([dx1dt])\n",
    "    \n",
    "    return dXdt"
   ]
  },
  {
   "cell_type": "code",
   "execution_count": 13,
   "metadata": {},
   "outputs": [],
   "source": [
    "# initial condition\n",
    "initial_state = [0.01]\n",
    "dt = 0.01\n",
    "final_time = 80\n",
    "t_vec = np.arange(0,final_time,dt)\n",
    "tspan = np.asarray([0,final_time])\n",
    "\n",
    "states = solve_ivp(nonlinear_system, tspan, initial_state, t_eval = t_vec, method = \"DOP853\")\n",
    "\n",
    "t = states.t\n",
    "x = states.y\n",
    "X = x[0,:]"
   ]
  },
  {
   "cell_type": "code",
   "execution_count": 15,
   "metadata": {},
   "outputs": [
    {
     "name": "stdout",
     "output_type": "stream",
     "text": [
      "(8000,) (8000,)\n"
     ]
    },
    {
     "data": {
      "image/png": "[encoded data removed]",
      "text/plain": [
       "<Figure size 432x288 with 1 Axes>"
      ]
     },
     "metadata": {},
     "output_type": "display_data"
    }
   ],
   "source": [
    "# plot trajectories\n",
    "plt.plot(t,X)\n",
    "print(t.shape,X.shape)"
   ]
  },
  {
   "cell_type": "markdown",
   "metadata": {},
   "source": [
    "## Perform DMD with and without Time Delay Embeddings and Visualize Mode Spectrum"
   ]
  },
  {
   "cell_type": "code",
   "execution_count": 33,
   "metadata": {},
   "outputs": [],
   "source": [
    "def DMD(X,Xprime,r):\n",
    "    ''' This function computes the linear approximation to a nonlinear dynamical system whose state \n",
    "    recordings are passed in.\n",
    "    \n",
    "    Arguments:\n",
    "    \n",
    "    Input:\n",
    "    \n",
    "        X: The states of the system\n",
    "        \n",
    "        Xprime: the rate of change of the states obtained form finite differencing or direct measurement\n",
    "        \n",
    "        r: the rank of the low-rank approximation\n",
    "        \n",
    "    Output:\n",
    "    \n",
    "        Phi: State transition matrix\n",
    "        \n",
    "        Lambda: Eigenvalues of Atilde\n",
    "        \n",
    "        b: Amplitude of the modes\n",
    "    '''\n",
    "    \n",
    "    U,Sigma,VT = np.linalg.svd(X,full_matrices=0) # Step 1\n",
    "    Ur = U[:,:r]\n",
    "    Sigmar = np.diag(Sigma[:r])\n",
    "    VTr = VT[:r,:]\n",
    "    \n",
    "    Atilde = np.linalg.solve(Sigmar.T,(Ur.T @ Xprime @ VTr.T).T).T # Step 2\n",
    "    \n",
    "    Lambda, W = np.linalg.eig(Atilde) # Step 3\n",
    "    Lambda = np.diag(Lambda)\n",
    "    \n",
    "    Phi = Xprime @ np.linalg.solve(Sigmar.T,VTr).T @ W # Step 4\n",
    "    alpha1 = Sigmar @ VTr[:,0]\n",
    "    b = np.linalg.solve(W @ Lambda,alpha1)\n",
    "    \n",
    "    return Phi, Lambda, b, Atilde"
   ]
  },
  {
   "cell_type": "code",
   "execution_count": 34,
   "metadata": {},
   "outputs": [
    {
     "name": "stdout",
     "output_type": "stream",
     "text": [
      "(1000, 7000)\n"
     ]
    },
    {
     "data": {
      "image/png": "[encoded data removed]",
      "text/plain": [
       "<Figure size 432x288 with 1 Axes>"
      ]
     },
     "metadata": {},
     "output_type": "display_data"
    }
   ],
   "source": [
    "# time delay embedding\n",
    "\n",
    "## Eigen-time delay coordinates\n",
    "stackmax = 1000 # Number of shift-stacked rows\n",
    "r = 60  # rank of HAVOK model\n",
    "num_states = 1\n",
    "H = np.zeros((stackmax,X.shape[0]-stackmax))\n",
    "\n",
    "for k in range(0,stackmax,1):\n",
    "    H[k,:] = X[k:-(stackmax-k)]\n",
    "    \n",
    "U,S,VT = np.linalg.svd(H,full_matrices=0)\n",
    "V = VT.T\n",
    "\n",
    "S = S[:r]\n",
    "\n",
    "plt.plot(S/np.sum(S),'o')\n",
    "plt.title('Singular Value Spectrum of Hankel Matrix')\n",
    "plt.ylabel('Singular Value')\n",
    "plt.xlabel('Index of Singular Value')\n",
    "print(H.shape)\n"
   ]
  },
  {
   "cell_type": "code",
   "execution_count": 35,
   "metadata": {},
   "outputs": [
    {
     "name": "stdout",
     "output_type": "stream",
     "text": [
      "[0 1]\n",
      "(1000, 7000)\n"
     ]
    }
   ],
   "source": [
    "latent_vars = np.where(S>1)[0]\n",
    "print(latent_vars)\n",
    "print(H.shape)"
   ]
  },
  {
   "cell_type": "code",
   "execution_count": 36,
   "metadata": {},
   "outputs": [
    {
     "data": {
      "text/plain": [
       "array([5.47457005e+01, 1.36561827e+00, 2.86337702e-02, 4.75909085e-04,\n",
       "       8.62818592e-05, 8.46822671e-06, 3.79632275e-06, 1.61969282e-06,\n",
       "       8.87783904e-07, 4.93899309e-07, 3.08902794e-07, 1.96940541e-07,\n",
       "       1.34297955e-07, 9.31069784e-08, 6.75004167e-08, 4.95944868e-08,\n",
       "       3.75843288e-08, 2.87944671e-08, 2.25853278e-08, 1.78738138e-08,\n",
       "       1.43976911e-08, 1.16848625e-08, 9.62102919e-09, 7.97203177e-09,\n",
       "       6.68130795e-09, 5.63035250e-09, 4.79088564e-09, 4.09592557e-09,\n",
       "       3.52967575e-09, 3.05443036e-09, 2.66157564e-09, 2.32768647e-09,\n",
       "       2.04775997e-09, 1.80729362e-09, 1.60349329e-09, 1.42664114e-09,\n",
       "       1.27526135e-09, 1.14273996e-09, 1.02832101e-09, 9.27312815e-10,\n",
       "       8.39497116e-10, 7.61405859e-10, 6.93004035e-10, 6.31760525e-10,\n",
       "       5.77847381e-10, 5.29292306e-10, 4.86244135e-10, 4.47271853e-10,\n",
       "       4.12581428e-10, 3.81037481e-10, 3.52757350e-10, 3.26948836e-10,\n",
       "       3.03727705e-10, 2.82471277e-10, 2.63207141e-10, 2.45531429e-10,\n",
       "       2.29458782e-10, 2.14679756e-10, 2.01148330e-10, 1.88685411e-10])"
      ]
     },
     "execution_count": 36,
     "metadata": {},
     "output_type": "execute_result"
    }
   ],
   "source": [
    "S"
   ]
  },
  {
   "cell_type": "code",
   "execution_count": 40,
   "metadata": {},
   "outputs": [
    {
     "name": "stdout",
     "output_type": "stream",
     "text": [
      "(1000, 6999) (1000, 6999)\n",
      "Phi = [[ 0.00561502-0.03056871j  0.00561502+0.03056871j -0.02788564-0.01492139j\n",
      "  ...  0.02431133+0.j         -0.03025692+0.j\n",
      "   0.03512026+0.j        ]\n",
      " [ 0.00627086-0.03042784j  0.00627086+0.03042784j -0.02771387-0.01524619j\n",
      "  ...  0.02432319+0.j         -0.03025956+0.j\n",
      "   0.0351126 +0.j        ]\n",
      " [ 0.00691727-0.03027766j  0.00691727+0.03027766j -0.02753889-0.01556791j\n",
      "  ...  0.02433506+0.j         -0.0302622 +0.j\n",
      "   0.03510493+0.j        ]\n",
      " ...\n",
      " [-0.01920987-0.02397226j -0.01920987+0.02397226j -0.01550234+0.0275589j\n",
      "  ...  0.03954499+0.j         -0.03300835+0.j\n",
      "   0.0282485 +0.j        ]\n",
      " [-0.01867014-0.02434402j -0.01867014+0.02434402j -0.01580606+0.02736805j\n",
      "  ...  0.03956429+0.j         -0.03301124+0.j\n",
      "   0.02824233+0.j        ]\n",
      " [-0.01811589-0.02470848j -0.01811589+0.02470848j -0.01610768+0.02717247j\n",
      "  ...  0.0395836 +0.j         -0.03301412+0.j\n",
      "   0.02823616+0.j        ]] \n",
      "\n",
      "Lambda = [[0.99982164+0.0180829j  0.        +0.j         0.        +0.j\n",
      "  0.        +0.j         0.        +0.j         0.        +0.j\n",
      "  0.        +0.j         0.        +0.j         0.        +0.j\n",
      "  0.        +0.j        ]\n",
      " [0.        +0.j         0.99982164-0.0180829j  0.        +0.j\n",
      "  0.        +0.j         0.        +0.j         0.        +0.j\n",
      "  0.        +0.j         0.        +0.j         0.        +0.j\n",
      "  0.        +0.j        ]\n",
      " [0.        +0.j         0.        +0.j         0.99993781+0.01105109j\n",
      "  0.        +0.j         0.        +0.j         0.        +0.j\n",
      "  0.        +0.j         0.        +0.j         0.        +0.j\n",
      "  0.        +0.j        ]\n",
      " [0.        +0.j         0.        +0.j         0.        +0.j\n",
      "  0.99993781-0.01105109j 0.        +0.j         0.        +0.j\n",
      "  0.        +0.j         0.        +0.j         0.        +0.j\n",
      "  0.        +0.j        ]\n",
      " [0.        +0.j         0.        +0.j         0.        +0.j\n",
      "  0.        +0.j         1.00120018+0.00259214j 0.        +0.j\n",
      "  0.        +0.j         0.        +0.j         0.        +0.j\n",
      "  0.        +0.j        ]\n",
      " [0.        +0.j         0.        +0.j         0.        +0.j\n",
      "  0.        +0.j         0.        +0.j         1.00120018-0.00259214j\n",
      "  0.        +0.j         0.        +0.j         0.        +0.j\n",
      "  0.        +0.j        ]\n",
      " [0.        +0.j         0.        +0.j         0.        +0.j\n",
      "  0.        +0.j         0.        +0.j         0.        +0.j\n",
      "  1.00152663+0.j         0.        +0.j         0.        +0.j\n",
      "  0.        +0.j        ]\n",
      " [0.        +0.j         0.        +0.j         0.        +0.j\n",
      "  0.        +0.j         0.        +0.j         0.        +0.j\n",
      "  0.        +0.j         1.00048808+0.j         0.        +0.j\n",
      "  0.        +0.j        ]\n",
      " [0.        +0.j         0.        +0.j         0.        +0.j\n",
      "  0.        +0.j         0.        +0.j         0.        +0.j\n",
      "  0.        +0.j         0.        +0.j         1.0000873 +0.j\n",
      "  0.        +0.j        ]\n",
      " [0.        +0.j         0.        +0.j         0.        +0.j\n",
      "  0.        +0.j         0.        +0.j         0.        +0.j\n",
      "  0.        +0.j         0.        +0.j         0.        +0.j\n",
      "  0.99978163+0.j        ]] \n",
      "\n",
      "b =  [-1.78317606e-10+1.74235124e-09j -1.78317606e-10-1.74235124e-09j\n",
      "  5.07613425e-09-6.74729447e-09j  5.07613425e-09+6.74729447e-09j\n",
      " -3.04744378e-06+8.39938045e-07j -3.04744378e-06-8.39938045e-07j\n",
      " -1.38047034e-06-1.30386849e-16j  2.02800427e-02+8.52920588e-16j\n",
      " -3.06566978e-01+1.20926621e-15j  6.58431011e-03+4.95878651e-16j] \n",
      "\n",
      "Omega = [-1.48519037e-03+1.80841574j -1.48519037e-03-1.80841574j\n",
      " -1.12257563e-04+1.10513236j -1.12257563e-04-1.10513236j\n",
      "  1.20281558e-01+0.25890251j  1.20281558e-01-0.25890251j\n",
      "  1.52546578e-01+0.j          4.87960537e-02+0.j\n",
      "  8.72977662e-03+0.j         -2.18393039e-02+0.j        ] \n",
      "\n",
      "A =  [[ 1.00025860e+00 -3.56690307e-03  1.17043383e-03 -5.18245980e-03\n",
      "   1.53252232e-03 -5.56794489e-03  8.30661264e-04 -5.67118584e-03\n",
      "   8.66693758e-04  5.70197378e-03]\n",
      " [-2.34132296e-05  1.00078227e+00 -7.94571264e-03  1.11821248e-03\n",
      "  -1.04724968e-02  1.32916377e-03 -9.58631560e-03  1.43453350e-03\n",
      "  -9.75890809e-03 -1.51359364e-03]\n",
      " [ 6.04629557e-07 -4.45459299e-05  1.00129318e+00 -1.15196361e-02\n",
      "   3.39251548e-03 -1.23685326e-02  1.82477084e-03 -1.25977394e-02\n",
      "   1.90437336e-03  1.26659796e-02]\n",
      " [ 9.39566880e-10 -1.91421722e-07  7.27857546e-06  9.99890384e-01\n",
      "  -1.54697465e-02 -3.54924394e-05 -1.40055152e-02  8.22456040e-05\n",
      "  -1.42502438e-02 -1.88824649e-04]\n",
      " [-2.41797028e-09  1.66430112e-07 -1.03419207e-05  3.97362118e-04\n",
      "   1.00208795e+00 -1.63232907e-02  2.12786833e-03 -1.64627094e-02\n",
      "   2.25691908e-03  1.65427594e-02]\n",
      " [-1.22448396e-11 -6.81309697e-11 -5.05315932e-08 -2.30686558e-06\n",
      "   1.66335696e-04  9.99938126e-01 -1.87652235e-02  8.96305998e-05\n",
      "  -1.54232528e-02 -1.97621912e-04]\n",
      " [-2.31576283e-11  1.52921764e-09 -9.87519933e-08 -2.74898690e-07\n",
      "   3.54926576e-05  3.77541456e-03  1.00002393e+00 -1.86570447e-02\n",
      "   2.29812044e-04  1.55826145e-02]\n",
      " [-2.55620477e-12  6.32578551e-11 -1.07863551e-08 -3.37153510e-07\n",
      "   8.68134059e-06 -1.96533597e-07  3.40820277e-03  9.99880566e-01\n",
      "  -2.21977542e-02 -1.16780515e-04]\n",
      " [-3.54719829e-12  2.64329766e-10 -1.51442424e-08 -6.82437615e-08\n",
      "   6.22153564e-06  1.71967749e-04  3.12698940e-05  6.68430409e-03\n",
      "   9.99881754e-01  2.25856167e-02]\n",
      " [ 7.26337643e-13 -1.53048879e-11  3.07100491e-09  1.01789852e-07\n",
      "  -1.32203020e-06  8.15826246e-07 -2.66850283e-04 -8.34308652e-06\n",
      "  -7.00563409e-03  9.99766141e-01]]\n"
     ]
    }
   ],
   "source": [
    "# create the X and Xprime matrices of the dimelayed embeddings to pass to the DMD function\n",
    "X_delay_prime = H[:,1:]\n",
    "X_delay = H[:,:-1]\n",
    "\n",
    "print(X_delay.shape,X_delay_prime.shape)\n",
    "# obtain Time Delayed DMD model\n",
    "r = 10 # enter the value of r\n",
    "Phi_delay, Lambda_delay, b_delay, A = DMD(X_delay,X_delay_prime,r)\n",
    "omega_delay = np.log(np.diag(Lambda_delay))/dt\n",
    "\n",
    "print('Phi =',Phi_delay,'\\n')\n",
    "print('Lambda =',Lambda_delay,'\\n')\n",
    "print('b = ',b_delay,'\\n')\n",
    "print('Omega =',omega_delay,'\\n')\n",
    "print('A = ', A)"
   ]
  },
  {
   "cell_type": "code",
   "execution_count": 47,
   "metadata": {},
   "outputs": [
    {
     "data": {
      "text/html": [
       "<div>\n",
       "<style scoped>\n",
       "    .dataframe tbody tr th:only-of-type {\n",
       "        vertical-align: middle;\n",
       "    }\n",
       "\n",
       "    .dataframe tbody tr th {\n",
       "        vertical-align: top;\n",
       "    }\n",
       "\n",
       "    .dataframe thead th {\n",
       "        text-align: right;\n",
       "    }\n",
       "</style>\n",
       "<table border=\"1\" class=\"dataframe\">\n",
       "  <thead>\n",
       "    <tr style=\"text-align: right;\">\n",
       "      <th></th>\n",
       "      <th>0</th>\n",
       "      <th>1</th>\n",
       "      <th>2</th>\n",
       "      <th>3</th>\n",
       "      <th>4</th>\n",
       "      <th>5</th>\n",
       "      <th>6</th>\n",
       "      <th>7</th>\n",
       "      <th>8</th>\n",
       "      <th>9</th>\n",
       "    </tr>\n",
       "  </thead>\n",
       "  <tbody>\n",
       "    <tr>\n",
       "      <th>0</th>\n",
       "      <td>1.000259</td>\n",
       "      <td>0.000000</td>\n",
       "      <td>0.001170</td>\n",
       "      <td>0.000000</td>\n",
       "      <td>0.001533</td>\n",
       "      <td>0.000000</td>\n",
       "      <td>0.000000</td>\n",
       "      <td>0.000000</td>\n",
       "      <td>0.000000</td>\n",
       "      <td>0.005702</td>\n",
       "    </tr>\n",
       "    <tr>\n",
       "      <th>1</th>\n",
       "      <td>0.000000</td>\n",
       "      <td>1.000782</td>\n",
       "      <td>0.000000</td>\n",
       "      <td>0.001118</td>\n",
       "      <td>0.000000</td>\n",
       "      <td>0.001329</td>\n",
       "      <td>0.000000</td>\n",
       "      <td>0.001435</td>\n",
       "      <td>0.000000</td>\n",
       "      <td>0.000000</td>\n",
       "    </tr>\n",
       "    <tr>\n",
       "      <th>2</th>\n",
       "      <td>0.000000</td>\n",
       "      <td>0.000000</td>\n",
       "      <td>1.001293</td>\n",
       "      <td>0.000000</td>\n",
       "      <td>0.003393</td>\n",
       "      <td>0.000000</td>\n",
       "      <td>0.001825</td>\n",
       "      <td>0.000000</td>\n",
       "      <td>0.001904</td>\n",
       "      <td>0.012666</td>\n",
       "    </tr>\n",
       "    <tr>\n",
       "      <th>3</th>\n",
       "      <td>0.000000</td>\n",
       "      <td>0.000000</td>\n",
       "      <td>0.000000</td>\n",
       "      <td>0.999890</td>\n",
       "      <td>0.000000</td>\n",
       "      <td>0.000000</td>\n",
       "      <td>0.000000</td>\n",
       "      <td>0.000000</td>\n",
       "      <td>0.000000</td>\n",
       "      <td>0.000000</td>\n",
       "    </tr>\n",
       "    <tr>\n",
       "      <th>4</th>\n",
       "      <td>0.000000</td>\n",
       "      <td>0.000000</td>\n",
       "      <td>0.000000</td>\n",
       "      <td>0.000000</td>\n",
       "      <td>1.002088</td>\n",
       "      <td>0.000000</td>\n",
       "      <td>0.002128</td>\n",
       "      <td>0.000000</td>\n",
       "      <td>0.002257</td>\n",
       "      <td>0.016543</td>\n",
       "    </tr>\n",
       "    <tr>\n",
       "      <th>5</th>\n",
       "      <td>0.000000</td>\n",
       "      <td>0.000000</td>\n",
       "      <td>0.000000</td>\n",
       "      <td>0.000000</td>\n",
       "      <td>0.000000</td>\n",
       "      <td>0.999938</td>\n",
       "      <td>0.000000</td>\n",
       "      <td>0.000000</td>\n",
       "      <td>0.000000</td>\n",
       "      <td>0.000000</td>\n",
       "    </tr>\n",
       "    <tr>\n",
       "      <th>6</th>\n",
       "      <td>0.000000</td>\n",
       "      <td>0.000000</td>\n",
       "      <td>0.000000</td>\n",
       "      <td>0.000000</td>\n",
       "      <td>0.000000</td>\n",
       "      <td>0.003775</td>\n",
       "      <td>1.000024</td>\n",
       "      <td>0.000000</td>\n",
       "      <td>0.000000</td>\n",
       "      <td>0.015583</td>\n",
       "    </tr>\n",
       "    <tr>\n",
       "      <th>7</th>\n",
       "      <td>0.000000</td>\n",
       "      <td>0.000000</td>\n",
       "      <td>0.000000</td>\n",
       "      <td>0.000000</td>\n",
       "      <td>0.000000</td>\n",
       "      <td>0.000000</td>\n",
       "      <td>0.003408</td>\n",
       "      <td>0.999881</td>\n",
       "      <td>0.000000</td>\n",
       "      <td>0.000000</td>\n",
       "    </tr>\n",
       "    <tr>\n",
       "      <th>8</th>\n",
       "      <td>0.000000</td>\n",
       "      <td>0.000000</td>\n",
       "      <td>0.000000</td>\n",
       "      <td>0.000000</td>\n",
       "      <td>0.000000</td>\n",
       "      <td>0.000000</td>\n",
       "      <td>0.000000</td>\n",
       "      <td>0.006684</td>\n",
       "      <td>0.999882</td>\n",
       "      <td>0.022586</td>\n",
       "    </tr>\n",
       "    <tr>\n",
       "      <th>9</th>\n",
       "      <td>0.000000</td>\n",
       "      <td>0.000000</td>\n",
       "      <td>0.000000</td>\n",
       "      <td>0.000000</td>\n",
       "      <td>0.000000</td>\n",
       "      <td>0.000000</td>\n",
       "      <td>0.000000</td>\n",
       "      <td>0.000000</td>\n",
       "      <td>0.000000</td>\n",
       "      <td>0.999766</td>\n",
       "    </tr>\n",
       "  </tbody>\n",
       "</table>\n",
       "</div>"
      ],
      "text/plain": [
       "          0         1         2         3         4         5         6  \\\n",
       "0  1.000259  0.000000  0.001170  0.000000  0.001533  0.000000  0.000000   \n",
       "1  0.000000  1.000782  0.000000  0.001118  0.000000  0.001329  0.000000   \n",
       "2  0.000000  0.000000  1.001293  0.000000  0.003393  0.000000  0.001825   \n",
       "3  0.000000  0.000000  0.000000  0.999890  0.000000  0.000000  0.000000   \n",
       "4  0.000000  0.000000  0.000000  0.000000  1.002088  0.000000  0.002128   \n",
       "5  0.000000  0.000000  0.000000  0.000000  0.000000  0.999938  0.000000   \n",
       "6  0.000000  0.000000  0.000000  0.000000  0.000000  0.003775  1.000024   \n",
       "7  0.000000  0.000000  0.000000  0.000000  0.000000  0.000000  0.003408   \n",
       "8  0.000000  0.000000  0.000000  0.000000  0.000000  0.000000  0.000000   \n",
       "9  0.000000  0.000000  0.000000  0.000000  0.000000  0.000000  0.000000   \n",
       "\n",
       "          7         8         9  \n",
       "0  0.000000  0.000000  0.005702  \n",
       "1  0.001435  0.000000  0.000000  \n",
       "2  0.000000  0.001904  0.012666  \n",
       "3  0.000000  0.000000  0.000000  \n",
       "4  0.000000  0.002257  0.016543  \n",
       "5  0.000000  0.000000  0.000000  \n",
       "6  0.000000  0.000000  0.015583  \n",
       "7  0.999881  0.000000  0.000000  \n",
       "8  0.006684  0.999882  0.022586  \n",
       "9  0.000000  0.000000  0.999766  "
      ]
     },
     "execution_count": 47,
     "metadata": {},
     "output_type": "execute_result"
    }
   ],
   "source": [
    "ind = np.where(A<1e-3)\n",
    "A[ind] = 0\n",
    "A_pd = pd.DataFrame(data = A)\n",
    "A_pd.head(19)"
   ]
  },
  {
   "cell_type": "code",
   "execution_count": 38,
   "metadata": {},
   "outputs": [
    {
     "name": "stderr",
     "output_type": "stream",
     "text": [
      "/usr/local/lib/python3.5/dist-packages/ipykernel_launcher.py:6: ComplexWarning: Casting complex values to real discards the imaginary part\n",
      "  \n"
     ]
    },
    {
     "name": "stdout",
     "output_type": "stream",
     "text": [
      "(10, 6999) (1000, 10) (1000, 6999)\n"
     ]
    }
   ],
   "source": [
    "# reconstruct dynamics with DMD as a sanity check\n",
    "\n",
    "time_dynamics_delay = np.zeros([r,X_delay.shape[1]])\n",
    "\n",
    "for i in range(time_dynamics_delay.shape[1]):\n",
    "    time_dynamics_delay[:,i] = b_delay*np.exp(omega_delay*t_vec[i])\n",
    "    \n",
    "X_dmd_delay = np.dot(Phi_delay,time_dynamics_delay)\n",
    "\n",
    "print(time_dynamics_delay.shape,Phi_delay.shape,X_dmd_delay.shape)"
   ]
  },
  {
   "cell_type": "code",
   "execution_count": 39,
   "metadata": {},
   "outputs": [
    {
     "data": {
      "text/plain": [
       "6999"
      ]
     },
     "execution_count": 39,
     "metadata": {},
     "output_type": "execute_result"
    }
   ],
   "source": [
    "time_dynamics_delay.shape[1]"
   ]
  },
  {
   "cell_type": "code",
   "execution_count": 84,
   "metadata": {},
   "outputs": [
    {
     "name": "stderr",
     "output_type": "stream",
     "text": [
      "/home/ashwin/.local/lib/python3.5/site-packages/numpy/core/numeric.py:501: ComplexWarning: Casting complex values to real discards the imaginary part\n",
      "  return array(a, dtype, copy=False, order=order)\n"
     ]
    },
    {
     "name": "stdout",
     "output_type": "stream",
     "text": [
      "\n"
     ]
    },
    {
     "data": {
      "image/png": "[encoded data removed]",
      "text/plain": [
       "<Figure size 432x288 with 1 Axes>"
      ]
     },
     "metadata": {},
     "output_type": "display_data"
    }
   ],
   "source": [
    "X_dmd_delay_model = X_dmd_delay[:,:]\n",
    "\n",
    "# plot to compare the DMD modes to the actual data\n",
    "end_delay = X_dmd_delay_model.shape[1]\n",
    "t_delay = t[:end_delay]\n",
    "plt.plot(t_delay,X[:end_delay],label='x')\n",
    "plt.plot(t_delay,X_dmd_delay_model[0,:],label='y')\n",
    "plt.legend()\n",
    "plt.title(\"Checking DMD Fit on the Time Delay Embeddings\")\n",
    "plt.xlabel('Time')\n",
    "plt.ylabel('State')\n",
    "\n",
    "print()"
   ]
  },
  {
   "cell_type": "markdown",
   "metadata": {},
   "source": [
    "## Reconstruct Using Koopman Triplet"
   ]
  },
  {
   "cell_type": "code",
   "execution_count": 101,
   "metadata": {},
   "outputs": [],
   "source": [
    "rank = 5\n",
    "K = np.zeros([rank,rank])\n",
    "for i in range(rank-1):\n",
    "    K[i,i+1] = i+1\n",
    "    \n",
    "# define the eigenfucntion\n",
    "n = 1000\n",
    "lamb = np.arange(1,n+1)\n",
    "eigen_func = np.asarray([ np.exp(-lamb[i-1]/X) for i in lamb ])\n",
    "\n",
    "eig_forecast = np.sum(eigen_func,axis = 0)"
   ]
  },
  {
   "cell_type": "code",
   "execution_count": 102,
   "metadata": {},
   "outputs": [
    {
     "data": {
      "text/plain": [
       "<matplotlib.legend.Legend at 0x7faa377d3400>"
      ]
     },
     "execution_count": 102,
     "metadata": {},
     "output_type": "execute_result"
    },
    {
     "data": {
      "image/png": "[encoded data removed]",
      "text/plain": [
       "<Figure size 432x288 with 1 Axes>"
      ]
     },
     "metadata": {},
     "output_type": "display_data"
    }
   ],
   "source": [
    "plt.plot(t,eig_forecast,label = 'forecasted')\n",
    "plt.plot(t,X,label = 'true')\n",
    "plt.legend()"
   ]
  },
  {
   "cell_type": "code",
   "execution_count": null,
   "metadata": {},
   "outputs": [],
   "source": []
  }
 ],
 "metadata": {
  "kernelspec": {
   "display_name": "Python 3",
   "language": "python",
   "name": "python3"
  },
  "language_info": {
   "codemirror_mode": {
    "name": "ipython",
    "version": 3
   },
   "file_extension": ".py",
   "mimetype": "text/x-python",
   "name": "python",
   "nbconvert_exporter": "python",
   "pygments_lexer": "ipython3",
   "version": "3.5.2"
  }
 },
 "nbformat": 4,
 "nbformat_minor": 2
}
